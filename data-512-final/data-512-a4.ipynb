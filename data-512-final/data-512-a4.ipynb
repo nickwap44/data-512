{
 "cells": [
  {
   "cell_type": "markdown",
   "metadata": {},
   "source": [
    "# A4: Final Project Preliminary Proposal"
   ]
  },
  {
   "cell_type": "markdown",
   "metadata": {},
   "source": [
    "Nicholas Wapstra"
   ]
  },
  {
   "cell_type": "markdown",
   "metadata": {},
   "source": [
    "## Motivation and Problem Statement"
   ]
  },
  {
   "cell_type": "markdown",
   "metadata": {},
   "source": [
    "With COVID-19 continuing to be a pressing issue for people across the world, I want to do a project centered around COVID-19 outcomes, specifically in Washington State. I think that having a more clear understanding about how we can predict potentially poor outcomes can be beneficial in deciding where to distribute our resources. Therefore, for my final project I would like to develop a model to predict poor COVID-19 outcomes (death percentage of the county population) by Washington State county based on known COVID-19 risk factors such as age, race/ethnicity makeup, gender distribution, income per capita, and population per square mile. I think this sort of model would work on two fronts. From a prediction standpoint, it would indicate which counties are especially susceptible to poor COVID outcomes. This type of model could also give some indication about which regressors are most significant in predicting poor outcomes. I hope to learn more about how COVID-19 is impacting Washington State counties differently based on different factors, and if this model could be applied to counties across the country."
   ]
  },
  {
   "cell_type": "markdown",
   "metadata": {},
   "source": [
    "## Data Selected For Analysis"
   ]
  },
  {
   "cell_type": "markdown",
   "metadata": {},
   "source": [
    "I will be using multiple datasets for this analysis that I will outline below:\n",
    "\n",
    "**Washington State County COVID-19 data** (https://www.doh.wa.gov/Emergencies/COVID19/DataDashboard)\n",
    "This dataset provides COVID-19 cases, hospitalizations, and deaths by Washington State county by month. This data provides the information necessary to understand the death count related to COVID for each county in Washington state which will help represent the dependent variable in the analysis. The license for the dataset is Public Domain (https://www.doh.wa.gov/DataandStatisticalReports/DataGuidelines). The data provided is strictly counts of COVID-19 related death with no identifiers to individuals that were affected beyond their county of residence.\n",
    "\n",
    "**Washington State Population Density data** (https://data.wa.gov/Demographics/WAOFM-Census-Population-Density-by-County-by-Decad/e6ip-wkqq)\n",
    "This dataset provides population density for each Washington State county. Population density is measured by person per square mile. This will be an independent variable in the model. The license for this dataset is Public Domain (http://www.ofm.wa.gov/pop/popden/default.asp). Population density has been listed as a risk factor for COVID-19 and therefore may help predict a county's poor outcomes relating to COVID-19. There are not any clear ethical considerations when using this dataset.\n",
    "\n",
    "**Personal Income Per Capita by US County data** (https://apps.bea.gov/itable/iTable.cfm?ReqID=70&step=1)\n",
    "This dataset provides income per capity for each US county. I plan to limit the counts to Washington State counties. The license for this dataset is Public Domain, CC0 (https://github.com/us-bea/eu.us.opendata/blob/master/LICENSE). Poverty has been linked as a risk factor for COVID-19. Therefore, I will be using income per capita as a measure of poverty for the model. It is important to consider that this measure of poverty may not be entirely representative of the risk factor of interest. There are people in poverty within King County that will be masked by high-earners in the area. \n",
    "\n",
    "**Age, Sex, Race, and Hispanic Origin by US County data** (https://www.census.gov/data/tables/time-series/demo/popest/2010s-counties-detail.html)\n",
    "This data provides population counts for each county with age, sex, race, and hispanic origin counts provided. The license for this dataset is Public Domain (https://www.census.gov/about/policies/open-gov/open-data.html). Sex and race have been implicated as potential risk factors for COVID-19. I have not yet decided how I will incorporate these measures into the model. I may use percentage of females and percentage of non-white minorities in a given county. This will require some outside research to determine what would be a good way to tackle this metric. It is important to note that there are no identifiers besides counts that will be used in the model.\n"
   ]
  },
  {
   "cell_type": "markdown",
   "metadata": {},
   "source": [
    "## Unknowns and Dependencies"
   ]
  },
  {
   "cell_type": "markdown",
   "metadata": {},
   "source": [
    "While I do think that this project would be able to be reasonably completed by the end of the quarter, there are certainly some unknowns and dependencies introduced by working on a COVID-19 project in the middle of the pandemic. This dataset will be updated weekly and the story of COVID-19 transmission risk factors and outcomes is actively unfolding. I will need to select a cutoff date for COVID-19 outcomes. There is the potential that new risk factors could emerge for consideration during the duration of the project. If this is the case, I might need to consider adding this factor in which could impact the findings. The COVID-19 and census datasets are public, so I do not anticipate running into any issues with access of this data."
   ]
  }
 ],
 "metadata": {
  "kernelspec": {
   "display_name": "Python 3",
   "language": "python",
   "name": "python3"
  },
  "language_info": {
   "codemirror_mode": {
    "name": "ipython",
    "version": 3
   },
   "file_extension": ".py",
   "mimetype": "text/x-python",
   "name": "python",
   "nbconvert_exporter": "python",
   "pygments_lexer": "ipython3",
   "version": "3.7.4"
  }
 },
 "nbformat": 4,
 "nbformat_minor": 4
}
