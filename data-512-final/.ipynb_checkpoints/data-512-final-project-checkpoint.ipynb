{
 "cells": [
  {
   "cell_type": "markdown",
   "metadata": {},
   "source": [
    "# DATA 512 Final Project: Contructing a Predictive Model of Poor COVID-19 Outcomes in Washington State Counties"
   ]
  },
  {
   "cell_type": "markdown",
   "metadata": {},
   "source": [
    "Nicholas Wapstra\n",
    "\n",
    "University of Washington - Master of Science in Data Science Program\n",
    "\n",
    "December 9, 2020"
   ]
  },
  {
   "cell_type": "markdown",
   "metadata": {},
   "source": [
    "## Introduction"
   ]
  },
  {
   "cell_type": "markdown",
   "metadata": {},
   "source": [
    "With COVID-19 continuing to be a pressing issue for people across the world, it is imperative to further our understanding of factors that play into how this virus spreads and populations that are most vulnerable. As a Washington state resident, I decided to focus my research on how COVID-19 has been effecting my region specifically. Having a clearer understanding about how we can predict potentially poor outcomes can be beneficial in deciding where to distribute our resources. Therefore, for my final project I developed a model to predict poor COVID-19 outcomes (death per capita) by Washington State county based on known COVID-19 risk factors such as age, racial/ethnic makeup, gender distribution, income per capita, population density, pre-existing health conditions, and access to healthcare. Analysis has been completed examining how these factors effect COVID-19 spread and hospitalizations, but to my knowledge, there has not been a predictive analysis such as the one I have proposed. A predictive model would be beneficial to furthering our understanding from multiple angles. From a prediction standpoint, it would indicate which counties are especially susceptible to poor COVID outcomes. This information could be used to understand where medical and virus prevention resources would best be allocated. As a secondary outcome, this type of model could also give some indication about which regressors are most significant in predicting poor outcomes. Finally, I hope to learn if the predictive model for Washington State is informative for counties across the country that are located in states with similar COVID-19 guidelines (California) and less restrictive guidelines (Florida). Worse performance in states with less restrictive guidelines could be a reflection of the impact of the differing policy decisions."
   ]
  },
  {
   "cell_type": "markdown",
   "metadata": {},
   "source": [
    "## Background and Related Work"
   ]
  },
  {
   "cell_type": "markdown",
   "metadata": {},
   "source": [
    "COVID-19 is an area of active study at this point across the globe due to its immense impact on public health, safety, and the economy. Not all Americans are at an equal risk of infection and poor outcomes, however. My decision to perform this study was heavily influenced by the work of [Chin et al.](https://www.ncbi.nlm.nih.gov/pmc/articles/PMC7276037/) who examined the county-level differences in COVID-19 risk factors across the United States. This paper and the works it cites were the basis for my selection of variables that represent risk factors for COVID-19. There are disparities in appropriate medical resources across counties that can determine [outcomes of patients effected with COVID-19](https://qventus.com/blog/predicting-the-effects-of-the-covid-pandemic-on-us-health-system-capacity/). There is also data that reflects the disproportionate impact of COVID-19 on [people of color](https://www.propublica.org/article/early-data-shows-african-americans-have-contracted-and-died-of-coronavirus-at-an-alarming-rate). [Age](https://jamanetwork.com/journals/jama/fullarticle/2762130) and [pre-existing health conditions](https://www.cdc.gov/mmwr/volumes/69/wr/mm6912e2.htm) are recognized as important biological risk factors. [Population density](https://www.themarshallproject.org/2020/03/19/this-chart-shows-why-the-prison-population-is-so-vulnerable-to-covid-19), [health insurance coverage](https://www.census.gov/content/dam/Census/library/publications/2019/demo/p60-267.pdf), and [poverty](https://www.healthaffairs.org/do/10.1377/hpb20180817.901935/full/) were also considered to be important risk factors.\n",
    "\n",
    "While this study examined county-specific characteristics across the country, I believe that it is important to scale down to the local level to examine trends in the data. As a Washington resident, I wanted to narrow my focus to Washington counties. Because many COVID-19 guidelines are set at the county and state levels, it is of utmost importance to understand which counties in our state are being most impacted and what the drivers behind these poor outcomes are. The paper did not include an extension to develop a predictive model of poor outcomes which I believe could help inform where resources should be distributed. My hope is to fill this gap.\n",
    "\n",
    "Beyond understanding what factors are most important in determining COVID-19 outcomes, I think it is important to see how factors that have a heavy influence in Washington state, where guidelines around COVID-19 are fairly strict, compare to counties in states with similar and different guidelines. Examining model performance in these counties can provide insight into how universal these risk factors are in COVID-19 outcomes, and shed light on how different state responses might be introducing some variability into the equation."
   ]
  },
  {
   "cell_type": "markdown",
   "metadata": {},
   "source": [
    "## Research Questions and Hypotheses"
   ]
  },
  {
   "cell_type": "markdown",
   "metadata": {},
   "source": [
    "**Question 1**: Can we develop a predictive model of poor COVID-19 outcomes (by death percentage of county population) in Washington state counties based on risk factors including age, sex, racial makeup, income per capita, population density, pre-existing health conditions, and access to healthcare?\n",
    "\n",
    "**Hypothesis 1**: Our predictive model will be able to predict poor outcomes by county with a high degree of accuracy reflected by a low mean-sqared error value (MSE).\n",
    "\n",
    "**Question 2**: Which of the associated COVID-19 risk factors are most important in predicting poor outcomes on a per county basis?\n",
    "\n",
    "**Hypothesis 2**: Age, pre-existing health conditions, and population density will prove to be significant and positively associated with predicting poor COVID-19 outcomes on a per county basis.\n",
    "\n",
    "**Question 3**: How well does our model, trained on Washington state counties, predict poor outcomes in counties of other states with similar COVID-19 restrictions (i.e. California) and those with less restrictions (i.e. Florida)?\n",
    "\n",
    "**Hypothesis 3**: Our model will produce outcomes with similar accuracy in the state with similar COVID-19 restrictions and less accuracy where restrictions are different."
   ]
  },
  {
   "cell_type": "markdown",
   "metadata": {},
   "source": [
    "## Data Selected For Analysis"
   ]
  },
  {
   "cell_type": "markdown",
   "metadata": {},
   "source": [
    "I will be using multiple datasets for this analysis that I will outline below:\n",
    "\n",
    "**Washington State County COVID-19 data** [Dataset](https://www.doh.wa.gov/Emergencies/COVID19/DataDashboard)\n",
    "\n",
    "This dataset provides COVID-19 cases, hospitalizations, and deaths by Washington State county by month (last updated on 12/3/2020). This data provides the information necessary to understand the death count related to COVID for each county in Washington state which will help represent the dependent variable in the analysis. The license for the dataset is Public Domain [(License)](https://www.doh.wa.gov/DataandStatisticalReports/DataGuidelines). The data provided is strictly counts of COVID-19 related death with no identifiers to individuals that were affected beyond their county of residence.\n",
    "\n",
    "**California County COVID-19 data** [Dataset](https://data.ca.gov/dataset/covid-19-cases)\n",
    "\n",
    "This dataset provides COVID-19 cases, hospitalizations, and deaths for California counties by day (last updated on 12/3/2020). This data provides the information necessary to understand the death count related to COVID for each county in California which will help represent the dependent variable in the analysis when assessing the WA county model across other states. The license for the dataset is Public Domain [(License)](https://data.ca.gov/dataset/covid-19-cases). The data provided is strictly counts of COVID-19 related death with no identifiers to individuals that were affected beyond their county of residence.\n",
    "\n",
    "**Florida County COVID-19 data** [Dataset](https://open-fdoh.hub.arcgis.com/datasets/florida-covid19-cases-by-county?geometry=-117.476%2C23.602%2C-49.229%2C36.843)\n",
    "\n",
    "This dataset provides COVID-19 cases, hospitalizations, and deaths for Florida counties by day (last updated on 12/3/2020). This data provides the information necessary to understand the death count related to COVID for each county in Florida which will help represent the dependent variable in the analysis when assessing the WA county model across other states. The license for the dataset is Public Domain [(License)](https://open-fdoh.hub.arcgis.com/datasets/florida-covid19-cases-by-county?geometry=-117.476%2C23.602%2C-49.229%2C36.843). The data provided is strictly counts of COVID-19 related death with no identifiers to individuals that were affected beyond their county of residence.\n",
    "\n",
    "**Land Area by US County data** [Dataset](https://www.census.gov/library/publications/2011/compendia/usa-counties-2011.html)\n",
    "\n",
    "This dataset provides land area by square mile for each county across the country from 2011. Population density is measured by person per square mile. This data will go into calculating the current population density by county. This will be an independent variable in the model. The license for this dataset is Public Domain [(License)](https://www.census.gov/about/policies/open-gov/open-data.html). Population density has been listed as a risk factor for COVID-19 and therefore may help predict a county's poor outcomes relating to COVID-19. There are not any clear ethical considerations when using this dataset.\n",
    "\n",
    "**Personal Income Per Capita by US County data** [Dataset](https://apps.bea.gov/itable/iTable.cfm?ReqID=70&step=1)\n",
    "\n",
    "This dataset provides income per capity estimates for each US county from 2019. I plan to limit the counts to Washington State, California, and Florida counties. The license for this dataset is Public Domain, CC0 [(License)](https://github.com/us-bea/eu.us.opendata/blob/master/LICENSE). Poverty has been linked as a risk factor for COVID-19. Therefore, I will be using income per capita as a measure of poverty for the model. It is important to consider that this measure of poverty may not be entirely representative of the risk factor of interest. There are people in poverty within King County that will be masked by high-earners in the area. \n",
    "\n",
    "**Age, Sex, Race, and Hispanic Origin by US County data** [Dataset](https://www.census.gov/data/tables/time-series/demo/popest/2010s-counties-detail.html)\n",
    "\n",
    "This data provides population count estimates for each county with age, sex, race, and hispanic origin counts provided from 2019. The license for this dataset is Public Domain [(License)](https://www.census.gov/about/policies/open-gov/open-data.html). Sex and race have been implicated as potential risk factors for COVID-19. Population will be used to calculate the population density, percent of population that is female, and percent of population that is non-white. It is important to note that there are no identifiers besides counts that will be used in the model.\n",
    "\n",
    "**Diabetes Prevalence by US County data** [Dataset](https://www.cdc.gov/diabetes/data/statistics/faqs.html#data)\n",
    "\n",
    "This data provides estimated percentage of the population with a diabetes diagnosis for each county from 2019. The license for this dataset is Public Domain [(License)](https://www.cdc.gov/nchs/data_access/restrictions.htm). Pre-existing health conditions have been implicated as a risk factor for COVID-19. I will be using diabetes prevalence as a proxy for this measure based on availability of data. There are no identifiers besides the percentage of the population with diabetes.\n",
    "\n",
    "**Small Area Health Insurance Estimates (SAHIE) using the American Community Survey (ACS) data** [Dataset](https://www.census.gov/data/datasets/time-series/demo/sahie/estimates-acs.html)\n",
    "\n",
    "This data provides estimates of the percentage of the population that are uninsured by county from 2018.The license for this dataset is Public Domain [(License)](https://www.census.gov/about/policies/open-gov/open-data.html). I will be using the percentage of uninsured by county as a proxy to access to healthcare based on the availability of data. There are no identifiers besides the percentage of the population with diabetes.\n",
    "\n",
    "\n",
    "Steps:\n",
    "Complete EDA and writeup for findings\n",
    "Run and compare lasso and ridge regression findings\n",
    "Answer research questions\n",
    "Clean up with comments etc.\n",
    "Fix README and publish project"
   ]
  },
  {
   "cell_type": "markdown",
   "metadata": {},
   "source": [
    "## Methodology"
   ]
  },
  {
   "cell_type": "markdown",
   "metadata": {},
   "source": [
    "To answer the research questions listed above, I completed the following steps:\n",
    "\n",
    "**1. Clean and organize the data**: I combined the data sources listing COVID-19, demographic, population density, income, health insurance, and diabetes prevalance data into final datasets for each state. This required organizing the counties into rows with columns for average age, gender makeup, racial/ethnic makeup, income per capita, population density, percentage of uninsured individuals, prevalence of diabetes and COVID-19 death per capita. For the gender and racial/ethnic makeup, calculated '% of county population that is female' and '% of county population that is non-white', respectively. I will screen the counties to look for missing data. If a county does not have a complete dataset, I will either remove them from the analysis or impute values if it makes sense to do so. I will look for outliers across the dataset, and if there have been any mistakes in data reporting I will remove that county from the analysis. I will generate similar tables for California and Florida data to be used for the third research question.\n",
    "\n",
    "**2. Complete an exploratory data analysis**: I examined the variables to see if they are normally distributed or are correlated with one another. I determined if they are linearly associated with the outcome variable, or if any of the variables needed to be transformed. At this stage, I determined what type of model will be appropriate for the dataset.\n",
    "\n",
    "**3. Design a model and assess performance**: I selected ridge regression as the model for the dataset because it allowed for prediction, but also transparency in which regressors are most important in predicting poor outcomes. I examined varying values of the alpha parameter to see which performs most accurately for prediction. I trained the model by completing a train/test data split. I assessed accuracy by examining mean-squared error because the outcome variable is continuous.\n",
    "\n",
    "**4. Apply model to counties from other states**: While still training the model on Washington state county data, I assessed the performance of the model across counties in California and Florida. These produced mean-squared error values for each state to determine the accuracy of the model.\n",
    "\n",
    "**5. Draw conclusions**: At this stage, I summarized my findings from the three research questions that were asked and proposed avenues for further research."
   ]
  },
  {
   "cell_type": "markdown",
   "metadata": {},
   "source": [
    "### Data Cleaning and Preprocessing"
   ]
  },
  {
   "cell_type": "markdown",
   "metadata": {},
   "source": [
    "The necessary libraries for data cleaning, data manipulation, and exploratory data analysis were downloaded."
   ]
  },
  {
   "cell_type": "code",
   "execution_count": 1,
   "metadata": {},
   "outputs": [],
   "source": [
    "import pandas as pd\n",
    "import matplotlib.pyplot as plt\n",
    "import seaborn as sn\n",
    "import numpy as np"
   ]
  },
  {
   "cell_type": "markdown",
   "metadata": {},
   "source": [
    "As a first step, I set up the \"final datasets\" for each of the three states of interest. Washington state data was used for training the model. California and Florida data were used as test data for the model in later steps."
   ]
  },
  {
   "cell_type": "markdown",
   "metadata": {},
   "source": [
    "#### Washington Data"
   ]
  },
  {
   "cell_type": "markdown",
   "metadata": {},
   "source": [
    "Datasets that were sourced from the various sources listed above were downloaded. These include COVID-19 county statistics, income per capita, land area by square mile, population, age, percent of female population, percent of non-white population, percent of individuals with diabetes, and percent of the population that are uninsured."
   ]
  },
  {
   "cell_type": "code",
   "execution_count": 2,
   "metadata": {},
   "outputs": [],
   "source": [
    "# Import the necessary datasets\n",
    "wa_deaths = pd.read_csv('covid-wa-county-deaths.csv')\n",
    "wa_ipc = pd.read_csv('wa-county-incomepercapita.csv')\n",
    "wa_landarea = pd.read_csv('us-county-landarea.csv')\n",
    "wa_age = pd.read_csv('wa-county-popchar-age.csv')\n",
    "wa_racialid = pd.read_csv('wa-county-popchar-racial-identity.csv')\n",
    "wa_pehealth = pd.read_csv('us-diabetes-county.csv')\n",
    "wa_healthins = pd.read_csv('us-county-health-insurance.csv')"
   ]
  },
  {
   "cell_type": "markdown",
   "metadata": {},
   "source": [
    "To extract the COVID-19 death statistics, counties and deaths were subset from the main dataset and the death counts were summed across timepoints."
   ]
  },
  {
   "cell_type": "code",
   "execution_count": 3,
   "metadata": {},
   "outputs": [
    {
     "data": {
      "text/html": [
       "<div>\n",
       "<style scoped>\n",
       "    .dataframe tbody tr th:only-of-type {\n",
       "        vertical-align: middle;\n",
       "    }\n",
       "\n",
       "    .dataframe tbody tr th {\n",
       "        vertical-align: top;\n",
       "    }\n",
       "\n",
       "    .dataframe thead th {\n",
       "        text-align: right;\n",
       "    }\n",
       "</style>\n",
       "<table border=\"1\" class=\"dataframe\">\n",
       "  <thead>\n",
       "    <tr style=\"text-align: right;\">\n",
       "      <th></th>\n",
       "      <th>County</th>\n",
       "      <th>Deaths</th>\n",
       "    </tr>\n",
       "    <tr>\n",
       "      <th>index</th>\n",
       "      <th></th>\n",
       "      <th></th>\n",
       "    </tr>\n",
       "  </thead>\n",
       "  <tbody>\n",
       "    <tr>\n",
       "      <th>Adams</th>\n",
       "      <td>Adams</td>\n",
       "      <td>12</td>\n",
       "    </tr>\n",
       "    <tr>\n",
       "      <th>Asotin</th>\n",
       "      <td>Asotin</td>\n",
       "      <td>12</td>\n",
       "    </tr>\n",
       "    <tr>\n",
       "      <th>Benton</th>\n",
       "      <td>Benton</td>\n",
       "      <td>141</td>\n",
       "    </tr>\n",
       "    <tr>\n",
       "      <th>Chelan</th>\n",
       "      <td>Chelan</td>\n",
       "      <td>22</td>\n",
       "    </tr>\n",
       "    <tr>\n",
       "      <th>Clallam</th>\n",
       "      <td>Clallam</td>\n",
       "      <td>3</td>\n",
       "    </tr>\n",
       "  </tbody>\n",
       "</table>\n",
       "</div>"
      ],
      "text/plain": [
       "          County  Deaths\n",
       "index                   \n",
       "Adams      Adams      12\n",
       "Asotin    Asotin      12\n",
       "Benton    Benton     141\n",
       "Chelan    Chelan      22\n",
       "Clallam  Clallam       3"
      ]
     },
     "execution_count": 3,
     "metadata": {},
     "output_type": "execute_result"
    }
   ],
   "source": [
    "# Extract county name and deaths\n",
    "wa_deaths = wa_deaths[['County','Deaths']]\n",
    "wa_deaths['County'] = wa_deaths['County'].str[:-7]\n",
    "\n",
    "# Sum the cumulative deaths\n",
    "aggregation_functions = {'County': 'first', 'Deaths': 'sum'}\n",
    "wa_deaths = wa_deaths.groupby(wa_deaths['County']).aggregate(aggregation_functions)\n",
    "wa_deaths.index.names = [\"index\"]\n",
    "\n",
    "# Check the variables for accuracy\n",
    "wa_deaths.head()"
   ]
  },
  {
   "cell_type": "markdown",
   "metadata": {},
   "source": [
    "The income per capita statistics were extracted by isolating the county names and income per capita and dropping the overall Washington statistics."
   ]
  },
  {
   "cell_type": "code",
   "execution_count": 4,
   "metadata": {},
   "outputs": [
    {
     "data": {
      "text/html": [
       "<div>\n",
       "<style scoped>\n",
       "    .dataframe tbody tr th:only-of-type {\n",
       "        vertical-align: middle;\n",
       "    }\n",
       "\n",
       "    .dataframe tbody tr th {\n",
       "        vertical-align: top;\n",
       "    }\n",
       "\n",
       "    .dataframe thead th {\n",
       "        text-align: right;\n",
       "    }\n",
       "</style>\n",
       "<table border=\"1\" class=\"dataframe\">\n",
       "  <thead>\n",
       "    <tr style=\"text-align: right;\">\n",
       "      <th></th>\n",
       "      <th>County</th>\n",
       "      <th>IncomePerCapita</th>\n",
       "    </tr>\n",
       "  </thead>\n",
       "  <tbody>\n",
       "    <tr>\n",
       "      <th>1</th>\n",
       "      <td>Adams</td>\n",
       "      <td>43429</td>\n",
       "    </tr>\n",
       "    <tr>\n",
       "      <th>2</th>\n",
       "      <td>Asotin</td>\n",
       "      <td>48456</td>\n",
       "    </tr>\n",
       "    <tr>\n",
       "      <th>3</th>\n",
       "      <td>Benton</td>\n",
       "      <td>49354</td>\n",
       "    </tr>\n",
       "    <tr>\n",
       "      <th>4</th>\n",
       "      <td>Chelan</td>\n",
       "      <td>56253</td>\n",
       "    </tr>\n",
       "    <tr>\n",
       "      <th>5</th>\n",
       "      <td>Clallam</td>\n",
       "      <td>47856</td>\n",
       "    </tr>\n",
       "  </tbody>\n",
       "</table>\n",
       "</div>"
      ],
      "text/plain": [
       "    County  IncomePerCapita\n",
       "1    Adams            43429\n",
       "2   Asotin            48456\n",
       "3   Benton            49354\n",
       "4   Chelan            56253\n",
       "5  Clallam            47856"
      ]
     },
     "execution_count": 4,
     "metadata": {},
     "output_type": "execute_result"
    }
   ],
   "source": [
    "# Extract income per capita and examine the variables\n",
    "wa_ipc = wa_ipc[['GeoName','2019']]\n",
    "wa_ipc = wa_ipc.rename(columns={\"GeoName\": \"County\", \"2019\": \"IncomePerCapita\"})\n",
    "wa_ipc = wa_ipc.drop([0])\n",
    "wa_ipc['County'] = wa_ipc['County'].str[:-4]\n",
    "wa_ipc.head()"
   ]
  },
  {
   "cell_type": "markdown",
   "metadata": {},
   "source": [
    "Land area by square mile was extracted by subsetting counties and land area (in square miles)."
   ]
  },
  {
   "cell_type": "code",
   "execution_count": 5,
   "metadata": {},
   "outputs": [
    {
     "data": {
      "text/html": [
       "<div>\n",
       "<style scoped>\n",
       "    .dataframe tbody tr th:only-of-type {\n",
       "        vertical-align: middle;\n",
       "    }\n",
       "\n",
       "    .dataframe tbody tr th {\n",
       "        vertical-align: top;\n",
       "    }\n",
       "\n",
       "    .dataframe thead th {\n",
       "        text-align: right;\n",
       "    }\n",
       "</style>\n",
       "<table border=\"1\" class=\"dataframe\">\n",
       "  <thead>\n",
       "    <tr style=\"text-align: right;\">\n",
       "      <th></th>\n",
       "      <th>County</th>\n",
       "      <th>LandArea</th>\n",
       "    </tr>\n",
       "  </thead>\n",
       "  <tbody>\n",
       "    <tr>\n",
       "      <th>3006</th>\n",
       "      <td>Adams</td>\n",
       "      <td>1924.98</td>\n",
       "    </tr>\n",
       "    <tr>\n",
       "      <th>3007</th>\n",
       "      <td>Asotin</td>\n",
       "      <td>636.21</td>\n",
       "    </tr>\n",
       "    <tr>\n",
       "      <th>3008</th>\n",
       "      <td>Benton</td>\n",
       "      <td>1700.38</td>\n",
       "    </tr>\n",
       "    <tr>\n",
       "      <th>3009</th>\n",
       "      <td>Chelan</td>\n",
       "      <td>2920.53</td>\n",
       "    </tr>\n",
       "    <tr>\n",
       "      <th>3010</th>\n",
       "      <td>Clallam</td>\n",
       "      <td>1738.33</td>\n",
       "    </tr>\n",
       "  </tbody>\n",
       "</table>\n",
       "</div>"
      ],
      "text/plain": [
       "       County  LandArea\n",
       "3006    Adams   1924.98\n",
       "3007   Asotin    636.21\n",
       "3008   Benton   1700.38\n",
       "3009   Chelan   2920.53\n",
       "3010  Clallam   1738.33"
      ]
     },
     "execution_count": 5,
     "metadata": {},
     "output_type": "execute_result"
    }
   ],
   "source": [
    "# Extract land area for each county and check the variables\n",
    "wa_landarea = wa_landarea[wa_landarea['Areaname'].str.contains(\", WA\")]\n",
    "wa_landarea = wa_landarea[['Areaname','LND110210D']]\n",
    "wa_landarea = wa_landarea.rename(columns={\"Areaname\": \"County\", \"LND110210D\": \"LandArea\"})\n",
    "wa_landarea['County'] = wa_landarea['County'].str[:-4]\n",
    "wa_landarea.head()"
   ]
  },
  {
   "cell_type": "markdown",
   "metadata": {},
   "source": [
    "For this dataset, county population and median age were extracted. The percent of the county population that was female was also collected."
   ]
  },
  {
   "cell_type": "code",
   "execution_count": 6,
   "metadata": {},
   "outputs": [
    {
     "data": {
      "text/html": [
       "<div>\n",
       "<style scoped>\n",
       "    .dataframe tbody tr th:only-of-type {\n",
       "        vertical-align: middle;\n",
       "    }\n",
       "\n",
       "    .dataframe tbody tr th {\n",
       "        vertical-align: top;\n",
       "    }\n",
       "\n",
       "    .dataframe thead th {\n",
       "        text-align: right;\n",
       "    }\n",
       "</style>\n",
       "<table border=\"1\" class=\"dataframe\">\n",
       "  <thead>\n",
       "    <tr style=\"text-align: right;\">\n",
       "      <th></th>\n",
       "      <th>County</th>\n",
       "      <th>Population</th>\n",
       "      <th>MedianAge</th>\n",
       "      <th>PercentFemale</th>\n",
       "    </tr>\n",
       "  </thead>\n",
       "  <tbody>\n",
       "    <tr>\n",
       "      <th>11</th>\n",
       "      <td>Adams</td>\n",
       "      <td>19983</td>\n",
       "      <td>28.0</td>\n",
       "      <td>48.9</td>\n",
       "    </tr>\n",
       "    <tr>\n",
       "      <th>23</th>\n",
       "      <td>Asotin</td>\n",
       "      <td>22582</td>\n",
       "      <td>45.8</td>\n",
       "      <td>51.1</td>\n",
       "    </tr>\n",
       "    <tr>\n",
       "      <th>35</th>\n",
       "      <td>Benton</td>\n",
       "      <td>204390</td>\n",
       "      <td>36.1</td>\n",
       "      <td>49.9</td>\n",
       "    </tr>\n",
       "    <tr>\n",
       "      <th>47</th>\n",
       "      <td>Chelan</td>\n",
       "      <td>77200</td>\n",
       "      <td>40.0</td>\n",
       "      <td>49.9</td>\n",
       "    </tr>\n",
       "    <tr>\n",
       "      <th>59</th>\n",
       "      <td>Clallam</td>\n",
       "      <td>77331</td>\n",
       "      <td>51.5</td>\n",
       "      <td>50.6</td>\n",
       "    </tr>\n",
       "  </tbody>\n",
       "</table>\n",
       "</div>"
      ],
      "text/plain": [
       "     County  Population  MedianAge  PercentFemale\n",
       "11    Adams       19983       28.0           48.9\n",
       "23   Asotin       22582       45.8           51.1\n",
       "35   Benton      204390       36.1           49.9\n",
       "47   Chelan       77200       40.0           49.9\n",
       "59  Clallam       77331       51.5           50.6"
      ]
     },
     "execution_count": 6,
     "metadata": {},
     "output_type": "execute_result"
    }
   ],
   "source": [
    "# Extract age, total population, and female population\n",
    "wa_age = wa_age.loc[wa_age['YEAR'] == 12]\n",
    "wa_age = wa_age[['CTYNAME','POPESTIMATE','POPEST_FEM','MEDIAN_AGE_TOT']]\n",
    "wa_age = wa_age.rename(columns={\"CTYNAME\": \"County\", \"POPESTIMATE\": \"Population\", \"POPEST_FEM\": \"FemalePop\", \"MEDIAN_AGE_TOT\": \"MedianAge\"})\n",
    "wa_age['County'] = wa_age['County'].str[:-7]\n",
    "\n",
    "# Calculate the percent of the population that is female\n",
    "wa_age[\"PercentFemale\"] = wa_age['FemalePop'] / wa_age['Population'] * 100 # Calculate the percentage of the county population that is female\n",
    "wa_age[\"PercentFemale\"] = wa_age[\"PercentFemale\"].round(1)\n",
    "wa_age = wa_age.drop(['FemalePop'],axis=1)\n",
    "\n",
    "# Check accuracy of the variables\n",
    "wa_age.head()"
   ]
  },
  {
   "cell_type": "markdown",
   "metadata": {},
   "source": [
    "For this dataset, the percent of the county population that was non-white was collected."
   ]
  },
  {
   "cell_type": "code",
   "execution_count": 7,
   "metadata": {},
   "outputs": [
    {
     "data": {
      "text/html": [
       "<div>\n",
       "<style scoped>\n",
       "    .dataframe tbody tr th:only-of-type {\n",
       "        vertical-align: middle;\n",
       "    }\n",
       "\n",
       "    .dataframe tbody tr th {\n",
       "        vertical-align: top;\n",
       "    }\n",
       "\n",
       "    .dataframe thead th {\n",
       "        text-align: right;\n",
       "    }\n",
       "</style>\n",
       "<table border=\"1\" class=\"dataframe\">\n",
       "  <thead>\n",
       "    <tr style=\"text-align: right;\">\n",
       "      <th></th>\n",
       "      <th>County</th>\n",
       "      <th>PercentNonWhite</th>\n",
       "    </tr>\n",
       "  </thead>\n",
       "  <tbody>\n",
       "    <tr>\n",
       "      <th>209</th>\n",
       "      <td>Adams</td>\n",
       "      <td>11.5</td>\n",
       "    </tr>\n",
       "    <tr>\n",
       "      <th>437</th>\n",
       "      <td>Asotin</td>\n",
       "      <td>6.8</td>\n",
       "    </tr>\n",
       "    <tr>\n",
       "      <th>665</th>\n",
       "      <td>Benton</td>\n",
       "      <td>10.0</td>\n",
       "    </tr>\n",
       "    <tr>\n",
       "      <th>893</th>\n",
       "      <td>Chelan</td>\n",
       "      <td>6.8</td>\n",
       "    </tr>\n",
       "    <tr>\n",
       "      <th>1121</th>\n",
       "      <td>Clallam</td>\n",
       "      <td>12.9</td>\n",
       "    </tr>\n",
       "  </tbody>\n",
       "</table>\n",
       "</div>"
      ],
      "text/plain": [
       "       County  PercentNonWhite\n",
       "209     Adams             11.5\n",
       "437    Asotin              6.8\n",
       "665    Benton             10.0\n",
       "893    Chelan              6.8\n",
       "1121  Clallam             12.9"
      ]
     },
     "execution_count": 7,
     "metadata": {},
     "output_type": "execute_result"
    }
   ],
   "source": [
    "# Extract percent of the population that is non-white\n",
    "wa_racialid = wa_racialid.loc[wa_racialid['YEAR'] == 12]\n",
    "wa_racialid = wa_racialid.loc[wa_racialid['AGEGRP'] == 0]\n",
    "wa_racialid = wa_racialid[['CTYNAME','TOT_POP','WA_MALE', 'WA_FEMALE']]\n",
    "wa_racialid['TotalWhitePop'] = wa_racialid['WA_MALE'] + wa_racialid['WA_FEMALE']\n",
    "\n",
    "# Calculate percent of the population that is non-white\n",
    "wa_racialid['PercentNonWhite'] = (wa_racialid['TOT_POP'] - wa_racialid['TotalWhitePop']) / wa_racialid['TOT_POP'] * 100 # Calculate the percentage of county population that is non-white\n",
    "wa_racialid[\"PercentNonWhite\"] = wa_racialid[\"PercentNonWhite\"].round(1)\n",
    "wa_racialid = wa_racialid.drop(['TOT_POP','WA_MALE','WA_FEMALE','TotalWhitePop'],axis=1)\n",
    "wa_racialid = wa_racialid.rename(columns={\"CTYNAME\": \"County\"})\n",
    "wa_racialid['County'] = wa_racialid['County'].str[:-7]\n",
    "\n",
    "# Check accuracy of the variables\n",
    "wa_racialid.head()"
   ]
  },
  {
   "cell_type": "markdown",
   "metadata": {},
   "source": [
    "The percentage of individuals who have been diagnosed with diabetes by county were extracted."
   ]
  },
  {
   "cell_type": "code",
   "execution_count": 8,
   "metadata": {},
   "outputs": [
    {
     "data": {
      "text/html": [
       "<div>\n",
       "<style scoped>\n",
       "    .dataframe tbody tr th:only-of-type {\n",
       "        vertical-align: middle;\n",
       "    }\n",
       "\n",
       "    .dataframe tbody tr th {\n",
       "        vertical-align: top;\n",
       "    }\n",
       "\n",
       "    .dataframe thead th {\n",
       "        text-align: right;\n",
       "    }\n",
       "</style>\n",
       "<table border=\"1\" class=\"dataframe\">\n",
       "  <thead>\n",
       "    <tr style=\"text-align: right;\">\n",
       "      <th></th>\n",
       "      <th>County</th>\n",
       "      <th>PercentDiabetic</th>\n",
       "    </tr>\n",
       "  </thead>\n",
       "  <tbody>\n",
       "    <tr>\n",
       "      <th>63</th>\n",
       "      <td>San Juan</td>\n",
       "      <td>6.1</td>\n",
       "    </tr>\n",
       "    <tr>\n",
       "      <th>95</th>\n",
       "      <td>Kittitas</td>\n",
       "      <td>6.5</td>\n",
       "    </tr>\n",
       "    <tr>\n",
       "      <th>214</th>\n",
       "      <td>Whitman</td>\n",
       "      <td>7.5</td>\n",
       "    </tr>\n",
       "    <tr>\n",
       "      <th>248</th>\n",
       "      <td>King</td>\n",
       "      <td>7.7</td>\n",
       "    </tr>\n",
       "    <tr>\n",
       "      <th>287</th>\n",
       "      <td>Jefferson</td>\n",
       "      <td>7.9</td>\n",
       "    </tr>\n",
       "  </tbody>\n",
       "</table>\n",
       "</div>"
      ],
      "text/plain": [
       "        County PercentDiabetic\n",
       "63    San Juan             6.1\n",
       "95    Kittitas             6.5\n",
       "214    Whitman             7.5\n",
       "248       King             7.7\n",
       "287  Jefferson             7.9"
      ]
     },
     "execution_count": 8,
     "metadata": {},
     "output_type": "execute_result"
    }
   ],
   "source": [
    "# Extract percent of the population that has been diagnosed with diabetes and examine variables\n",
    "wa_pehealth = wa_pehealth[wa_pehealth['State'].str.contains(\"Washington\")]\n",
    "wa_pehealth = wa_pehealth[['County','Percentage']]\n",
    "wa_pehealth = wa_pehealth.rename(columns={\"Percentage\": \"PercentDiabetic\"})\n",
    "wa_pehealth['County'] = wa_pehealth['County'].str[:-7]\n",
    "wa_pehealth.head()"
   ]
  },
  {
   "cell_type": "markdown",
   "metadata": {},
   "source": [
    "The percentage of individuals who are uninsured was extracted. For this dataset, it was required to specify that the categories of interest were all ages, all races, all sexes, and all income levels."
   ]
  },
  {
   "cell_type": "code",
   "execution_count": 9,
   "metadata": {},
   "outputs": [
    {
     "data": {
      "text/html": [
       "<div>\n",
       "<style scoped>\n",
       "    .dataframe tbody tr th:only-of-type {\n",
       "        vertical-align: middle;\n",
       "    }\n",
       "\n",
       "    .dataframe tbody tr th {\n",
       "        vertical-align: top;\n",
       "    }\n",
       "\n",
       "    .dataframe thead th {\n",
       "        text-align: right;\n",
       "    }\n",
       "</style>\n",
       "<table border=\"1\" class=\"dataframe\">\n",
       "  <thead>\n",
       "    <tr style=\"text-align: right;\">\n",
       "      <th></th>\n",
       "      <th>County</th>\n",
       "      <th>PercentUninsured</th>\n",
       "    </tr>\n",
       "  </thead>\n",
       "  <tbody>\n",
       "    <tr>\n",
       "      <th>13098</th>\n",
       "      <td>Adams</td>\n",
       "      <td>13.4</td>\n",
       "    </tr>\n",
       "    <tr>\n",
       "      <th>13194</th>\n",
       "      <td>Asotin</td>\n",
       "      <td>7.0</td>\n",
       "    </tr>\n",
       "    <tr>\n",
       "      <th>13290</th>\n",
       "      <td>Benton</td>\n",
       "      <td>8.9</td>\n",
       "    </tr>\n",
       "    <tr>\n",
       "      <th>13386</th>\n",
       "      <td>Chelan</td>\n",
       "      <td>11.2</td>\n",
       "    </tr>\n",
       "    <tr>\n",
       "      <th>13482</th>\n",
       "      <td>Clallam</td>\n",
       "      <td>9.7</td>\n",
       "    </tr>\n",
       "  </tbody>\n",
       "</table>\n",
       "</div>"
      ],
      "text/plain": [
       "        County  PercentUninsured\n",
       "13098    Adams              13.4\n",
       "13194   Asotin               7.0\n",
       "13290   Benton               8.9\n",
       "13386   Chelan              11.2\n",
       "13482  Clallam               9.7"
      ]
     },
     "execution_count": 9,
     "metadata": {},
     "output_type": "execute_result"
    }
   ],
   "source": [
    "# Extract percentage of individuals who are uninsured and examine variables\n",
    "wa_healthins = wa_healthins[wa_healthins['state_name'].str.contains(\"Washington\")]\n",
    "wa_healthins = wa_healthins.loc[wa_healthins['agecat'] == 0]\n",
    "wa_healthins = wa_healthins.loc[wa_healthins['racecat'] == 0]\n",
    "wa_healthins = wa_healthins.loc[wa_healthins['sexcat'] == 0]\n",
    "wa_healthins = wa_healthins.loc[wa_healthins['iprcat'] == 0]\n",
    "wa_healthins = wa_healthins[['county_name','PCTELIG']]\n",
    "wa_healthins = wa_healthins.rename(columns={\"county_name\": \"County\",\"PCTELIG\": \"PercentUninsured\"})\n",
    "wa_healthins = wa_healthins.iloc[1:]\n",
    "wa_healthins['County'] = wa_healthins['County'].str.strip()\n",
    "wa_healthins['County'] = wa_healthins['County'].str[:-7]\n",
    "wa_healthins.head()"
   ]
  },
  {
   "cell_type": "markdown",
   "metadata": {},
   "source": [
    "The data was merged together into a final dataframe. The population density and deaths per capita measures were calculated. Counties with 0 deaths had their deaths per capita set to 0. The final Washington dataset was exported."
   ]
  },
  {
   "cell_type": "code",
   "execution_count": 10,
   "metadata": {},
   "outputs": [
    {
     "data": {
      "text/html": [
       "<div>\n",
       "<style scoped>\n",
       "    .dataframe tbody tr th:only-of-type {\n",
       "        vertical-align: middle;\n",
       "    }\n",
       "\n",
       "    .dataframe tbody tr th {\n",
       "        vertical-align: top;\n",
       "    }\n",
       "\n",
       "    .dataframe thead th {\n",
       "        text-align: right;\n",
       "    }\n",
       "</style>\n",
       "<table border=\"1\" class=\"dataframe\">\n",
       "  <thead>\n",
       "    <tr style=\"text-align: right;\">\n",
       "      <th></th>\n",
       "      <th>County</th>\n",
       "      <th>IncomePerCapita</th>\n",
       "      <th>MedianAge</th>\n",
       "      <th>PercentFemale</th>\n",
       "      <th>PercentNonWhite</th>\n",
       "      <th>PercentDiabetic</th>\n",
       "      <th>PercentUninsured</th>\n",
       "      <th>PopulationDensity</th>\n",
       "      <th>DeathsPerCapita</th>\n",
       "    </tr>\n",
       "  </thead>\n",
       "  <tbody>\n",
       "    <tr>\n",
       "      <th>0</th>\n",
       "      <td>Adams</td>\n",
       "      <td>43429</td>\n",
       "      <td>28.0</td>\n",
       "      <td>48.9</td>\n",
       "      <td>11.5</td>\n",
       "      <td>8.9</td>\n",
       "      <td>13.4</td>\n",
       "      <td>10.380887</td>\n",
       "      <td>0.000601</td>\n",
       "    </tr>\n",
       "    <tr>\n",
       "      <th>1</th>\n",
       "      <td>Asotin</td>\n",
       "      <td>48456</td>\n",
       "      <td>45.8</td>\n",
       "      <td>51.1</td>\n",
       "      <td>6.8</td>\n",
       "      <td>12.8</td>\n",
       "      <td>7.0</td>\n",
       "      <td>35.494569</td>\n",
       "      <td>0.000531</td>\n",
       "    </tr>\n",
       "    <tr>\n",
       "      <th>2</th>\n",
       "      <td>Benton</td>\n",
       "      <td>49354</td>\n",
       "      <td>36.1</td>\n",
       "      <td>49.9</td>\n",
       "      <td>10.0</td>\n",
       "      <td>9.3</td>\n",
       "      <td>8.9</td>\n",
       "      <td>120.202543</td>\n",
       "      <td>0.000690</td>\n",
       "    </tr>\n",
       "    <tr>\n",
       "      <th>3</th>\n",
       "      <td>Chelan</td>\n",
       "      <td>56253</td>\n",
       "      <td>40.0</td>\n",
       "      <td>49.9</td>\n",
       "      <td>6.8</td>\n",
       "      <td>8.2</td>\n",
       "      <td>11.2</td>\n",
       "      <td>26.433558</td>\n",
       "      <td>0.000285</td>\n",
       "    </tr>\n",
       "    <tr>\n",
       "      <th>4</th>\n",
       "      <td>Clallam</td>\n",
       "      <td>47856</td>\n",
       "      <td>51.5</td>\n",
       "      <td>50.6</td>\n",
       "      <td>12.9</td>\n",
       "      <td>14.2</td>\n",
       "      <td>9.7</td>\n",
       "      <td>44.485800</td>\n",
       "      <td>0.000039</td>\n",
       "    </tr>\n",
       "  </tbody>\n",
       "</table>\n",
       "</div>"
      ],
      "text/plain": [
       "    County  IncomePerCapita  MedianAge  PercentFemale  PercentNonWhite  \\\n",
       "0    Adams            43429       28.0           48.9             11.5   \n",
       "1   Asotin            48456       45.8           51.1              6.8   \n",
       "2   Benton            49354       36.1           49.9             10.0   \n",
       "3   Chelan            56253       40.0           49.9              6.8   \n",
       "4  Clallam            47856       51.5           50.6             12.9   \n",
       "\n",
       "  PercentDiabetic  PercentUninsured  PopulationDensity  DeathsPerCapita  \n",
       "0             8.9              13.4          10.380887         0.000601  \n",
       "1            12.8               7.0          35.494569         0.000531  \n",
       "2             9.3               8.9         120.202543         0.000690  \n",
       "3             8.2              11.2          26.433558         0.000285  \n",
       "4            14.2               9.7          44.485800         0.000039  "
      ]
     },
     "execution_count": 10,
     "metadata": {},
     "output_type": "execute_result"
    }
   ],
   "source": [
    "# Merge together variables into a final dataset\n",
    "wa_countydata = wa_deaths.merge(wa_ipc,how=\"right\",on=\"County\")\n",
    "wa_countydata = wa_countydata.merge(wa_age,how=\"inner\",on=\"County\")\n",
    "wa_countydata = wa_countydata.merge(wa_racialid,how=\"inner\",on=\"County\")\n",
    "wa_countydata = wa_countydata.merge(wa_landarea,how=\"inner\",on=\"County\")\n",
    "wa_countydata = wa_countydata.merge(wa_pehealth,how=\"inner\",on=\"County\")\n",
    "wa_countydata = wa_countydata.merge(wa_healthins,how=\"inner\",on=\"County\")\n",
    "\n",
    "# Calculate population density with population divided by land area\n",
    "wa_countydata[\"PopulationDensity\"] = wa_countydata[\"Population\"] / wa_countydata[\"LandArea\"]\n",
    "\n",
    "# Calculate deaths per capita with deaths divided by population\n",
    "wa_countydata[\"DeathsPerCapita\"] = wa_countydata[\"Deaths\"] / wa_countydata[\"Population\"]\n",
    "\n",
    "# Drop unused variables\n",
    "wa_countydata = wa_countydata.drop(['Deaths','Population','LandArea'],axis = 1)\n",
    "\n",
    "# Fill NA values with 0s\n",
    "wa_countydata = wa_countydata.fillna(0)\n",
    "\n",
    "# Write out final dataset\n",
    "wa_countydata.to_csv('wa-county-final.csv', index=False)\n",
    "\n",
    "# Examine variables\n",
    "wa_countydata.head()"
   ]
  },
  {
   "cell_type": "markdown",
   "metadata": {},
   "source": [
    "### California Data"
   ]
  },
  {
   "cell_type": "markdown",
   "metadata": {},
   "source": [
    "Datasets that were sourced from the various sources listed above were downloaded. These include COVID-19 county statistics, income per capita, land area by square mile, population, age, percent of female population, percent of non-white population, percent of individuals with diabetes, and percent of the population that are uninsured."
   ]
  },
  {
   "cell_type": "code",
   "execution_count": 11,
   "metadata": {},
   "outputs": [],
   "source": [
    "# Import the necessary datasets\n",
    "ca_deaths = pd.read_csv('covid-ca-county-deaths.csv')\n",
    "ca_ipc = pd.read_csv('ca-county-incomepercapita.csv')\n",
    "ca_landarea = pd.read_csv('us-county-landarea.csv')\n",
    "ca_age = pd.read_csv('ca-county-popchar-age.csv')\n",
    "ca_racialid = pd.read_csv('ca-county-popchar-racial-identity.csv')\n",
    "ca_pehealth = pd.read_csv('us-diabetes-county.csv')\n",
    "ca_healthins = pd.read_csv('us-county-health-insurance.csv')"
   ]
  },
  {
   "cell_type": "markdown",
   "metadata": {},
   "source": [
    "To extract the COVID-19 death statistics, counties and deaths were subset from the main dataset and the death counts were summed across timepoints."
   ]
  },
  {
   "cell_type": "code",
   "execution_count": 12,
   "metadata": {},
   "outputs": [
    {
     "data": {
      "text/html": [
       "<div>\n",
       "<style scoped>\n",
       "    .dataframe tbody tr th:only-of-type {\n",
       "        vertical-align: middle;\n",
       "    }\n",
       "\n",
       "    .dataframe tbody tr th {\n",
       "        vertical-align: top;\n",
       "    }\n",
       "\n",
       "    .dataframe thead th {\n",
       "        text-align: right;\n",
       "    }\n",
       "</style>\n",
       "<table border=\"1\" class=\"dataframe\">\n",
       "  <thead>\n",
       "    <tr style=\"text-align: right;\">\n",
       "      <th></th>\n",
       "      <th>County</th>\n",
       "      <th>Deaths</th>\n",
       "    </tr>\n",
       "    <tr>\n",
       "      <th>index</th>\n",
       "      <th></th>\n",
       "      <th></th>\n",
       "    </tr>\n",
       "  </thead>\n",
       "  <tbody>\n",
       "    <tr>\n",
       "      <th>Alameda</th>\n",
       "      <td>Alameda</td>\n",
       "      <td>520</td>\n",
       "    </tr>\n",
       "    <tr>\n",
       "      <th>Alpine</th>\n",
       "      <td>Alpine</td>\n",
       "      <td>0</td>\n",
       "    </tr>\n",
       "    <tr>\n",
       "      <th>Amador</th>\n",
       "      <td>Amador</td>\n",
       "      <td>16</td>\n",
       "    </tr>\n",
       "    <tr>\n",
       "      <th>Butte</th>\n",
       "      <td>Butte</td>\n",
       "      <td>60</td>\n",
       "    </tr>\n",
       "    <tr>\n",
       "      <th>Calaveras</th>\n",
       "      <td>Calaveras</td>\n",
       "      <td>22</td>\n",
       "    </tr>\n",
       "  </tbody>\n",
       "</table>\n",
       "</div>"
      ],
      "text/plain": [
       "              County  Deaths\n",
       "index                       \n",
       "Alameda      Alameda     520\n",
       "Alpine        Alpine       0\n",
       "Amador        Amador      16\n",
       "Butte          Butte      60\n",
       "Calaveras  Calaveras      22"
      ]
     },
     "execution_count": 12,
     "metadata": {},
     "output_type": "execute_result"
    }
   ],
   "source": [
    "# Extract county name and deaths\n",
    "ca_deaths = ca_deaths[['county','newcountdeaths']]\n",
    "ca_deaths = ca_deaths.rename(columns={\"county\": \"County\", \"newcountdeaths\": \"Deaths\"})\n",
    "\n",
    "# Sum the cumulative deaths\n",
    "aggregation_functions = {'County': 'first', 'Deaths': 'sum'}\n",
    "ca_deaths = ca_deaths.groupby(ca_deaths['County']).aggregate(aggregation_functions)\n",
    "ca_deaths.index.names = [\"index\"]\n",
    "\n",
    "# Check the variables for accuracy\n",
    "ca_deaths.head()"
   ]
  },
  {
   "cell_type": "markdown",
   "metadata": {},
   "source": [
    "The income per capita statistics were extracted by isolating the county names and income per capita and dropping the overall California statistics."
   ]
  },
  {
   "cell_type": "code",
   "execution_count": 13,
   "metadata": {},
   "outputs": [
    {
     "data": {
      "text/html": [
       "<div>\n",
       "<style scoped>\n",
       "    .dataframe tbody tr th:only-of-type {\n",
       "        vertical-align: middle;\n",
       "    }\n",
       "\n",
       "    .dataframe tbody tr th {\n",
       "        vertical-align: top;\n",
       "    }\n",
       "\n",
       "    .dataframe thead th {\n",
       "        text-align: right;\n",
       "    }\n",
       "</style>\n",
       "<table border=\"1\" class=\"dataframe\">\n",
       "  <thead>\n",
       "    <tr style=\"text-align: right;\">\n",
       "      <th></th>\n",
       "      <th>County</th>\n",
       "      <th>IncomePerCapita</th>\n",
       "    </tr>\n",
       "  </thead>\n",
       "  <tbody>\n",
       "    <tr>\n",
       "      <th>1</th>\n",
       "      <td>Alameda</td>\n",
       "      <td>81171</td>\n",
       "    </tr>\n",
       "    <tr>\n",
       "      <th>2</th>\n",
       "      <td>Alpine</td>\n",
       "      <td>72155</td>\n",
       "    </tr>\n",
       "    <tr>\n",
       "      <th>3</th>\n",
       "      <td>Amador</td>\n",
       "      <td>45920</td>\n",
       "    </tr>\n",
       "    <tr>\n",
       "      <th>4</th>\n",
       "      <td>Butte</td>\n",
       "      <td>47860</td>\n",
       "    </tr>\n",
       "    <tr>\n",
       "      <th>5</th>\n",
       "      <td>Calaveras</td>\n",
       "      <td>51131</td>\n",
       "    </tr>\n",
       "  </tbody>\n",
       "</table>\n",
       "</div>"
      ],
      "text/plain": [
       "      County  IncomePerCapita\n",
       "1    Alameda            81171\n",
       "2     Alpine            72155\n",
       "3     Amador            45920\n",
       "4      Butte            47860\n",
       "5  Calaveras            51131"
      ]
     },
     "execution_count": 13,
     "metadata": {},
     "output_type": "execute_result"
    }
   ],
   "source": [
    "# Extract income per capita and examine the variables\n",
    "ca_ipc = ca_ipc[['GeoName','2019']]\n",
    "ca_ipc = ca_ipc.rename(columns={\"GeoName\": \"County\", \"2019\": \"IncomePerCapita\"})\n",
    "ca_ipc = ca_ipc.drop([0])\n",
    "ca_ipc['County'] = ca_ipc['County'].str[:-4]\n",
    "ca_ipc.head()"
   ]
  },
  {
   "cell_type": "markdown",
   "metadata": {},
   "source": [
    "Land area by square mile was extracted by subsetting counties and land area."
   ]
  },
  {
   "cell_type": "code",
   "execution_count": 14,
   "metadata": {},
   "outputs": [
    {
     "data": {
      "text/html": [
       "<div>\n",
       "<style scoped>\n",
       "    .dataframe tbody tr th:only-of-type {\n",
       "        vertical-align: middle;\n",
       "    }\n",
       "\n",
       "    .dataframe tbody tr th {\n",
       "        vertical-align: top;\n",
       "    }\n",
       "\n",
       "    .dataframe thead th {\n",
       "        text-align: right;\n",
       "    }\n",
       "</style>\n",
       "<table border=\"1\" class=\"dataframe\">\n",
       "  <thead>\n",
       "    <tr style=\"text-align: right;\">\n",
       "      <th></th>\n",
       "      <th>County</th>\n",
       "      <th>LandArea</th>\n",
       "    </tr>\n",
       "  </thead>\n",
       "  <tbody>\n",
       "    <tr>\n",
       "      <th>192</th>\n",
       "      <td>Alameda</td>\n",
       "      <td>739.02</td>\n",
       "    </tr>\n",
       "    <tr>\n",
       "      <th>193</th>\n",
       "      <td>Alpine</td>\n",
       "      <td>738.33</td>\n",
       "    </tr>\n",
       "    <tr>\n",
       "      <th>194</th>\n",
       "      <td>Amador</td>\n",
       "      <td>594.58</td>\n",
       "    </tr>\n",
       "    <tr>\n",
       "      <th>195</th>\n",
       "      <td>Butte</td>\n",
       "      <td>1636.46</td>\n",
       "    </tr>\n",
       "    <tr>\n",
       "      <th>196</th>\n",
       "      <td>Calaveras</td>\n",
       "      <td>1020.01</td>\n",
       "    </tr>\n",
       "  </tbody>\n",
       "</table>\n",
       "</div>"
      ],
      "text/plain": [
       "        County  LandArea\n",
       "192    Alameda    739.02\n",
       "193     Alpine    738.33\n",
       "194     Amador    594.58\n",
       "195      Butte   1636.46\n",
       "196  Calaveras   1020.01"
      ]
     },
     "execution_count": 14,
     "metadata": {},
     "output_type": "execute_result"
    }
   ],
   "source": [
    "# Extract land area for each county and check the variables\n",
    "ca_landarea = ca_landarea[ca_landarea['Areaname'].str.contains(\", CA\")]\n",
    "ca_landarea = ca_landarea[['Areaname','LND110210D']]\n",
    "ca_landarea = ca_landarea.rename(columns={\"Areaname\": \"County\", \"LND110210D\": \"LandArea\"})\n",
    "ca_landarea['County'] = ca_landarea['County'].str[:-4]\n",
    "ca_landarea.head()"
   ]
  },
  {
   "cell_type": "markdown",
   "metadata": {},
   "source": [
    "For this dataset, county population and median age were extracted. The percent of the county population that was female was also collected."
   ]
  },
  {
   "cell_type": "code",
   "execution_count": 15,
   "metadata": {},
   "outputs": [
    {
     "data": {
      "text/html": [
       "<div>\n",
       "<style scoped>\n",
       "    .dataframe tbody tr th:only-of-type {\n",
       "        vertical-align: middle;\n",
       "    }\n",
       "\n",
       "    .dataframe tbody tr th {\n",
       "        vertical-align: top;\n",
       "    }\n",
       "\n",
       "    .dataframe thead th {\n",
       "        text-align: right;\n",
       "    }\n",
       "</style>\n",
       "<table border=\"1\" class=\"dataframe\">\n",
       "  <thead>\n",
       "    <tr style=\"text-align: right;\">\n",
       "      <th></th>\n",
       "      <th>County</th>\n",
       "      <th>Population</th>\n",
       "      <th>MedianAge</th>\n",
       "      <th>PercentFemale</th>\n",
       "    </tr>\n",
       "  </thead>\n",
       "  <tbody>\n",
       "    <tr>\n",
       "      <th>11</th>\n",
       "      <td>Alameda</td>\n",
       "      <td>1671329</td>\n",
       "      <td>37.9</td>\n",
       "      <td>50.7</td>\n",
       "    </tr>\n",
       "    <tr>\n",
       "      <th>23</th>\n",
       "      <td>Alpine</td>\n",
       "      <td>1129</td>\n",
       "      <td>49.9</td>\n",
       "      <td>46.1</td>\n",
       "    </tr>\n",
       "    <tr>\n",
       "      <th>35</th>\n",
       "      <td>Amador</td>\n",
       "      <td>39752</td>\n",
       "      <td>50.3</td>\n",
       "      <td>45.6</td>\n",
       "    </tr>\n",
       "    <tr>\n",
       "      <th>47</th>\n",
       "      <td>Butte</td>\n",
       "      <td>219186</td>\n",
       "      <td>36.8</td>\n",
       "      <td>50.5</td>\n",
       "    </tr>\n",
       "    <tr>\n",
       "      <th>59</th>\n",
       "      <td>Calaveras</td>\n",
       "      <td>45905</td>\n",
       "      <td>51.9</td>\n",
       "      <td>50.2</td>\n",
       "    </tr>\n",
       "  </tbody>\n",
       "</table>\n",
       "</div>"
      ],
      "text/plain": [
       "       County  Population  MedianAge  PercentFemale\n",
       "11    Alameda     1671329       37.9           50.7\n",
       "23     Alpine        1129       49.9           46.1\n",
       "35     Amador       39752       50.3           45.6\n",
       "47      Butte      219186       36.8           50.5\n",
       "59  Calaveras       45905       51.9           50.2"
      ]
     },
     "execution_count": 15,
     "metadata": {},
     "output_type": "execute_result"
    }
   ],
   "source": [
    "# Extract age, total population, and female population\n",
    "ca_age = ca_age.loc[ca_age['YEAR'] == 12]\n",
    "ca_age = ca_age[['CTYNAME','POPESTIMATE','POPEST_FEM','MEDIAN_AGE_TOT']]\n",
    "ca_age = ca_age.rename(columns={\"CTYNAME\": \"County\", \"POPESTIMATE\": \"Population\", \"POPEST_FEM\": \"FemalePop\", \"MEDIAN_AGE_TOT\": \"MedianAge\"})\n",
    "ca_age['County'] = ca_age['County'].str[:-7]\n",
    "\n",
    "# Calculate the percent of the population that is female\n",
    "ca_age[\"PercentFemale\"] = ca_age['FemalePop'] / ca_age['Population'] * 100 # Calculate the percentage of the county population that is female\n",
    "ca_age[\"PercentFemale\"] = ca_age[\"PercentFemale\"].round(1)\n",
    "ca_age = ca_age.drop(['FemalePop'],axis=1)\n",
    "\n",
    "# Check accuracy of the variables\n",
    "ca_age.head()"
   ]
  },
  {
   "cell_type": "markdown",
   "metadata": {},
   "source": [
    "For this dataset, the percent of the county population that was non-white was collected."
   ]
  },
  {
   "cell_type": "code",
   "execution_count": 16,
   "metadata": {},
   "outputs": [
    {
     "data": {
      "text/html": [
       "<div>\n",
       "<style scoped>\n",
       "    .dataframe tbody tr th:only-of-type {\n",
       "        vertical-align: middle;\n",
       "    }\n",
       "\n",
       "    .dataframe tbody tr th {\n",
       "        vertical-align: top;\n",
       "    }\n",
       "\n",
       "    .dataframe thead th {\n",
       "        text-align: right;\n",
       "    }\n",
       "</style>\n",
       "<table border=\"1\" class=\"dataframe\">\n",
       "  <thead>\n",
       "    <tr style=\"text-align: right;\">\n",
       "      <th></th>\n",
       "      <th>County</th>\n",
       "      <th>PercentNonWhite</th>\n",
       "    </tr>\n",
       "  </thead>\n",
       "  <tbody>\n",
       "    <tr>\n",
       "      <th>209</th>\n",
       "      <td>Alameda</td>\n",
       "      <td>50.7</td>\n",
       "    </tr>\n",
       "    <tr>\n",
       "      <th>437</th>\n",
       "      <td>Alpine</td>\n",
       "      <td>32.1</td>\n",
       "    </tr>\n",
       "    <tr>\n",
       "      <th>665</th>\n",
       "      <td>Amador</td>\n",
       "      <td>10.4</td>\n",
       "    </tr>\n",
       "    <tr>\n",
       "      <th>893</th>\n",
       "      <td>Butte</td>\n",
       "      <td>14.3</td>\n",
       "    </tr>\n",
       "    <tr>\n",
       "      <th>1121</th>\n",
       "      <td>Calaveras</td>\n",
       "      <td>9.0</td>\n",
       "    </tr>\n",
       "  </tbody>\n",
       "</table>\n",
       "</div>"
      ],
      "text/plain": [
       "         County  PercentNonWhite\n",
       "209     Alameda             50.7\n",
       "437      Alpine             32.1\n",
       "665      Amador             10.4\n",
       "893       Butte             14.3\n",
       "1121  Calaveras              9.0"
      ]
     },
     "execution_count": 16,
     "metadata": {},
     "output_type": "execute_result"
    }
   ],
   "source": [
    "# Extract percent of the population that is non-white\n",
    "ca_racialid = ca_racialid.loc[ca_racialid['YEAR'] == 12]\n",
    "ca_racialid = ca_racialid.loc[ca_racialid['AGEGRP'] == 0]\n",
    "ca_racialid = ca_racialid[['CTYNAME','TOT_POP','WA_MALE', 'WA_FEMALE']]\n",
    "ca_racialid['TotalWhitePop'] = ca_racialid['WA_MALE'] + ca_racialid['WA_FEMALE']\n",
    "\n",
    "# Calculate percent of the population that is non-white\n",
    "ca_racialid['PercentNonWhite'] = (ca_racialid['TOT_POP'] - ca_racialid['TotalWhitePop']) / ca_racialid['TOT_POP'] * 100 # Calculate the percentage of county population that is non-white\n",
    "ca_racialid[\"PercentNonWhite\"] = ca_racialid[\"PercentNonWhite\"].round(1)\n",
    "ca_racialid = ca_racialid.drop(['TOT_POP','WA_MALE','WA_FEMALE','TotalWhitePop'],axis=1)\n",
    "ca_racialid = ca_racialid.rename(columns={\"CTYNAME\": \"County\"})\n",
    "ca_racialid['County'] = ca_racialid['County'].str[:-7]\n",
    "\n",
    "# Check accuracy of the variables\n",
    "ca_racialid.head()"
   ]
  },
  {
   "cell_type": "markdown",
   "metadata": {},
   "source": [
    "The percentage of individuals who have been diagnosed with diabetes by county were extracted."
   ]
  },
  {
   "cell_type": "code",
   "execution_count": 17,
   "metadata": {},
   "outputs": [
    {
     "data": {
      "text/html": [
       "<div>\n",
       "<style scoped>\n",
       "    .dataframe tbody tr th:only-of-type {\n",
       "        vertical-align: middle;\n",
       "    }\n",
       "\n",
       "    .dataframe tbody tr th {\n",
       "        vertical-align: top;\n",
       "    }\n",
       "\n",
       "    .dataframe thead th {\n",
       "        text-align: right;\n",
       "    }\n",
       "</style>\n",
       "<table border=\"1\" class=\"dataframe\">\n",
       "  <thead>\n",
       "    <tr style=\"text-align: right;\">\n",
       "      <th></th>\n",
       "      <th>County</th>\n",
       "      <th>PercentDiabetic</th>\n",
       "    </tr>\n",
       "  </thead>\n",
       "  <tbody>\n",
       "    <tr>\n",
       "      <th>30</th>\n",
       "      <td>Nevada</td>\n",
       "      <td>5.5</td>\n",
       "    </tr>\n",
       "    <tr>\n",
       "      <th>59</th>\n",
       "      <td>San Francisco</td>\n",
       "      <td>6.1</td>\n",
       "    </tr>\n",
       "    <tr>\n",
       "      <th>64</th>\n",
       "      <td>Santa Cruz</td>\n",
       "      <td>6.2</td>\n",
       "    </tr>\n",
       "    <tr>\n",
       "      <th>112</th>\n",
       "      <td>Alpine</td>\n",
       "      <td>6.8</td>\n",
       "    </tr>\n",
       "    <tr>\n",
       "      <th>123</th>\n",
       "      <td>Alameda</td>\n",
       "      <td>7</td>\n",
       "    </tr>\n",
       "  </tbody>\n",
       "</table>\n",
       "</div>"
      ],
      "text/plain": [
       "            County PercentDiabetic\n",
       "30          Nevada             5.5\n",
       "59   San Francisco             6.1\n",
       "64      Santa Cruz             6.2\n",
       "112         Alpine             6.8\n",
       "123        Alameda               7"
      ]
     },
     "execution_count": 17,
     "metadata": {},
     "output_type": "execute_result"
    }
   ],
   "source": [
    "# Extract percent of the population that has been diagnosed with diabetes and examine variables\n",
    "ca_pehealth = ca_pehealth[ca_pehealth['State'].str.contains(\"California\")]\n",
    "ca_pehealth = ca_pehealth[['County','Percentage']]\n",
    "ca_pehealth = ca_pehealth.rename(columns={\"Percentage\": \"PercentDiabetic\"})\n",
    "ca_pehealth['County'] = ca_pehealth['County'].str[:-7]\n",
    "ca_pehealth.head()"
   ]
  },
  {
   "cell_type": "markdown",
   "metadata": {},
   "source": [
    "The percentage of individuals who are uninsured was extracted. For this dataset, it was required to specify that the categories of interest were all ages, all races, all sexes, and all income levels."
   ]
  },
  {
   "cell_type": "code",
   "execution_count": 18,
   "metadata": {},
   "outputs": [
    {
     "data": {
      "text/html": [
       "<div>\n",
       "<style scoped>\n",
       "    .dataframe tbody tr th:only-of-type {\n",
       "        vertical-align: middle;\n",
       "    }\n",
       "\n",
       "    .dataframe tbody tr th {\n",
       "        vertical-align: top;\n",
       "    }\n",
       "\n",
       "    .dataframe thead th {\n",
       "        text-align: right;\n",
       "    }\n",
       "</style>\n",
       "<table border=\"1\" class=\"dataframe\">\n",
       "  <thead>\n",
       "    <tr style=\"text-align: right;\">\n",
       "      <th></th>\n",
       "      <th>County</th>\n",
       "      <th>PercentUninsured</th>\n",
       "    </tr>\n",
       "  </thead>\n",
       "  <tbody>\n",
       "    <tr>\n",
       "      <th>366</th>\n",
       "      <td>Alameda</td>\n",
       "      <td>5.0</td>\n",
       "    </tr>\n",
       "    <tr>\n",
       "      <th>462</th>\n",
       "      <td>Alpine</td>\n",
       "      <td>7.0</td>\n",
       "    </tr>\n",
       "    <tr>\n",
       "      <th>558</th>\n",
       "      <td>Amador</td>\n",
       "      <td>6.0</td>\n",
       "    </tr>\n",
       "    <tr>\n",
       "      <th>654</th>\n",
       "      <td>Butte</td>\n",
       "      <td>7.7</td>\n",
       "    </tr>\n",
       "    <tr>\n",
       "      <th>750</th>\n",
       "      <td>Calaveras</td>\n",
       "      <td>7.4</td>\n",
       "    </tr>\n",
       "  </tbody>\n",
       "</table>\n",
       "</div>"
      ],
      "text/plain": [
       "        County  PercentUninsured\n",
       "366    Alameda               5.0\n",
       "462     Alpine               7.0\n",
       "558     Amador               6.0\n",
       "654      Butte               7.7\n",
       "750  Calaveras               7.4"
      ]
     },
     "execution_count": 18,
     "metadata": {},
     "output_type": "execute_result"
    }
   ],
   "source": [
    "# Extract percentage of individuals who are uninsured and examine variables\n",
    "ca_healthins = ca_healthins[ca_healthins['state_name'].str.contains(\"California\")]\n",
    "ca_healthins = ca_healthins.loc[ca_healthins['agecat'] == 0]\n",
    "ca_healthins = ca_healthins.loc[ca_healthins['racecat'] == 0]\n",
    "ca_healthins = ca_healthins.loc[ca_healthins['sexcat'] == 0]\n",
    "ca_healthins = ca_healthins.loc[ca_healthins['iprcat'] == 0]\n",
    "ca_healthins = ca_healthins[['county_name','PCTELIG']]\n",
    "ca_healthins = ca_healthins.rename(columns={\"county_name\": \"County\",\"PCTELIG\": \"PercentUninsured\"})\n",
    "ca_healthins = ca_healthins.iloc[1:]\n",
    "ca_healthins['County'] = ca_healthins['County'].str.strip()\n",
    "ca_healthins['County'] = ca_healthins['County'].str[:-7]\n",
    "ca_healthins.head()"
   ]
  },
  {
   "cell_type": "markdown",
   "metadata": {},
   "source": [
    "The data was merged together into a final dataframe. The population density and deaths per capita measures were calculated. Counties with 0 deaths had their deaths per capita set to 0. The final California dataset was exported."
   ]
  },
  {
   "cell_type": "code",
   "execution_count": 19,
   "metadata": {},
   "outputs": [
    {
     "data": {
      "text/html": [
       "<div>\n",
       "<style scoped>\n",
       "    .dataframe tbody tr th:only-of-type {\n",
       "        vertical-align: middle;\n",
       "    }\n",
       "\n",
       "    .dataframe tbody tr th {\n",
       "        vertical-align: top;\n",
       "    }\n",
       "\n",
       "    .dataframe thead th {\n",
       "        text-align: right;\n",
       "    }\n",
       "</style>\n",
       "<table border=\"1\" class=\"dataframe\">\n",
       "  <thead>\n",
       "    <tr style=\"text-align: right;\">\n",
       "      <th></th>\n",
       "      <th>County</th>\n",
       "      <th>IncomePerCapita</th>\n",
       "      <th>MedianAge</th>\n",
       "      <th>PercentFemale</th>\n",
       "      <th>PercentNonWhite</th>\n",
       "      <th>PercentDiabetic</th>\n",
       "      <th>PercentUninsured</th>\n",
       "      <th>PopulationDensity</th>\n",
       "      <th>DeathsPerCapita</th>\n",
       "    </tr>\n",
       "  </thead>\n",
       "  <tbody>\n",
       "    <tr>\n",
       "      <th>0</th>\n",
       "      <td>Alameda</td>\n",
       "      <td>81171</td>\n",
       "      <td>37.9</td>\n",
       "      <td>50.7</td>\n",
       "      <td>50.7</td>\n",
       "      <td>7</td>\n",
       "      <td>5.0</td>\n",
       "      <td>2261.547725</td>\n",
       "      <td>0.000311</td>\n",
       "    </tr>\n",
       "    <tr>\n",
       "      <th>1</th>\n",
       "      <td>Alpine</td>\n",
       "      <td>72155</td>\n",
       "      <td>49.9</td>\n",
       "      <td>46.1</td>\n",
       "      <td>32.1</td>\n",
       "      <td>6.8</td>\n",
       "      <td>7.0</td>\n",
       "      <td>1.529127</td>\n",
       "      <td>0.000000</td>\n",
       "    </tr>\n",
       "    <tr>\n",
       "      <th>2</th>\n",
       "      <td>Amador</td>\n",
       "      <td>45920</td>\n",
       "      <td>50.3</td>\n",
       "      <td>45.6</td>\n",
       "      <td>10.4</td>\n",
       "      <td>17</td>\n",
       "      <td>6.0</td>\n",
       "      <td>66.857277</td>\n",
       "      <td>0.000402</td>\n",
       "    </tr>\n",
       "    <tr>\n",
       "      <th>3</th>\n",
       "      <td>Butte</td>\n",
       "      <td>47860</td>\n",
       "      <td>36.8</td>\n",
       "      <td>50.5</td>\n",
       "      <td>14.3</td>\n",
       "      <td>10.4</td>\n",
       "      <td>7.7</td>\n",
       "      <td>133.939112</td>\n",
       "      <td>0.000274</td>\n",
       "    </tr>\n",
       "    <tr>\n",
       "      <th>4</th>\n",
       "      <td>Calaveras</td>\n",
       "      <td>51131</td>\n",
       "      <td>51.9</td>\n",
       "      <td>50.2</td>\n",
       "      <td>9.0</td>\n",
       "      <td>10.8</td>\n",
       "      <td>7.4</td>\n",
       "      <td>45.004461</td>\n",
       "      <td>0.000479</td>\n",
       "    </tr>\n",
       "  </tbody>\n",
       "</table>\n",
       "</div>"
      ],
      "text/plain": [
       "      County  IncomePerCapita  MedianAge  PercentFemale  PercentNonWhite  \\\n",
       "0    Alameda            81171       37.9           50.7             50.7   \n",
       "1     Alpine            72155       49.9           46.1             32.1   \n",
       "2     Amador            45920       50.3           45.6             10.4   \n",
       "3      Butte            47860       36.8           50.5             14.3   \n",
       "4  Calaveras            51131       51.9           50.2              9.0   \n",
       "\n",
       "  PercentDiabetic  PercentUninsured  PopulationDensity  DeathsPerCapita  \n",
       "0               7               5.0        2261.547725         0.000311  \n",
       "1             6.8               7.0           1.529127         0.000000  \n",
       "2              17               6.0          66.857277         0.000402  \n",
       "3            10.4               7.7         133.939112         0.000274  \n",
       "4            10.8               7.4          45.004461         0.000479  "
      ]
     },
     "execution_count": 19,
     "metadata": {},
     "output_type": "execute_result"
    }
   ],
   "source": [
    "# Merge together variables into a final dataset\n",
    "ca_countydata = ca_deaths.merge(ca_ipc,how=\"right\",on=\"County\")\n",
    "ca_countydata = ca_countydata.merge(ca_age,how=\"inner\",on=\"County\")\n",
    "ca_countydata = ca_countydata.merge(ca_racialid,how=\"inner\",on=\"County\")\n",
    "ca_countydata = ca_countydata.merge(ca_landarea,how=\"inner\",on=\"County\")\n",
    "ca_countydata = ca_countydata.merge(ca_pehealth,how=\"inner\",on=\"County\")\n",
    "ca_countydata = ca_countydata.merge(ca_healthins,how=\"inner\",on=\"County\")\n",
    "\n",
    "# Calculate population density with population divided by land area\n",
    "ca_countydata[\"PopulationDensity\"] = ca_countydata[\"Population\"] / ca_countydata[\"LandArea\"]\n",
    "\n",
    "# Calculate deaths per capita with deaths divided by population\n",
    "ca_countydata[\"DeathsPerCapita\"] = ca_countydata[\"Deaths\"] / ca_countydata[\"Population\"]\n",
    "\n",
    "# Drop unused variables\n",
    "ca_countydata = ca_countydata.drop(['Deaths','Population','LandArea'],axis = 1)\n",
    "\n",
    "# Fill NA values with 0s\n",
    "ca_countydata = ca_countydata.fillna(0)\n",
    "\n",
    "# Write out final dataset\n",
    "ca_countydata.to_csv('ca-county-final.csv', index=False)\n",
    "\n",
    "# Examine variables\n",
    "ca_countydata.head()"
   ]
  },
  {
   "cell_type": "markdown",
   "metadata": {},
   "source": [
    "### Florida Data"
   ]
  },
  {
   "cell_type": "markdown",
   "metadata": {},
   "source": [
    "Datasets that were sourced from the various sources listed above were downloaded. These include COVID-19 county statistics, income per capita, land area by square mile, population, age, percent of female population, percent of non-white population, percent of individuals with diabetes, and percent of the population that are uninsured."
   ]
  },
  {
   "cell_type": "code",
   "execution_count": 20,
   "metadata": {},
   "outputs": [],
   "source": [
    "# Import the necessary datasets\n",
    "fl_deaths = pd.read_csv('covid-fl-county-deaths.csv')\n",
    "fl_ipc = pd.read_csv('fl-county-incomepercapita.csv')\n",
    "fl_landarea = pd.read_csv('us-county-landarea.csv')\n",
    "fl_age = pd.read_csv('fl-county-popchar-age.csv')\n",
    "fl_racialid = pd.read_csv('fl-county-popchar-racial-identity.csv')\n",
    "fl_pehealth = pd.read_csv('us-diabetes-county.csv')\n",
    "fl_healthins = pd.read_csv('us-county-health-insurance.csv')"
   ]
  },
  {
   "cell_type": "markdown",
   "metadata": {},
   "source": [
    "To extract the COVID-19 death statistics, counties and deaths were subset from the main dataset and the death counts were summed across timepoints."
   ]
  },
  {
   "cell_type": "code",
   "execution_count": 21,
   "metadata": {},
   "outputs": [
    {
     "data": {
      "text/html": [
       "<div>\n",
       "<style scoped>\n",
       "    .dataframe tbody tr th:only-of-type {\n",
       "        vertical-align: middle;\n",
       "    }\n",
       "\n",
       "    .dataframe tbody tr th {\n",
       "        vertical-align: top;\n",
       "    }\n",
       "\n",
       "    .dataframe thead th {\n",
       "        text-align: right;\n",
       "    }\n",
       "</style>\n",
       "<table border=\"1\" class=\"dataframe\">\n",
       "  <thead>\n",
       "    <tr style=\"text-align: right;\">\n",
       "      <th></th>\n",
       "      <th>County</th>\n",
       "      <th>Deaths</th>\n",
       "    </tr>\n",
       "  </thead>\n",
       "  <tbody>\n",
       "    <tr>\n",
       "      <th>0</th>\n",
       "      <td>gilchrist</td>\n",
       "      <td>20</td>\n",
       "    </tr>\n",
       "    <tr>\n",
       "      <th>1</th>\n",
       "      <td>putnam</td>\n",
       "      <td>60</td>\n",
       "    </tr>\n",
       "    <tr>\n",
       "      <th>2</th>\n",
       "      <td>taylor</td>\n",
       "      <td>21</td>\n",
       "    </tr>\n",
       "    <tr>\n",
       "      <th>3</th>\n",
       "      <td>okaloosa</td>\n",
       "      <td>160</td>\n",
       "    </tr>\n",
       "    <tr>\n",
       "      <th>4</th>\n",
       "      <td>calhoun</td>\n",
       "      <td>22</td>\n",
       "    </tr>\n",
       "  </tbody>\n",
       "</table>\n",
       "</div>"
      ],
      "text/plain": [
       "      County  Deaths\n",
       "0  gilchrist      20\n",
       "1     putnam      60\n",
       "2     taylor      21\n",
       "3   okaloosa     160\n",
       "4    calhoun      22"
      ]
     },
     "execution_count": 21,
     "metadata": {},
     "output_type": "execute_result"
    }
   ],
   "source": [
    "# Extract county name and deaths and examine variables for accuracy\n",
    "fl_deaths = fl_deaths[['County_1','Deaths']]\n",
    "fl_deaths = fl_deaths.rename(columns={\"County_1\": \"County\"})\n",
    "fl_deaths['County'] = fl_deaths['County'].str.lower()\n",
    "fl_deaths = fl_deaths.iloc[:67]\n",
    "fl_deaths['County'].iloc[47] = \"miami-dade\" # Miami-Dade county was listed as Dade county in this spreadsheet\n",
    "fl_deaths.head()"
   ]
  },
  {
   "cell_type": "markdown",
   "metadata": {},
   "source": [
    "The income per capita statistics were extracted by isolating the county names and income per capita and dropping the overall Florida statistics."
   ]
  },
  {
   "cell_type": "code",
   "execution_count": 22,
   "metadata": {},
   "outputs": [
    {
     "data": {
      "text/html": [
       "<div>\n",
       "<style scoped>\n",
       "    .dataframe tbody tr th:only-of-type {\n",
       "        vertical-align: middle;\n",
       "    }\n",
       "\n",
       "    .dataframe tbody tr th {\n",
       "        vertical-align: top;\n",
       "    }\n",
       "\n",
       "    .dataframe thead th {\n",
       "        text-align: right;\n",
       "    }\n",
       "</style>\n",
       "<table border=\"1\" class=\"dataframe\">\n",
       "  <thead>\n",
       "    <tr style=\"text-align: right;\">\n",
       "      <th></th>\n",
       "      <th>County</th>\n",
       "      <th>IncomePerCapita</th>\n",
       "    </tr>\n",
       "  </thead>\n",
       "  <tbody>\n",
       "    <tr>\n",
       "      <th>1</th>\n",
       "      <td>alachua</td>\n",
       "      <td>46690</td>\n",
       "    </tr>\n",
       "    <tr>\n",
       "      <th>2</th>\n",
       "      <td>baker</td>\n",
       "      <td>33254</td>\n",
       "    </tr>\n",
       "    <tr>\n",
       "      <th>3</th>\n",
       "      <td>bay</td>\n",
       "      <td>45690</td>\n",
       "    </tr>\n",
       "    <tr>\n",
       "      <th>4</th>\n",
       "      <td>bradford</td>\n",
       "      <td>34179</td>\n",
       "    </tr>\n",
       "    <tr>\n",
       "      <th>5</th>\n",
       "      <td>brevard</td>\n",
       "      <td>47911</td>\n",
       "    </tr>\n",
       "  </tbody>\n",
       "</table>\n",
       "</div>"
      ],
      "text/plain": [
       "     County  IncomePerCapita\n",
       "1   alachua            46690\n",
       "2     baker            33254\n",
       "3       bay            45690\n",
       "4  bradford            34179\n",
       "5   brevard            47911"
      ]
     },
     "execution_count": 22,
     "metadata": {},
     "output_type": "execute_result"
    }
   ],
   "source": [
    "# Extract income per capita and examine the variables\n",
    "fl_ipc = fl_ipc[['GeoName','2019']]\n",
    "fl_ipc = fl_ipc.rename(columns={\"GeoName\": \"County\", \"2019\": \"IncomePerCapita\"})\n",
    "fl_ipc = fl_ipc.drop([0])\n",
    "fl_ipc['County'] = fl_ipc['County'].str[:-4]\n",
    "fl_ipc['County'] = fl_ipc['County'].str.lower()\n",
    "fl_ipc.head()"
   ]
  },
  {
   "cell_type": "markdown",
   "metadata": {},
   "source": [
    "Land area by square mile was extracted by subsetting counties and land area."
   ]
  },
  {
   "cell_type": "code",
   "execution_count": 23,
   "metadata": {},
   "outputs": [
    {
     "data": {
      "text/html": [
       "<div>\n",
       "<style scoped>\n",
       "    .dataframe tbody tr th:only-of-type {\n",
       "        vertical-align: middle;\n",
       "    }\n",
       "\n",
       "    .dataframe tbody tr th {\n",
       "        vertical-align: top;\n",
       "    }\n",
       "\n",
       "    .dataframe thead th {\n",
       "        text-align: right;\n",
       "    }\n",
       "</style>\n",
       "<table border=\"1\" class=\"dataframe\">\n",
       "  <thead>\n",
       "    <tr style=\"text-align: right;\">\n",
       "      <th></th>\n",
       "      <th>County</th>\n",
       "      <th>LandArea</th>\n",
       "    </tr>\n",
       "  </thead>\n",
       "  <tbody>\n",
       "    <tr>\n",
       "      <th>331</th>\n",
       "      <td>alachua</td>\n",
       "      <td>875.02</td>\n",
       "    </tr>\n",
       "    <tr>\n",
       "      <th>332</th>\n",
       "      <td>baker</td>\n",
       "      <td>585.23</td>\n",
       "    </tr>\n",
       "    <tr>\n",
       "      <th>333</th>\n",
       "      <td>bay</td>\n",
       "      <td>758.46</td>\n",
       "    </tr>\n",
       "    <tr>\n",
       "      <th>334</th>\n",
       "      <td>bradford</td>\n",
       "      <td>293.96</td>\n",
       "    </tr>\n",
       "    <tr>\n",
       "      <th>335</th>\n",
       "      <td>brevard</td>\n",
       "      <td>1015.66</td>\n",
       "    </tr>\n",
       "  </tbody>\n",
       "</table>\n",
       "</div>"
      ],
      "text/plain": [
       "       County  LandArea\n",
       "331   alachua    875.02\n",
       "332     baker    585.23\n",
       "333       bay    758.46\n",
       "334  bradford    293.96\n",
       "335   brevard   1015.66"
      ]
     },
     "execution_count": 23,
     "metadata": {},
     "output_type": "execute_result"
    }
   ],
   "source": [
    "# Extract land area for each county and check the variables\n",
    "fl_landarea = fl_landarea[fl_landarea['Areaname'].str.contains(\", FL\")]\n",
    "fl_landarea = fl_landarea[['Areaname','LND110210D']]\n",
    "fl_landarea = fl_landarea.rename(columns={\"Areaname\": \"County\", \"LND110210D\": \"LandArea\"})\n",
    "fl_landarea['County'] = fl_landarea['County'].str[:-4]\n",
    "fl_landarea['County'] = fl_landarea['County'].str.lower()\n",
    "fl_landarea.head()"
   ]
  },
  {
   "cell_type": "markdown",
   "metadata": {},
   "source": [
    "For this dataset, county population and median age were extracted. The percent of the county population that was female was also collected."
   ]
  },
  {
   "cell_type": "code",
   "execution_count": 24,
   "metadata": {},
   "outputs": [
    {
     "data": {
      "text/html": [
       "<div>\n",
       "<style scoped>\n",
       "    .dataframe tbody tr th:only-of-type {\n",
       "        vertical-align: middle;\n",
       "    }\n",
       "\n",
       "    .dataframe tbody tr th {\n",
       "        vertical-align: top;\n",
       "    }\n",
       "\n",
       "    .dataframe thead th {\n",
       "        text-align: right;\n",
       "    }\n",
       "</style>\n",
       "<table border=\"1\" class=\"dataframe\">\n",
       "  <thead>\n",
       "    <tr style=\"text-align: right;\">\n",
       "      <th></th>\n",
       "      <th>County</th>\n",
       "      <th>Population</th>\n",
       "      <th>MedianAge</th>\n",
       "      <th>PercentFemale</th>\n",
       "    </tr>\n",
       "  </thead>\n",
       "  <tbody>\n",
       "    <tr>\n",
       "      <th>11</th>\n",
       "      <td>alachua</td>\n",
       "      <td>269043</td>\n",
       "      <td>32.1</td>\n",
       "      <td>51.8</td>\n",
       "    </tr>\n",
       "    <tr>\n",
       "      <th>23</th>\n",
       "      <td>baker</td>\n",
       "      <td>29210</td>\n",
       "      <td>37.2</td>\n",
       "      <td>47.4</td>\n",
       "    </tr>\n",
       "    <tr>\n",
       "      <th>35</th>\n",
       "      <td>bay</td>\n",
       "      <td>174705</td>\n",
       "      <td>41.8</td>\n",
       "      <td>50.4</td>\n",
       "    </tr>\n",
       "    <tr>\n",
       "      <th>47</th>\n",
       "      <td>bradford</td>\n",
       "      <td>28201</td>\n",
       "      <td>39.8</td>\n",
       "      <td>44.4</td>\n",
       "    </tr>\n",
       "    <tr>\n",
       "      <th>59</th>\n",
       "      <td>brevard</td>\n",
       "      <td>601942</td>\n",
       "      <td>47.7</td>\n",
       "      <td>51.1</td>\n",
       "    </tr>\n",
       "  </tbody>\n",
       "</table>\n",
       "</div>"
      ],
      "text/plain": [
       "      County  Population  MedianAge  PercentFemale\n",
       "11   alachua      269043       32.1           51.8\n",
       "23     baker       29210       37.2           47.4\n",
       "35       bay      174705       41.8           50.4\n",
       "47  bradford       28201       39.8           44.4\n",
       "59   brevard      601942       47.7           51.1"
      ]
     },
     "execution_count": 24,
     "metadata": {},
     "output_type": "execute_result"
    }
   ],
   "source": [
    "# Extract age, total population, and female population\n",
    "fl_age = fl_age.loc[fl_age['YEAR'] == 12]\n",
    "fl_age = fl_age[['CTYNAME','POPESTIMATE','POPEST_FEM','MEDIAN_AGE_TOT']]\n",
    "fl_age = fl_age.rename(columns={\"CTYNAME\": \"County\", \"POPESTIMATE\": \"Population\", \"POPEST_FEM\": \"FemalePop\", \"MEDIAN_AGE_TOT\": \"MedianAge\"})\n",
    "fl_age['County'] = fl_age['County'].str[:-7]\n",
    "\n",
    "# Calculate the percent of the population that is female\n",
    "fl_age[\"PercentFemale\"] = fl_age['FemalePop'] / fl_age['Population'] * 100\n",
    "fl_age[\"PercentFemale\"] = fl_age[\"PercentFemale\"].round(1)\n",
    "fl_age = fl_age.drop(['FemalePop'],axis=1)\n",
    "fl_age['County'] = fl_age['County'].str.lower()\n",
    "\n",
    "# Check accuracy of the variables\n",
    "fl_age.head()"
   ]
  },
  {
   "cell_type": "markdown",
   "metadata": {},
   "source": [
    "For this dataset, the percent of the county population that was non-white was collected."
   ]
  },
  {
   "cell_type": "code",
   "execution_count": 25,
   "metadata": {},
   "outputs": [
    {
     "data": {
      "text/html": [
       "<div>\n",
       "<style scoped>\n",
       "    .dataframe tbody tr th:only-of-type {\n",
       "        vertical-align: middle;\n",
       "    }\n",
       "\n",
       "    .dataframe tbody tr th {\n",
       "        vertical-align: top;\n",
       "    }\n",
       "\n",
       "    .dataframe thead th {\n",
       "        text-align: right;\n",
       "    }\n",
       "</style>\n",
       "<table border=\"1\" class=\"dataframe\">\n",
       "  <thead>\n",
       "    <tr style=\"text-align: right;\">\n",
       "      <th></th>\n",
       "      <th>County</th>\n",
       "      <th>PercentNonWhite</th>\n",
       "    </tr>\n",
       "  </thead>\n",
       "  <tbody>\n",
       "    <tr>\n",
       "      <th>209</th>\n",
       "      <td>alachua</td>\n",
       "      <td>30.1</td>\n",
       "    </tr>\n",
       "    <tr>\n",
       "      <th>437</th>\n",
       "      <td>baker</td>\n",
       "      <td>17.3</td>\n",
       "    </tr>\n",
       "    <tr>\n",
       "      <th>665</th>\n",
       "      <td>bay</td>\n",
       "      <td>17.8</td>\n",
       "    </tr>\n",
       "    <tr>\n",
       "      <th>893</th>\n",
       "      <td>bradford</td>\n",
       "      <td>23.9</td>\n",
       "    </tr>\n",
       "    <tr>\n",
       "      <th>1121</th>\n",
       "      <td>brevard</td>\n",
       "      <td>16.8</td>\n",
       "    </tr>\n",
       "  </tbody>\n",
       "</table>\n",
       "</div>"
      ],
      "text/plain": [
       "        County  PercentNonWhite\n",
       "209    alachua             30.1\n",
       "437      baker             17.3\n",
       "665        bay             17.8\n",
       "893   bradford             23.9\n",
       "1121   brevard             16.8"
      ]
     },
     "execution_count": 25,
     "metadata": {},
     "output_type": "execute_result"
    }
   ],
   "source": [
    "# Extract percent of the population that is non-white\n",
    "fl_racialid = fl_racialid.loc[fl_racialid['YEAR'] == 12]\n",
    "fl_racialid = fl_racialid.loc[fl_racialid['AGEGRP'] == 0]\n",
    "fl_racialid = fl_racialid[['CTYNAME','TOT_POP','WA_MALE', 'WA_FEMALE']]\n",
    "fl_racialid['TotalWhitePop'] = fl_racialid['WA_MALE'] + fl_racialid['WA_FEMALE']\n",
    "\n",
    "# Calculate percent of the population that is non-white\n",
    "fl_racialid['PercentNonWhite'] = (fl_racialid['TOT_POP'] - fl_racialid['TotalWhitePop']) / fl_racialid['TOT_POP'] * 100 # Calculate the percentage of county population that is non-white\n",
    "fl_racialid[\"PercentNonWhite\"] = fl_racialid[\"PercentNonWhite\"].round(1)\n",
    "fl_racialid = fl_racialid.drop(['TOT_POP','WA_MALE','WA_FEMALE','TotalWhitePop'],axis=1)\n",
    "fl_racialid = fl_racialid.rename(columns={\"CTYNAME\": \"County\"})\n",
    "fl_racialid['County'] = fl_racialid['County'].str[:-7]\n",
    "fl_racialid['County'] = fl_racialid['County'].str.lower()\n",
    "\n",
    "# Check accuracy of the variables\n",
    "fl_racialid.head()"
   ]
  },
  {
   "cell_type": "markdown",
   "metadata": {},
   "source": [
    "The percentage of individuals who have been diagnosed with diabetes by county were extracted."
   ]
  },
  {
   "cell_type": "code",
   "execution_count": 26,
   "metadata": {},
   "outputs": [
    {
     "data": {
      "text/html": [
       "<div>\n",
       "<style scoped>\n",
       "    .dataframe tbody tr th:only-of-type {\n",
       "        vertical-align: middle;\n",
       "    }\n",
       "\n",
       "    .dataframe tbody tr th {\n",
       "        vertical-align: top;\n",
       "    }\n",
       "\n",
       "    .dataframe thead th {\n",
       "        text-align: right;\n",
       "    }\n",
       "</style>\n",
       "<table border=\"1\" class=\"dataframe\">\n",
       "  <thead>\n",
       "    <tr style=\"text-align: right;\">\n",
       "      <th></th>\n",
       "      <th>County</th>\n",
       "      <th>PercentDiabetic</th>\n",
       "    </tr>\n",
       "  </thead>\n",
       "  <tbody>\n",
       "    <tr>\n",
       "      <th>152</th>\n",
       "      <td>monroe</td>\n",
       "      <td>7.2</td>\n",
       "    </tr>\n",
       "    <tr>\n",
       "      <th>234</th>\n",
       "      <td>miami-dade</td>\n",
       "      <td>7.7</td>\n",
       "    </tr>\n",
       "    <tr>\n",
       "      <th>339</th>\n",
       "      <td>leon</td>\n",
       "      <td>8.2</td>\n",
       "    </tr>\n",
       "    <tr>\n",
       "      <th>340</th>\n",
       "      <td>st. johns</td>\n",
       "      <td>8.2</td>\n",
       "    </tr>\n",
       "    <tr>\n",
       "      <th>523</th>\n",
       "      <td>orange</td>\n",
       "      <td>8.8</td>\n",
       "    </tr>\n",
       "  </tbody>\n",
       "</table>\n",
       "</div>"
      ],
      "text/plain": [
       "         County PercentDiabetic\n",
       "152      monroe             7.2\n",
       "234  miami-dade             7.7\n",
       "339        leon             8.2\n",
       "340   st. johns             8.2\n",
       "523      orange             8.8"
      ]
     },
     "execution_count": 26,
     "metadata": {},
     "output_type": "execute_result"
    }
   ],
   "source": [
    "# Extract percent of the population that has been diagnosed with diabetes and examine variables\n",
    "fl_pehealth = fl_pehealth[fl_pehealth['State'].str.contains(\"Florida\")]\n",
    "fl_pehealth = fl_pehealth[['County','Percentage']]\n",
    "fl_pehealth = fl_pehealth.rename(columns={\"Percentage\": \"PercentDiabetic\"})\n",
    "fl_pehealth['County'] = fl_pehealth['County'].str[:-7]\n",
    "fl_pehealth['County'] = fl_pehealth['County'].str.lower()\n",
    "fl_pehealth.head()"
   ]
  },
  {
   "cell_type": "markdown",
   "metadata": {},
   "source": [
    "The percentage of individuals who are uninsured was extracted. For this dataset, it was required to specify that the categories of interest were all ages, all races, all sexes, and all income levels."
   ]
  },
  {
   "cell_type": "code",
   "execution_count": 27,
   "metadata": {},
   "outputs": [
    {
     "data": {
      "text/html": [
       "<div>\n",
       "<style scoped>\n",
       "    .dataframe tbody tr th:only-of-type {\n",
       "        vertical-align: middle;\n",
       "    }\n",
       "\n",
       "    .dataframe tbody tr th {\n",
       "        vertical-align: top;\n",
       "    }\n",
       "\n",
       "    .dataframe thead th {\n",
       "        text-align: right;\n",
       "    }\n",
       "</style>\n",
       "<table border=\"1\" class=\"dataframe\">\n",
       "  <thead>\n",
       "    <tr style=\"text-align: right;\">\n",
       "      <th></th>\n",
       "      <th>County</th>\n",
       "      <th>PercentUninsured</th>\n",
       "    </tr>\n",
       "  </thead>\n",
       "  <tbody>\n",
       "    <tr>\n",
       "      <th>6300</th>\n",
       "      <td>alachua</td>\n",
       "      <td>11.6</td>\n",
       "    </tr>\n",
       "    <tr>\n",
       "      <th>6396</th>\n",
       "      <td>baker</td>\n",
       "      <td>11.5</td>\n",
       "    </tr>\n",
       "    <tr>\n",
       "      <th>6492</th>\n",
       "      <td>bay</td>\n",
       "      <td>15.0</td>\n",
       "    </tr>\n",
       "    <tr>\n",
       "      <th>6588</th>\n",
       "      <td>bradford</td>\n",
       "      <td>13.5</td>\n",
       "    </tr>\n",
       "    <tr>\n",
       "      <th>6684</th>\n",
       "      <td>brevard</td>\n",
       "      <td>13.4</td>\n",
       "    </tr>\n",
       "  </tbody>\n",
       "</table>\n",
       "</div>"
      ],
      "text/plain": [
       "        County  PercentUninsured\n",
       "6300   alachua              11.6\n",
       "6396     baker              11.5\n",
       "6492       bay              15.0\n",
       "6588  bradford              13.5\n",
       "6684   brevard              13.4"
      ]
     },
     "execution_count": 27,
     "metadata": {},
     "output_type": "execute_result"
    }
   ],
   "source": [
    "# Extract percentage of individuals who are uninsured and examine variables\n",
    "fl_healthins = fl_healthins[fl_healthins['state_name'].str.contains(\"Florida\")]\n",
    "fl_healthins = fl_healthins.loc[fl_healthins['agecat'] == 0]\n",
    "fl_healthins = fl_healthins.loc[fl_healthins['racecat'] == 0]\n",
    "fl_healthins = fl_healthins.loc[fl_healthins['sexcat'] == 0]\n",
    "fl_healthins = fl_healthins.loc[fl_healthins['iprcat'] == 0]\n",
    "fl_healthins = fl_healthins[['county_name','PCTELIG']]\n",
    "fl_healthins = fl_healthins.rename(columns={\"county_name\": \"County\",\"PCTELIG\": \"PercentUninsured\"})\n",
    "fl_healthins = fl_healthins.iloc[1:]\n",
    "fl_healthins['County'] = fl_healthins['County'].str.strip()\n",
    "fl_healthins['County'] = fl_healthins['County'].str[:-7]\n",
    "fl_healthins['County'] = fl_healthins['County'].str.lower()\n",
    "fl_healthins.head()"
   ]
  },
  {
   "cell_type": "markdown",
   "metadata": {},
   "source": [
    "The data was merged together into a final dataframe. The population density and deaths per capita measures were calculated. Counties with 0 deaths had their deaths per capita set to 0. The final Florida dataset was exported."
   ]
  },
  {
   "cell_type": "code",
   "execution_count": 28,
   "metadata": {},
   "outputs": [
    {
     "data": {
      "text/html": [
       "<div>\n",
       "<style scoped>\n",
       "    .dataframe tbody tr th:only-of-type {\n",
       "        vertical-align: middle;\n",
       "    }\n",
       "\n",
       "    .dataframe tbody tr th {\n",
       "        vertical-align: top;\n",
       "    }\n",
       "\n",
       "    .dataframe thead th {\n",
       "        text-align: right;\n",
       "    }\n",
       "</style>\n",
       "<table border=\"1\" class=\"dataframe\">\n",
       "  <thead>\n",
       "    <tr style=\"text-align: right;\">\n",
       "      <th></th>\n",
       "      <th>County</th>\n",
       "      <th>IncomePerCapita</th>\n",
       "      <th>MedianAge</th>\n",
       "      <th>PercentFemale</th>\n",
       "      <th>PercentNonWhite</th>\n",
       "      <th>PercentDiabetic</th>\n",
       "      <th>PercentUninsured</th>\n",
       "      <th>PopulationDensity</th>\n",
       "      <th>DeathsPerCapita</th>\n",
       "    </tr>\n",
       "  </thead>\n",
       "  <tbody>\n",
       "    <tr>\n",
       "      <th>0</th>\n",
       "      <td>alachua</td>\n",
       "      <td>46690</td>\n",
       "      <td>32.1</td>\n",
       "      <td>51.8</td>\n",
       "      <td>30.1</td>\n",
       "      <td>9.3</td>\n",
       "      <td>11.6</td>\n",
       "      <td>307.470686</td>\n",
       "      <td>0.000379</td>\n",
       "    </tr>\n",
       "    <tr>\n",
       "      <th>1</th>\n",
       "      <td>baker</td>\n",
       "      <td>33254</td>\n",
       "      <td>37.2</td>\n",
       "      <td>47.4</td>\n",
       "      <td>17.3</td>\n",
       "      <td>14.5</td>\n",
       "      <td>11.5</td>\n",
       "      <td>49.912000</td>\n",
       "      <td>0.001130</td>\n",
       "    </tr>\n",
       "    <tr>\n",
       "      <th>2</th>\n",
       "      <td>bay</td>\n",
       "      <td>45690</td>\n",
       "      <td>41.8</td>\n",
       "      <td>50.4</td>\n",
       "      <td>17.8</td>\n",
       "      <td>12</td>\n",
       "      <td>15.0</td>\n",
       "      <td>230.341745</td>\n",
       "      <td>0.000910</td>\n",
       "    </tr>\n",
       "    <tr>\n",
       "      <th>3</th>\n",
       "      <td>bradford</td>\n",
       "      <td>34179</td>\n",
       "      <td>39.8</td>\n",
       "      <td>44.4</td>\n",
       "      <td>23.9</td>\n",
       "      <td>12.6</td>\n",
       "      <td>13.5</td>\n",
       "      <td>95.934821</td>\n",
       "      <td>0.000638</td>\n",
       "    </tr>\n",
       "    <tr>\n",
       "      <th>4</th>\n",
       "      <td>brevard</td>\n",
       "      <td>47911</td>\n",
       "      <td>47.7</td>\n",
       "      <td>51.1</td>\n",
       "      <td>16.8</td>\n",
       "      <td>13.1</td>\n",
       "      <td>13.4</td>\n",
       "      <td>592.660930</td>\n",
       "      <td>0.000749</td>\n",
       "    </tr>\n",
       "  </tbody>\n",
       "</table>\n",
       "</div>"
      ],
      "text/plain": [
       "     County  IncomePerCapita  MedianAge  PercentFemale  PercentNonWhite  \\\n",
       "0   alachua            46690       32.1           51.8             30.1   \n",
       "1     baker            33254       37.2           47.4             17.3   \n",
       "2       bay            45690       41.8           50.4             17.8   \n",
       "3  bradford            34179       39.8           44.4             23.9   \n",
       "4   brevard            47911       47.7           51.1             16.8   \n",
       "\n",
       "  PercentDiabetic  PercentUninsured  PopulationDensity  DeathsPerCapita  \n",
       "0             9.3              11.6         307.470686         0.000379  \n",
       "1            14.5              11.5          49.912000         0.001130  \n",
       "2              12              15.0         230.341745         0.000910  \n",
       "3            12.6              13.5          95.934821         0.000638  \n",
       "4            13.1              13.4         592.660930         0.000749  "
      ]
     },
     "execution_count": 28,
     "metadata": {},
     "output_type": "execute_result"
    }
   ],
   "source": [
    "# Merge together variables into a final dataset\n",
    "fl_countydata = fl_deaths.merge(fl_ipc,how=\"inner\",on=\"County\")\n",
    "fl_countydata = fl_countydata.merge(fl_age,how=\"right\",on=\"County\")\n",
    "fl_countydata = fl_countydata.merge(fl_racialid,how=\"right\",on=\"County\")\n",
    "fl_countydata = fl_countydata.merge(fl_landarea,how=\"right\",on=\"County\")\n",
    "fl_countydata = fl_countydata.merge(fl_pehealth,how=\"right\",on=\"County\")\n",
    "fl_countydata = fl_countydata.merge(fl_healthins,how=\"right\",on=\"County\")\n",
    "\n",
    "# Calculate population density with population divided by land area\n",
    "fl_countydata[\"PopulationDensity\"] = fl_countydata[\"Population\"] / fl_countydata[\"LandArea\"]\n",
    "\n",
    "# Calculate deaths per capita with deaths divided by population\n",
    "fl_countydata[\"DeathsPerCapita\"] = fl_countydata[\"Deaths\"] / fl_countydata[\"Population\"]\n",
    "\n",
    "# Drop unused variables\n",
    "fl_countydata = fl_countydata.drop(['Deaths','Population','LandArea'],axis = 1)\n",
    "\n",
    "# Fill NA values with 0s\n",
    "fl_countydata = fl_countydata.fillna(0)\n",
    "\n",
    "# Write out final dataset\n",
    "fl_countydata.to_csv('fl-county-final.csv', index=False)\n",
    "\n",
    "# Examine variables\n",
    "fl_countydata.head()"
   ]
  },
  {
   "cell_type": "markdown",
   "metadata": {},
   "source": [
    "## Exploratory Data Analysis"
   ]
  },
  {
   "cell_type": "markdown",
   "metadata": {},
   "source": [
    "As an initial examination, a correlation map of all of the variables was calculated and plotted on a heatmap. Some notable relationships included positive correlations between income per capita and population density and percent non-white and population density. Negative correlations included median age and deaths per capita."
   ]
  },
  {
   "cell_type": "code",
   "execution_count": 29,
   "metadata": {},
   "outputs": [
    {
     "data": {
      "image/png": "[encoded data removed]",
      "text/plain": [
       "<Figure size 432x288 with 2 Axes>"
      ]
     },
     "metadata": {
      "needs_background": "light"
     },
     "output_type": "display_data"
    }
   ],
   "source": [
    "# Create correlation matrix\n",
    "corrMatrix = wa_countydata.corr()\n",
    "\n",
    "# Plot heatmap\n",
    "sn.heatmap(corrMatrix, annot=True)\n",
    "plt.show()"
   ]
  },
  {
   "cell_type": "markdown",
   "metadata": {},
   "source": [
    "Distributions for the features and response variable were plotted. Deaths per capita is relatively normally distributed, although there are few outliers. A log transform was applied to the response. Although some information is obscured by doing so (i.e. __ unit increase of X equals 1 unit increase of deaths per capita), I felt it was still appropriate because the model is trying to estimate poor outcomes. Deaths per capita is just a proxy measure in the first place."
   ]
  },
  {
   "cell_type": "code",
   "execution_count": 30,
   "metadata": {},
   "outputs": [
    {
     "data": {
      "image/png": "[encoded data removed]",
      "text/plain": [
       "<Figure size 432x288 with 2 Axes>"
      ]
     },
     "metadata": {
      "needs_background": "light"
     },
     "output_type": "display_data"
    }
   ],
   "source": [
    "# Create a log-transformed variable\n",
    "wa_countydata['DeathsPerCapita_log'] = np.log(wa_countydata['DeathsPerCapita']+0.0001) # Constant added to deal with 0 values\n",
    "\n",
    "# Plot the data before and after the transformation\n",
    "wa_countydata[['DeathsPerCapita', 'DeathsPerCapita_log']].hist()\n",
    "plt.show()\n",
    "\n",
    "# Drop the deaths per capita variable from the model\n",
    "wa_countydata = wa_countydata.drop(['DeathsPerCapita'], axis=1)"
   ]
  },
  {
   "cell_type": "markdown",
   "metadata": {},
   "source": [
    "Income per capita is also a relatively normally distributed measure with a couple of large outliers. While not a perfect fix, a log transform was fit to this variable as well."
   ]
  },
  {
   "cell_type": "code",
   "execution_count": 31,
   "metadata": {},
   "outputs": [
    {
     "data": {
      "image/png": "[encoded data removed]",
      "text/plain": [
       "<Figure size 432x288 with 2 Axes>"
      ]
     },
     "metadata": {
      "needs_background": "light"
     },
     "output_type": "display_data"
    }
   ],
   "source": [
    "# Create a log-transformed variable\n",
    "wa_countydata['IncomePerCapita_log'] = np.log(wa_countydata['IncomePerCapita'])\n",
    "\n",
    "# Plot the data before and after the transformation\n",
    "wa_countydata[['IncomePerCapita', 'IncomePerCapita_log']].hist()\n",
    "plt.show()\n",
    "\n",
    "# Drop the deaths per capita variable from the model\n",
    "wa_countydata = wa_countydata.drop(['IncomePerCapita'], axis=1)"
   ]
  },
  {
   "cell_type": "markdown",
   "metadata": {},
   "source": [
    "Population density is highly skewed. Therefore, a log transformation was required in order to make the distribution normal."
   ]
  },
  {
   "cell_type": "code",
   "execution_count": 32,
   "metadata": {},
   "outputs": [
    {
     "data": {
      "image/png": "[encoded data removed]",
      "text/plain": [
       "<Figure size 432x288 with 2 Axes>"
      ]
     },
     "metadata": {
      "needs_background": "light"
     },
     "output_type": "display_data"
    }
   ],
   "source": [
    "# Create a log-transformed variable\n",
    "wa_countydata['PopulationDensity_log'] = np.log(wa_countydata['PopulationDensity'])\n",
    "\n",
    "# Plot the data before and after the transformation\n",
    "wa_countydata[['PopulationDensity', 'PopulationDensity_log']].hist()\n",
    "plt.show()\n",
    "\n",
    "# Drop the deaths per capita variable from the model\n",
    "wa_countydata = wa_countydata.drop(['PopulationDensity'], axis=1)"
   ]
  },
  {
   "cell_type": "markdown",
   "metadata": {},
   "source": [
    "Median age is relatively normally distributed."
   ]
  },
  {
   "cell_type": "code",
   "execution_count": 33,
   "metadata": {},
   "outputs": [
    {
     "data": {
      "text/plain": [
       "(array([2., 1., 3., 9., 5., 5., 6., 4., 2., 2.]),\n",
       " array([25.2 , 28.61, 32.02, 35.43, 38.84, 42.25, 45.66, 49.07, 52.48,\n",
       "        55.89, 59.3 ]),\n",
       " <a list of 10 Patch objects>)"
      ]
     },
     "execution_count": 33,
     "metadata": {},
     "output_type": "execute_result"
    },
    {
     "data": {
      "image/png": "[encoded data removed]",
      "text/plain": [
       "<Figure size 432x288 with 1 Axes>"
      ]
     },
     "metadata": {
      "needs_background": "light"
     },
     "output_type": "display_data"
    }
   ],
   "source": [
    "# Plot histogram of distribution\n",
    "plt.hist(wa_countydata['MedianAge'])"
   ]
  },
  {
   "cell_type": "markdown",
   "metadata": {},
   "source": [
    "Percent female is relatively normally distributed."
   ]
  },
  {
   "cell_type": "code",
   "execution_count": 34,
   "metadata": {},
   "outputs": [
    {
     "data": {
      "text/plain": [
       "(array([2., 1., 8., 5., 5., 5., 7., 0., 5., 1.]),\n",
       " array([48.1 , 48.46, 48.82, 49.18, 49.54, 49.9 , 50.26, 50.62, 50.98,\n",
       "        51.34, 51.7 ]),\n",
       " <a list of 10 Patch objects>)"
      ]
     },
     "execution_count": 34,
     "metadata": {},
     "output_type": "execute_result"
    },
    {
     "data": {
      "image/png": "[encoded data removed]",
      "text/plain": [
       "<Figure size 432x288 with 1 Axes>"
      ]
     },
     "metadata": {
      "needs_background": "light"
     },
     "output_type": "display_data"
    }
   ],
   "source": [
    "# Plot histogram of distribution\n",
    "plt.hist(wa_countydata['PercentFemale'])"
   ]
  },
  {
   "cell_type": "markdown",
   "metadata": {},
   "source": [
    "Percent non-white was skewed so I performed a log-transform of the data."
   ]
  },
  {
   "cell_type": "code",
   "execution_count": 35,
   "metadata": {},
   "outputs": [
    {
     "data": {
      "image/png": "[encoded data removed]",
      "text/plain": [
       "<Figure size 432x288 with 2 Axes>"
      ]
     },
     "metadata": {
      "needs_background": "light"
     },
     "output_type": "display_data"
    }
   ],
   "source": [
    "# Create a log-transformed variable\n",
    "wa_countydata['PercentNonWhite_log'] = np.log(wa_countydata['PercentNonWhite'])\n",
    "\n",
    "# Plot the data before and after the transformation\n",
    "wa_countydata[['PercentNonWhite', 'PercentNonWhite_log']].hist()\n",
    "plt.show()\n",
    "\n",
    "# Drop the deaths per capita variable from the model\n",
    "wa_countydata = wa_countydata.drop(['PercentNonWhite'], axis=1)"
   ]
  },
  {
   "cell_type": "markdown",
   "metadata": {},
   "source": [
    "The percentage of the population with a diabetes diagnosis is relatively normally distributed."
   ]
  },
  {
   "cell_type": "code",
   "execution_count": 36,
   "metadata": {},
   "outputs": [
    {
     "data": {
      "text/plain": [
       "(array([2., 2., 5., 5., 8., 0., 7., 4., 3., 3.]),\n",
       " array([ 6.1 ,  6.97,  7.84,  8.71,  9.58, 10.45, 11.32, 12.19, 13.06,\n",
       "        13.93, 14.8 ]),\n",
       " <a list of 10 Patch objects>)"
      ]
     },
     "execution_count": 36,
     "metadata": {},
     "output_type": "execute_result"
    },
    {
     "data": {
      "image/png": "[encoded data removed]",
      "text/plain": [
       "<Figure size 432x288 with 1 Axes>"
      ]
     },
     "metadata": {
      "needs_background": "light"
     },
     "output_type": "display_data"
    }
   ],
   "source": [
    "# Plot histogram of distribution\n",
    "wa_countydata['PercentDiabetic'] = pd.to_numeric(wa_countydata['PercentDiabetic'])\n",
    "plt.hist(wa_countydata['PercentDiabetic'])"
   ]
  },
  {
   "cell_type": "markdown",
   "metadata": {},
   "source": [
    "Percent uninsured is relatively normally distributed, so it will be left as is."
   ]
  },
  {
   "cell_type": "code",
   "execution_count": 37,
   "metadata": {},
   "outputs": [
    {
     "data": {
      "text/plain": [
       "(array([1., 7., 8., 7., 6., 5., 2., 1., 1., 1.]),\n",
       " array([ 4.7 ,  5.82,  6.94,  8.06,  9.18, 10.3 , 11.42, 12.54, 13.66,\n",
       "        14.78, 15.9 ]),\n",
       " <a list of 10 Patch objects>)"
      ]
     },
     "execution_count": 37,
     "metadata": {},
     "output_type": "execute_result"
    },
    {
     "data": {
      "image/png": "[encoded data removed]",
      "text/plain": [
       "<Figure size 432x288 with 1 Axes>"
      ]
     },
     "metadata": {
      "needs_background": "light"
     },
     "output_type": "display_data"
    }
   ],
   "source": [
    "# Plot histogram of distribution\n",
    "plt.hist(wa_countydata['PercentUninsured'])"
   ]
  },
  {
   "cell_type": "markdown",
   "metadata": {},
   "source": [
    "Scatterplots were generated to examine the relationship between the features and the responding variable to make sure that a linear relationship exists. There does seem to be relative linearity present across all features."
   ]
  },
  {
   "cell_type": "code",
   "execution_count": 38,
   "metadata": {},
   "outputs": [
    {
     "data": {
      "text/plain": [
       "[<matplotlib.lines.Line2D at 0x7fe87b1d7f50>]"
      ]
     },
     "execution_count": 38,
     "metadata": {},
     "output_type": "execute_result"
    },
    {
     "data": {
      "image/png": "[encoded data removed]",
      "text/plain": [
       "<Figure size 432x288 with 1 Axes>"
      ]
     },
     "metadata": {
      "needs_background": "light"
     },
     "output_type": "display_data"
    }
   ],
   "source": [
    "# Plot scatterplot\n",
    "plt.plot(wa_countydata['IncomePerCapita_log'],wa_countydata['DeathsPerCapita_log'],'o')"
   ]
  },
  {
   "cell_type": "code",
   "execution_count": 39,
   "metadata": {},
   "outputs": [
    {
     "data": {
      "text/plain": [
       "[<matplotlib.lines.Line2D at 0x7fe87b2ec2d0>]"
      ]
     },
     "execution_count": 39,
     "metadata": {},
     "output_type": "execute_result"
    },
    {
     "data": {
      "image/png": "[encoded data removed]",
      "text/plain": [
       "<Figure size 432x288 with 1 Axes>"
      ]
     },
     "metadata": {
      "needs_background": "light"
     },
     "output_type": "display_data"
    }
   ],
   "source": [
    "# Plot scatterplot\n",
    "plt.plot(wa_countydata['PopulationDensity_log'],wa_countydata['DeathsPerCapita_log'],'o')"
   ]
  },
  {
   "cell_type": "code",
   "execution_count": 40,
   "metadata": {},
   "outputs": [
    {
     "data": {
      "text/plain": [
       "[<matplotlib.lines.Line2D at 0x7fe87b106450>]"
      ]
     },
     "execution_count": 40,
     "metadata": {},
     "output_type": "execute_result"
    },
    {
     "data": {
      "image/png": "[encoded data removed]",
      "text/plain": [
       "<Figure size 432x288 with 1 Axes>"
      ]
     },
     "metadata": {
      "needs_background": "light"
     },
     "output_type": "display_data"
    }
   ],
   "source": [
    "# Plot scatterplot\n",
    "plt.plot(wa_countydata['MedianAge'],wa_countydata['DeathsPerCapita_log'],'o')"
   ]
  },
  {
   "cell_type": "code",
   "execution_count": 41,
   "metadata": {},
   "outputs": [
    {
     "data": {
      "text/plain": [
       "[<matplotlib.lines.Line2D at 0x7fe87b13f410>]"
      ]
     },
     "execution_count": 41,
     "metadata": {},
     "output_type": "execute_result"
    },
    {
     "data": {
      "image/png": "[encoded data removed]",
      "text/plain": [
       "<Figure size 432x288 with 1 Axes>"
      ]
     },
     "metadata": {
      "needs_background": "light"
     },
     "output_type": "display_data"
    }
   ],
   "source": [
    "# Plot scatterplot\n",
    "plt.plot(wa_countydata['PercentFemale'],wa_countydata['DeathsPerCapita_log'],'o')"
   ]
  },
  {
   "cell_type": "code",
   "execution_count": 42,
   "metadata": {},
   "outputs": [
    {
     "data": {
      "text/plain": [
       "[<matplotlib.lines.Line2D at 0x7fe87b278d90>]"
      ]
     },
     "execution_count": 42,
     "metadata": {},
     "output_type": "execute_result"
    },
    {
     "data": {
      "image/png": "[encoded data removed]",
      "text/plain": [
       "<Figure size 432x288 with 1 Axes>"
      ]
     },
     "metadata": {
      "needs_background": "light"
     },
     "output_type": "display_data"
    }
   ],
   "source": [
    "# Plot scatterplot\n",
    "plt.plot(wa_countydata['PercentNonWhite_log'],wa_countydata['DeathsPerCapita_log'],'o')"
   ]
  },
  {
   "cell_type": "code",
   "execution_count": 43,
   "metadata": {},
   "outputs": [
    {
     "data": {
      "text/plain": [
       "[<matplotlib.lines.Line2D at 0x7fe87b088ad0>]"
      ]
     },
     "execution_count": 43,
     "metadata": {},
     "output_type": "execute_result"
    },
    {
     "data": {
      "image/png": "[encoded data removed]",
      "text/plain": [
       "<Figure size 432x288 with 1 Axes>"
      ]
     },
     "metadata": {
      "needs_background": "light"
     },
     "output_type": "display_data"
    }
   ],
   "source": [
    "# Plot scatterplot\n",
    "plt.plot(wa_countydata['PercentDiabetic'],wa_countydata['DeathsPerCapita_log'],'o')"
   ]
  },
  {
   "cell_type": "code",
   "execution_count": 44,
   "metadata": {},
   "outputs": [
    {
     "data": {
      "text/plain": [
       "[<matplotlib.lines.Line2D at 0x7fe87b160550>]"
      ]
     },
     "execution_count": 44,
     "metadata": {},
     "output_type": "execute_result"
    },
    {
     "data": {
      "image/png": "[encoded data removed]",
      "text/plain": [
       "<Figure size 432x288 with 1 Axes>"
      ]
     },
     "metadata": {
      "needs_background": "light"
     },
     "output_type": "display_data"
    }
   ],
   "source": [
    "# Plot scatterplot\n",
    "plt.plot(wa_countydata['PercentUninsured'],wa_countydata['DeathsPerCapita_log'],'o')"
   ]
  },
  {
   "cell_type": "markdown",
   "metadata": {},
   "source": [
    "Calfornia and Florida features were log-transformed using the same methods on the same variables."
   ]
  },
  {
   "cell_type": "code",
   "execution_count": 45,
   "metadata": {},
   "outputs": [],
   "source": [
    "# California feature transformation\n",
    "ca_countydata['DeathsPerCapita_log'] = np.log(ca_countydata['DeathsPerCapita']+0.0001)\n",
    "ca_countydata = ca_countydata.drop(['DeathsPerCapita'], axis=1)\n",
    "\n",
    "ca_countydata['IncomePerCapita_log'] = np.log(ca_countydata['IncomePerCapita'])\n",
    "ca_countydata = ca_countydata.drop(['IncomePerCapita'], axis=1)\n",
    "\n",
    "ca_countydata['PopulationDensity_log'] = np.log(ca_countydata['PopulationDensity'])\n",
    "ca_countydata = ca_countydata.drop(['PopulationDensity'], axis=1)\n",
    "\n",
    "ca_countydata['PercentNonWhite_log'] = np.log(ca_countydata['PercentNonWhite'])\n",
    "ca_countydata = ca_countydata.drop(['PercentNonWhite'], axis=1)\n",
    "\n",
    "# Florida feature transformation\n",
    "fl_countydata['DeathsPerCapita_log'] = np.log(fl_countydata['DeathsPerCapita']+0.0001)\n",
    "fl_countydata = fl_countydata.drop(['DeathsPerCapita'], axis=1)\n",
    "\n",
    "fl_countydata['IncomePerCapita_log'] = np.log(fl_countydata['IncomePerCapita'])\n",
    "fl_countydata = fl_countydata.drop(['IncomePerCapita'], axis=1)\n",
    "\n",
    "fl_countydata['PopulationDensity_log'] = np.log(fl_countydata['PopulationDensity'])\n",
    "fl_countydata = fl_countydata.drop(['PopulationDensity'], axis=1)\n",
    "\n",
    "fl_countydata['PercentNonWhite_log'] = np.log(fl_countydata['PercentNonWhite'])\n",
    "fl_countydata = fl_countydata.drop(['PercentNonWhite'], axis=1)"
   ]
  },
  {
   "cell_type": "markdown",
   "metadata": {},
   "source": [
    "Variance inflation factors were examined to estimate the amount of collinearity between the variables."
   ]
  },
  {
   "cell_type": "code",
   "execution_count": 46,
   "metadata": {},
   "outputs": [
    {
     "name": "stdout",
     "output_type": "stream",
     "text": [
      "                 feature          VIF\n",
      "0              MedianAge    46.546589\n",
      "1          PercentFemale  4394.442607\n",
      "2        PercentDiabetic    33.986222\n",
      "3       PercentUninsured    16.633779\n",
      "4    IncomePerCapita_log  4486.081858\n",
      "5  PopulationDensity_log    13.488110\n",
      "6    PercentNonWhite_log    50.924108\n"
     ]
    }
   ],
   "source": [
    "# Load VIF library\n",
    "from statsmodels.stats.outliers_influence import variance_inflation_factor \n",
    "\n",
    "# Set up regression matrices\n",
    "X = wa_countydata.drop('DeathsPerCapita_log', axis=1)\n",
    "X = X.drop('County', axis=1)\n",
    "y = wa_countydata['DeathsPerCapita_log']\n",
    "\n",
    "# VIF dataframe \n",
    "vif_data = pd.DataFrame() \n",
    "vif_data[\"feature\"] = X.columns \n",
    "  \n",
    "# calculating VIF for each feature \n",
    "vif_data[\"VIF\"] = [variance_inflation_factor(X.values, i) \n",
    "                          for i in range(len(X.columns))] \n",
    "  \n",
    "print(vif_data)"
   ]
  },
  {
   "cell_type": "markdown",
   "metadata": {},
   "source": [
    "Percent female and the log of income per capita were extremely high. Generally, VIF larger than 10 should raise some concern. Therefore, these variables were dropped from the model and VIF were compared again."
   ]
  },
  {
   "cell_type": "code",
   "execution_count": 47,
   "metadata": {},
   "outputs": [
    {
     "name": "stdout",
     "output_type": "stream",
     "text": [
      "                 feature        VIF\n",
      "0              MedianAge  28.008083\n",
      "1        PercentDiabetic  29.001759\n",
      "2       PercentUninsured  12.060708\n",
      "3  PopulationDensity_log  11.053716\n",
      "4    PercentNonWhite_log  37.924092\n"
     ]
    }
   ],
   "source": [
    "# Set up regression matrices\n",
    "X = wa_countydata.drop('DeathsPerCapita_log', axis=1)\n",
    "X = X.drop('County', axis=1)\n",
    "X = X.drop('IncomePerCapita_log', axis=1)\n",
    "X = X.drop('PercentFemale', axis=1)\n",
    "y = wa_countydata['DeathsPerCapita_log']\n",
    "\n",
    "# VIF dataframe \n",
    "vif_data = pd.DataFrame() \n",
    "vif_data[\"feature\"] = X.columns \n",
    "  \n",
    "# calculating VIF for each feature \n",
    "vif_data[\"VIF\"] = [variance_inflation_factor(X.values, i) \n",
    "                          for i in range(len(X.columns))] \n",
    "  \n",
    "print(vif_data)"
   ]
  },
  {
   "cell_type": "markdown",
   "metadata": {},
   "source": [
    "While still high, I decided to proceed with these factors. A model that can handle a degree of multicollinearity would need to be selected for the final evaluation. Ordinary least squares regression was run to get a sense of how well a basic linear model would fit to the data."
   ]
  },
  {
   "cell_type": "code",
   "execution_count": 48,
   "metadata": {},
   "outputs": [
    {
     "name": "stdout",
     "output_type": "stream",
     "text": [
      "                             OLS Regression Results                            \n",
      "===============================================================================\n",
      "Dep. Variable:     DeathsPerCapita_log   R-squared:                       0.593\n",
      "Model:                             OLS   Adj. R-squared:                  0.531\n",
      "Method:                  Least Squares   F-statistic:                     9.619\n",
      "Date:                 Mon, 07 Dec 2020   Prob (F-statistic):           9.82e-06\n",
      "Time:                         22:49:28   Log-Likelihood:                -18.126\n",
      "No. Observations:                   39   AIC:                             48.25\n",
      "Df Residuals:                       33   BIC:                             58.23\n",
      "Df Model:                            5                                         \n",
      "Covariance Type:             nonrobust                                         \n",
      "=========================================================================================\n",
      "                            coef    std err          t      P>|t|      [0.025      0.975]\n",
      "-----------------------------------------------------------------------------------------\n",
      "const                    -6.1169      0.821     -7.454      0.000      -7.786      -4.447\n",
      "MedianAge                -0.0574      0.010     -5.663      0.000      -0.078      -0.037\n",
      "PercentDiabetic           0.0096      0.035      0.272      0.787      -0.062       0.082\n",
      "PercentUninsured          0.0482      0.030      1.604      0.118      -0.013       0.109\n",
      "PopulationDensity_log    -0.0116      0.058     -0.200      0.843      -0.130       0.107\n",
      "PercentNonWhite_log       0.0075      0.191      0.039      0.969      -0.381       0.396\n",
      "==============================================================================\n",
      "Omnibus:                        7.800   Durbin-Watson:                   2.130\n",
      "Prob(Omnibus):                  0.020   Jarque-Bera (JB):                6.571\n",
      "Skew:                           0.828   Prob(JB):                       0.0374\n",
      "Kurtosis:                       4.140   Cond. No.                         561.\n",
      "==============================================================================\n",
      "\n",
      "Notes:\n",
      "[1] Standard Errors assume that the covariance matrix of the errors is correctly specified.\n"
     ]
    }
   ],
   "source": [
    "# Load statistical model library\n",
    "import statsmodels.api as sm\n",
    "\n",
    "# Add constant for regression analysis\n",
    "X = sm.add_constant(X)\n",
    "\n",
    "# Create ordinary least squares model and fit it to the dataset.\n",
    "model = sm.OLS(y, X)\n",
    "results = model.fit()\n",
    "print(results.summary())"
   ]
  },
  {
   "cell_type": "markdown",
   "metadata": {},
   "source": [
    "Age seems to be significant in predicting the log transformation of the deaths per capita. The basic linear regression model fits reasonably well with an R^2 of 0.592."
   ]
  },
  {
   "cell_type": "markdown",
   "metadata": {},
   "source": [
    "## Model Selection and Evaluation"
   ]
  },
  {
   "cell_type": "markdown",
   "metadata": {},
   "source": [
    "I selected ridge regression as the most appropriate model for predicting poor COVID-19 outcomes in Washington state counties. This decision was based on a few factors. The features (after transformation) are approximately normally distributed and appear to have a linear relationship with the response variable. Ridge regression is able to handle collinearity which was seen among some of the variables from the correlation matrix. Ridge regression will penalize some of the variables, but unlike lasso regression, none will be removed from the model. Therefore, it can be observed which features were most important in predicting poor outcomes (research question 2)."
   ]
  },
  {
   "cell_type": "code",
   "execution_count": 49,
   "metadata": {},
   "outputs": [],
   "source": [
    "# Load libraries\n",
    "from sklearn.linear_model import Ridge\n",
    "from sklearn.model_selection import train_test_split\n",
    "from sklearn import preprocessing\n",
    "\n",
    "# Create our X matrix with the predictors and y vector with the response\n",
    "X = wa_countydata.drop('DeathsPerCapita_log', axis=1)\n",
    "X = X.drop('County', axis=1)\n",
    "X = X.drop('IncomePerCapita_log', axis=1)\n",
    "X = X.drop('PercentFemale', axis=1)\n",
    "y = wa_countydata['DeathsPerCapita_log']\n",
    "\n",
    "# Divide the data into training and test sets.\n",
    "X_train, X_test, y_train, y_test = train_test_split(X, y, test_size=0.3,random_state=0)\n",
    "\n",
    "# Standardize the data\n",
    "scaler_X = preprocessing.StandardScaler().fit(X_train)\n",
    "X_train = scaler_X.transform(X_train)\n",
    "X_test = scaler_X.transform(X_test)\n",
    "scaler_y = preprocessing.StandardScaler().fit(y_train.values.reshape(-1, 1))\n",
    "y_train = scaler_y.transform(y_train.values.reshape(-1, 1)).reshape((-1))\n",
    "y_test = scaler_y.transform(y_test.values.reshape(-1, 1)).reshape((-1))"
   ]
  },
  {
   "cell_type": "markdown",
   "metadata": {},
   "source": [
    "I iterated over a range of alpha values between 0 (basic linear regression) and 0.5 attempting to minimize the MSE. The alpha value that did so was applied to the final model."
   ]
  },
  {
   "cell_type": "code",
   "execution_count": 50,
   "metadata": {},
   "outputs": [
    {
     "name": "stdout",
     "output_type": "stream",
     "text": [
      "[0.         1.65761318]\n"
     ]
    },
    {
     "data": {
      "image/png": "[encoded data removed]",
      "text/plain": [
       "<Figure size 432x288 with 1 Axes>"
      ]
     },
     "metadata": {
      "needs_background": "light"
     },
     "output_type": "display_data"
    }
   ],
   "source": [
    "# Set up the MSE array\n",
    "mse_data = np.zeros(shape=(51,2))\n",
    "counter = 0\n",
    "\n",
    "# Loop over the iterations of the model to minimize MSE\n",
    "for alpha in np.arange(0,1.02,0.02):\n",
    "    ridgeReg = Ridge(alpha=alpha, fit_intercept=False)\n",
    "    ridgeReg.fit(X_train, y_train)\n",
    "    mse = np.mean((ridgeReg.predict(X_test) - y_test)**2)\n",
    "    mse_data[counter] = [alpha,mse]\n",
    "    counter = counter + 1\n",
    "\n",
    "# Plot MSE by alpha value\n",
    "plt.scatter(mse_data[:,0],mse_data[:,1])\n",
    "plt.title(\"Minimizing MSE with Alpha Parameter Selection\")\n",
    "plt.xlabel(\"Alpha\")\n",
    "plt.ylabel(\"MSE\")\n",
    "\n",
    "# Find the alpha where MSE is minimized\n",
    "np.where(mse_data==np.min(mse_data[:,1]))\n",
    "print(mse_data[0,:])"
   ]
  },
  {
   "cell_type": "markdown",
   "metadata": {},
   "source": [
    "A pure linear model (alpha = 0) was actually the best fit for the dataset and obtained a mean-squared error of 1.658. Therefore, an alpha value of 0 was used for the final model."
   ]
  },
  {
   "cell_type": "code",
   "execution_count": 51,
   "metadata": {},
   "outputs": [
    {
     "name": "stdout",
     "output_type": "stream",
     "text": [
      "Coefficients: \n",
      " [-0.71318446  0.19136594  0.05687052 -0.15817593 -0.02499204]\n",
      "Variance score (R^2): 0.23713781197354725\n",
      "Mean-squared error: 1.6576131751914263\n"
     ]
    },
    {
     "data": {
      "image/png": "[encoded data removed]",
      "text/plain": [
       "<Figure size 432x288 with 1 Axes>"
      ]
     },
     "metadata": {
      "needs_background": "light"
     },
     "output_type": "display_data"
    },
    {
     "data": {
      "image/png": "[encoded data removed]",
      "text/plain": [
       "<Figure size 432x288 with 1 Axes>"
      ]
     },
     "metadata": {
      "needs_background": "light"
     },
     "output_type": "display_data"
    }
   ],
   "source": [
    "# Create and train ridge regression object \n",
    "ridgeReg = Ridge(alpha=0, fit_intercept=False)\n",
    "ridgeReg.fit(X_train, y_train) \n",
    "  \n",
    "# Print the regression coefficient values\n",
    "print('Coefficients: \\n', ridgeReg.coef_) \n",
    "  \n",
    "# Print the R^2 \n",
    "print('Variance score (R^2): {}'.format(ridgeReg.score(X_test, y_test))) \n",
    "\n",
    "# Print the mean-squared error\n",
    "print('Mean-squared error: {}'.format(np.mean((ridgeReg.predict(X_test) - y_test)**2)))\n",
    "  \n",
    "# plot for residual error \n",
    "  \n",
    "## Plot residual errors in training data \n",
    "plt.scatter(ridgeReg.predict(X_train), ridgeReg.predict(X_train) - y_train, \n",
    "            color = \"green\", s = 10, label = 'Train data') \n",
    "  \n",
    "## Plot residual errors in test data \n",
    "plt.scatter(ridgeReg.predict(X_test), ridgeReg.predict(X_test) - y_test, \n",
    "            color = \"blue\", s = 10, label = 'Test data') \n",
    "  \n",
    "## Plot line for zero residual error \n",
    "plt.hlines(y = 0, xmin = -3, xmax = 3, linewidth = 2) \n",
    "  \n",
    "## Plot title and legend \n",
    "plt.legend(loc = 'upper right') \n",
    "plt.title(\"Residual errors\")\n",
    "plt.xlabel(\"Predicted value\")\n",
    "plt.ylabel(\"Error\")\n",
    "plt.show()\n",
    "plt.savefig('data-512-final-1.png');\n",
    "\n",
    "#Check the feature magnitude\n",
    "predictors = X.columns\n",
    "coef = pd.Series(ridgeReg.coef_,predictors).sort_values()\n",
    "plot = coef.plot(kind='bar', title='Modal Coefficients')\n",
    "fig = plot.get_figure()\n",
    "fig.savefig(\"data-512-final-2.png\")"
   ]
  },
  {
   "cell_type": "markdown",
   "metadata": {},
   "source": [
    "The developed model had a relatively low R^2 value of 0.237 meaning approximately 23.7% of the variance could be explained by the model used. Median age represented the highest magnitude variable with a negative relationship with the outcome variable."
   ]
  },
  {
   "cell_type": "markdown",
   "metadata": {},
   "source": [
    "The model was then tested on California and Florida data to assess accuracy."
   ]
  },
  {
   "cell_type": "code",
   "execution_count": 53,
   "metadata": {},
   "outputs": [
    {
     "name": "stdout",
     "output_type": "stream",
     "text": [
      "Variance score (R^2): 0.23442900684774093\n",
      "Mean-squared error: 1.5651714207883631\n"
     ]
    },
    {
     "data": {
      "image/png": "[encoded data removed]",
      "text/plain": [
       "<Figure size 432x288 with 1 Axes>"
      ]
     },
     "metadata": {
      "needs_background": "light"
     },
     "output_type": "display_data"
    },
    {
     "data": {
      "text/plain": [
       "<Figure size 432x288 with 0 Axes>"
      ]
     },
     "metadata": {},
     "output_type": "display_data"
    }
   ],
   "source": [
    "# defining feature matrix(X) and response vector(y) \n",
    "X_ca = ca_countydata.drop('DeathsPerCapita_log', axis=1)\n",
    "X_ca = X_ca.drop('County', axis=1)\n",
    "X_ca = X_ca.drop('IncomePerCapita_log', axis=1)\n",
    "X_ca = X_ca.drop('PercentFemale', axis=1)\n",
    "y_ca = ca_countydata['DeathsPerCapita_log']\n",
    "\n",
    "# Standardize the data\n",
    "X_ca = scaler_X.transform(X_ca)\n",
    "y_ca = scaler_y.transform(y_ca.values.reshape(-1,1)).reshape((-1))\n",
    "\n",
    "# variance score: 1 means perfect prediction \n",
    "print('Variance score (R^2): {}'.format(ridgeReg.score(X_ca, y_ca))) \n",
    "\n",
    "# mean-squared error\n",
    "print('Mean-squared error: {}'.format(np.mean((ridgeReg.predict(X_ca) - y_ca)**2)))\n",
    "  \n",
    "# plot for residual error \n",
    "  \n",
    "## plotting residual errors in test data \n",
    "plt.scatter(ridgeReg.predict(X_ca), ridgeReg.predict(X_ca) - y_ca, \n",
    "            color = \"blue\", s = 10, label = 'Test data') \n",
    "  \n",
    "## plotting line for zero residual error \n",
    "plt.hlines(y = 0, xmin = -2, xmax = 2, linewidth = 2) \n",
    "  \n",
    "## plotting legend \n",
    "plt.legend(loc = 'upper right') \n",
    "plt.title(\"Residual errors\") \n",
    "plt.xlabel(\"Predicted value\")\n",
    "plt.ylabel(\"Error\")\n",
    "plt.show()\n",
    "plt.savefig('data-512-final-3.png');\n",
    "  \n",
    "## function to show plot \n",
    "plt.show() "
   ]
  },
  {
   "cell_type": "markdown",
   "metadata": {},
   "source": [
    "The mean-squared error for the California counties was 1.565 and the r-squared was 0.234."
   ]
  },
  {
   "cell_type": "code",
   "execution_count": 54,
   "metadata": {},
   "outputs": [
    {
     "name": "stdout",
     "output_type": "stream",
     "text": [
      "Variance score (R^2): -5.464331476613128\n",
      "Mean-squared error: 5.713551283147293\n"
     ]
    },
    {
     "data": {
      "image/png": "[encoded data removed]",
      "text/plain": [
       "<Figure size 432x288 with 1 Axes>"
      ]
     },
     "metadata": {},
     "output_type": "display_data"
    },
    {
     "data": {
      "text/plain": [
       "<Figure size 432x288 with 0 Axes>"
      ]
     },
     "metadata": {},
     "output_type": "display_data"
    }
   ],
   "source": [
    "# defining feature matrix(X) and response vector(y) \n",
    "X_fl = fl_countydata.drop('DeathsPerCapita_log', axis=1)\n",
    "X_fl = X_fl.drop('County', axis=1)\n",
    "X_fl = X_fl.drop('IncomePerCapita_log', axis=1)\n",
    "X_fl = X_fl.drop('PercentFemale', axis=1)\n",
    "y_fl = fl_countydata['DeathsPerCapita_log']\n",
    "\n",
    "# Standardize the data\n",
    "X_fl = scaler_X.transform(X_fl)\n",
    "y_fl = scaler_y.transform(y_fl.values.reshape(-1,1)).reshape((-1))\n",
    "\n",
    "# variance score: 1 means perfect prediction \n",
    "print('Variance score (R^2): {}'.format(ridgeReg.score(X_fl, y_fl))) \n",
    "\n",
    "# mean-squared error\n",
    "print('Mean-squared error: {}'.format(np.mean((ridgeReg.predict(X_fl) - y_fl)**2)))\n",
    "  \n",
    "# plot for residual error \n",
    "  \n",
    "## setting plot style \n",
    "plt.style.use('fivethirtyeight') \n",
    "  \n",
    "## plotting residual errors in test data \n",
    "plt.scatter(ridgeReg.predict(X_fl), ridgeReg.predict(X_fl) - y_fl, \n",
    "            color = \"blue\", s = 10, label = 'Test data') \n",
    "  \n",
    "## plotting line for zero residual error \n",
    "plt.hlines(y = 0, xmin = -3, xmax = 1, linewidth = 2) \n",
    "  \n",
    "## plotting legend \n",
    "plt.legend(loc = 'upper right') \n",
    "plt.title(\"Residual errors\") \n",
    "plt.xlabel(\"Predicted value\")\n",
    "plt.ylabel(\"Error\")\n",
    "plt.show()\n",
    "plt.savefig('data-512-final-4.png');\n",
    "  \n",
    "## function to show plot \n",
    "plt.show() "
   ]
  },
  {
   "cell_type": "markdown",
   "metadata": {},
   "source": [
    "The mean-squared error for Florida data was 5.714 and the R-squared was -5.46. This indicates the model fitting extremely poorly to the data."
   ]
  },
  {
   "cell_type": "markdown",
   "metadata": {},
   "source": [
    "## Findings"
   ]
  },
  {
   "cell_type": "markdown",
   "metadata": {},
   "source": [
    "### Washington State County Predictive Model Accuracy\n",
    "\n",
    "Mean-squared error was used to evaluate model performance. A mean-squared error of 1.658 was reported for predicting poor outcomes on Washington state counties in the test set. It is important to remember that the deaths per capita (used as a proxy for poor outcomes in each county) was log-transformed before the model was run in order to have the variable emulate a normal distribution. Also, the variable was standardized beforehand. Thus, the error is representative of the difference in the z-score between the prediction and the actual value of the log of deaths per capita. An R^2 value of 0.237 was reported which indicates that the model explains 23.7% of the variability of the response data around the mean. The model fits the dataset reasonably well given the amount of variability and factors that go into COVID-19 poor outcomes, however the model is not very accurate.\n",
    "\n",
    "Question 2: Which of the associated COVID-19 risk factors are most important in predicting poor outcomes on a per county basis?\n",
    "\n",
    "Hypothesis 2: Age, pre-existing health conditions, and population density will prove to be significant and positively associated with predicting poor COVID-19 outcomes on a per county basis.\n",
    "\n",
    "Question 3: How well does our model, trained on Washington state counties, predict poor outcomes in counties of other states with similar COVID-19 restrictions (i.e. California) and those with less restrictions (i.e. Florida)?\n",
    "\n",
    "Hypothesis 3: Our model will produce outcomes with similar accuracy in the state with similar COVID-19 restrictions and less accuracy where restrictions are different.\n",
    "\n",
    "### Most Influential Factors in Predicting Poor Outcomes\n",
    "\n",
    "The most influential factor in the model was median age which was negatively associated with the outcome variable (coefficent value = -0.713). The log of population density (coefficent value = -0.158) and log of the percentage of the population that were non-white (coefficent value = -0.025) were also negatively associated with the outcome variable. The percentage of the population that was uninsured (coefficent value = 0.057) and the percentage of the population that was diagnosed with diabetes (coefficent value = 0.191) were positively associated with the outcome variable. While median age and population density were important to the model, the negative relationship was surprising. Pre-existing health conditions (as measured by the percentage of the population with diabetes) was positively associated as predicted in the hypothesis.\n",
    "\n",
    "### Model Performance for California and Florida\n",
    "\n",
    "The mean-squared error of the Washington state model for California counties was 1.565 and the R^2 value was 0.234. These results are very comparable to the findings for the Washington state county test set.\n",
    "\n",
    "The mean-squared error of the Washington state model for Florida was 5.713 and the R^2 value was -5.464. This indicates an extremely poor fit for the model on Florida data.\n",
    "\n",
    "These findings are in line with what we expected in the hypothesis. The model fit California counties almost identically and was unable to fit Florida counties."
   ]
  },
  {
   "cell_type": "markdown",
   "metadata": {},
   "source": [
    "## Discussion/Implications\n",
    "\n",
    "Based on the findings, it was clear that factors such as age, population density, racial identity, pre-existing health conditions, and access to healthcare can be used to explain poor outcomes to a certain degree. However, it is certainly not capturing the full picture as evidenced by the predictive accuracy. With this model, Washington state officials could have a general idea as to which counties might be more at risk to poor outcomes. However, this would not be a tell-all measure.\n",
    "\n",
    "Median age being negatively associated with poor outcomes was a surprising result. Based on previous research, all factors included in the model would be expected to be positively associated with predicting poor outcomes. COVID-19 tends to have a higher mortality rate for the elderly populations so it was expected that a higher median age would be representative of a higher deaths per capita. I believe that median age may not be capturing the picture fully. Because we are collecting data on a county level, it is possible that places with more young people are spreading COVID-19 at a higher rate due to more mobility which in turn results in more poor outcomes. The negative association between the poor outcomes and population density could be explained by attitudes and COVID-19 guideline adherence. With a smaller population, it is possible that individuals in these counties do not feel the need to adhere to social distancing rules. It is also possible that a major outbreak in a small community could skew the results. Because of extremely high collinearity, percent of the population that is female and income per capita needed to be removed from the model in order to achieve accurate results.\n",
    "\n",
    "As expected, the Washington state county model fit much better to the California counties than the Florida counties. I think that the reasoning is two-fold. First, California has implemented very similar guidelines to Washington state in regards to the COVID-19 response. Florida has not implemented restrictive guidelines resulting in breaches of mask wearing and social distancing. The second reasoning is a result of scaling the model to a small sample size of Washington counties. Almost all counties within Florida had much higher rates of poor outcomes as compared to Washington state. Therefore, even if the features of the counties had similar values, the model would not predict the extremes of the Florida poor outcomes as visualized in the residual error plot. This point goes to show that it is not appropriate to generalize models that are on a small scale to fit situations that are outside the scope of the training data.\n",
    "\n",
    "There were a number of limitations in this study. The feature set for the model was not exhaustive in attempting to predict COVID-19. Policy data, mobility data, and more accurate representations of metrics like pre-existing health conditions and access to healthcare would have greatly improved the accuracy. This was shown by the relatively small amount of variance that could be explained by the model. The sample size was also incredibly small for forming the basis of a predictive model. There are only 39 counties across Washington state, so the training set was exceptionally small. Another source of variability introduced by the data was that the population and demographic numbers were largely estimated based on values that were collected for the 2010 census."
   ]
  },
  {
   "cell_type": "markdown",
   "metadata": {},
   "source": [
    "## Conclusion"
   ]
  },
  {
   "cell_type": "markdown",
   "metadata": {},
   "source": [
    "After compiling COVID-19 and demographic data from Washington state counties and designing a predictive model, it is clear that it a highly accurate model of poor COVID-19 outcomes was not able to be constructed. However, the model does explain a degree of the variance. With the complexity of the spread of COVID-19, this information could potentially be used by policymakers to partially inform decisions about which counties might be most at risk. It is also clear that median age, population density, racial identity, pre-existing health conditions, and access to healthcare are relevant in the predictive model. However, median age was surprisingly negatively correlated with the response. The model was also just as accurate predicting poor outcomes in California counties but did not fit to the Florida dataset. This provides evidence to support the theory that machine learning models need to be grounded within the context of the training set.\n",
    "\n",
    "Future research could examine this model at a national scale. One of the major limitations of the study was the small sample size. Examining county-level features across the entire country would also allow for correcting for vast differences in poor outcomes and a more generalizable model to fit across the whole country. Another avenue for exploration would be to bring in variables such as mobility data or policy data to fine tune the algorithm for higher predictive accuracy. I would also like to set up a data visualization in the future that could show poor COVID-19 outcome risks by county on an interactive map. It would also be helpful to be able to integrate a live update feature that could accept COVID-19 data as it is reported by the states and adjust the model accordingly."
   ]
  },
  {
   "cell_type": "markdown",
   "metadata": {},
   "source": [
    "## References"
   ]
  },
  {
   "cell_type": "markdown",
   "metadata": {},
   "source": [
    "Berchick ER, Barnett JC, Upton RD. Health Insurance Coverage in the United States: 2018 [Internet], Washington, DC: U.S. Census Bureau; 2019. \n",
    "    November (Current Population Reports). Report No.: P60–267(RV). Available from: \n",
    "    https://www.census.gov/content/dam/Census/library/publications/2019/demo/p60-267.pdf\n",
    "\n",
    "CDCMMWR. Severe Outcomes Among Patients with Coronavirus Disease 2019 (COVID-19) — United States, February 12-March 16, 2020. MMWR Morb Mortal \n",
    "    Wkly Rep [Internet], 2020. 69 Available from: https://www.cdc.gov/mmwr/volumes/69/wr/mm6912e2.htm  \n",
    "\n",
    "Chin, T., Kahn, R., Li, R., Chen, J.T., Krieger, N., Buckee, C.O., Balsari, S. and Kiang, M.V. (2020). U.S. county-level characteristics to \n",
    "    inform equitable COVID-19 response. Version 1. medRxiv. Preprint. doi: 10.1101/2020.04.08.20058248\n",
    "\n",
    "Johnson A, Buford T. Early Data Shows African Americans Have Contracted and Died of Coronavirus at an Alarming Rate [Internet], ProPublica. \n",
    "    ProPublica; 2020, Available from: \n",
    "    https://www.propublica.org/article/early-data-shows-african-americans-have-contracted-and-died-of-coronavirus-at-an-alarming-rate\n",
    "\n",
    "Khullar D, Chokshi DA. Health, Income, & Poverty: Where We Are & What Could Help. Health Affairs [Internet], 2018. October 4; Available from: \n",
    "    https://www.healthaffairs.org/do/10.1377/hpb20180817.901935/full/\n",
    "\n",
    "Li W, Lewis N. This Chart Shows Why The Prison Population Is So Vulnerable to COVID-19 [Internet], The Marshall Project. 2020. Available from: \n",
    "    https://www.themarshallproject.org/2020/03/19/this-chart-shows-why-the-prison-population-is-so-vulnerable-to-covid-19\n",
    "\n",
    "\n",
    "Predicting the Effects of the COVID Pandemic On US Health System Capacity [Internet], Qventus, Inc. 2020., Available from: \n",
    "    https://qventus.com/blog/predicting-the-effects-of-the-covid-pandemic-on-us-health-system-capacity/\n",
    "\n",
    "Wu Z, McGoogan JM. Characteristics of and Important Lessons From the Coronavirus Disease 2019 (COVID-19) Outbreak in China: Summary of a Report \n",
    "    of 72 314 Cases From the Chinese Center for Disease Control and Prevention. JAMA [Internet], 2020. February 24;\n",
    "    Available from: https://jamanetwork.com/journals/jama/fullarticle/2762130"
   ]
  }
 ],
 "metadata": {
  "kernelspec": {
   "display_name": "Python 3",
   "language": "python",
   "name": "python3"
  },
  "language_info": {
   "codemirror_mode": {
    "name": "ipython",
    "version": 3
   },
   "file_extension": ".py",
   "mimetype": "text/x-python",
   "name": "python",
   "nbconvert_exporter": "python",
   "pygments_lexer": "ipython3",
   "version": "3.7.4"
  }
 },
 "nbformat": 4,
 "nbformat_minor": 4
}
