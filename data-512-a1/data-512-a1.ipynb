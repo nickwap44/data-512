{
 "cells": [
  {
   "cell_type": "markdown",
   "metadata": {},
   "source": [
    "# DATA 512 - Assignment 1: Data Curation\n",
    "\n",
    "## Nicholas Wapstra"
   ]
  },
  {
   "cell_type": "markdown",
   "metadata": {},
   "source": [
    "The following libraries are imported to complete the data acquisition, analysis, and visualization:"
   ]
  },
  {
   "cell_type": "markdown",
   "metadata": {},
   "source": [
    "## Step 1: Gathering the data"
   ]
  },
  {
   "cell_type": "code",
   "execution_count": 74,
   "metadata": {},
   "outputs": [],
   "source": [
    "import json\n",
    "import requests\n",
    "import pandas as pd\n",
    "import matplotlib.pyplot as plt\n",
    "import numpy as np\n",
    "from datetime import datetime\n",
    "\n",
    "# Allows for inline plotting in the Jupyter Notebook\n",
    "%matplotlib inline "
   ]
  },
  {
   "cell_type": "markdown",
   "metadata": {},
   "source": [
    "The endpoints are stored for both the Legacy and Pageviews APIs to be accessed for the API calls. The parameters are stored in the url's in brackets \"{}\"."
   ]
  },
  {
   "cell_type": "code",
   "execution_count": 75,
   "metadata": {},
   "outputs": [],
   "source": [
    "endpoint_legacy = 'https://wikimedia.org/api/rest_v1/metrics/legacy/pagecounts/aggregate/{project}/{access-site}/{granularity}/{start}/{end}'\n",
    "endpoint_pageviews = 'https://wikimedia.org/api/rest_v1/metrics/pageviews/aggregate/{project}/{access}/{agent}/{granularity}/{start}/{end}'"
   ]
  },
  {
   "cell_type": "markdown",
   "metadata": {},
   "source": [
    "The parameters for each API query required were stored in dictionary objects. The queries include the Legacy desktop and mobile views, and the Pageviews desktop, mobile app, and mobile web views. In order to access an entire month's worth of data, you should list the first day of the following month as the \"end\" of collection. User information is stored in the \"headers\" object."
   ]
  },
  {
   "cell_type": "code",
   "execution_count": 76,
   "metadata": {},
   "outputs": [],
   "source": [
    "# Legacy Desktop\n",
    "params_legacy_desktop = {\"project\" : \"en.wikipedia.org\",\n",
    "                 \"access-site\" : \"desktop-site\",\n",
    "                 \"granularity\" : \"monthly\",\n",
    "                 \"start\" : \"2008010100\",\n",
    "                 \"end\" : \"2016080100\"\n",
    "                    }\n",
    "\n",
    "# Legacy Mobile\n",
    "params_legacy_mobile = {\"project\" : \"en.wikipedia.org\",\n",
    "                 \"access-site\" : \"mobile-site\",\n",
    "                 \"granularity\" : \"monthly\",\n",
    "                 \"start\" : \"2008010100\",\n",
    "                 \"end\" : \"2016080100\"\n",
    "                    }\n",
    "\n",
    "# Pageviews Desktop\n",
    "params_pageviews_desktop = {\"project\" : \"en.wikipedia.org\",\n",
    "                    \"access\" : \"desktop\",\n",
    "                    \"agent\" : \"user\",\n",
    "                    \"granularity\" : \"monthly\",\n",
    "                    \"start\" : \"2015070100\",\n",
    "                    \"end\" : '2020090100'\n",
    "                        }\n",
    "\n",
    "# Pageviews Mobile App\n",
    "params_pageviews_mobileapp = {\"project\" : \"en.wikipedia.org\",\n",
    "                    \"access\" : \"mobile-app\",\n",
    "                    \"agent\" : \"user\",\n",
    "                    \"granularity\" : \"monthly\",\n",
    "                    \"start\" : \"2015070100\",\n",
    "                    \"end\" : '2020090100'\n",
    "                        }\n",
    "\n",
    "# Pageviews Mobile Web\n",
    "params_pageviews_mobileweb = {\"project\" : \"en.wikipedia.org\",\n",
    "                    \"access\" : \"mobile-web\",\n",
    "                    \"agent\" : \"user\",\n",
    "                    \"granularity\" : \"monthly\",\n",
    "                    \"start\" : \"2015070100\",\n",
    "                    \"end\" : '2020090100'\n",
    "                        }\n",
    "\n",
    "# Customize these with your own information\n",
    "headers = {\n",
    "    'User-Agent': 'https://github.com/nickwap44',\n",
    "    'From': 'nickwap4@uw.edu'\n",
    "}"
   ]
  },
  {
   "cell_type": "markdown",
   "metadata": {},
   "source": [
    "An API call function is defined that takes the endpoint url and parameters as arguments. A json file with the results of the query is returned."
   ]
  },
  {
   "cell_type": "code",
   "execution_count": 77,
   "metadata": {},
   "outputs": [],
   "source": [
    "def api_call(endpoint,parameters):\n",
    "    call = requests.get(endpoint.format(**parameters), headers=headers)\n",
    "    response = call.json()\n",
    "    \n",
    "    return response"
   ]
  },
  {
   "cell_type": "markdown",
   "metadata": {},
   "source": [
    "5 API queries were made to capture the views from the Legacy API desktop and mobile views, and the Pageviews API desktop, mobile app, and mobile web views."
   ]
  },
  {
   "cell_type": "code",
   "execution_count": 78,
   "metadata": {},
   "outputs": [],
   "source": [
    "legacy_desktop = api_call(endpoint_legacy, params_legacy_desktop)\n",
    "legacy_mobile = api_call(endpoint_legacy, params_legacy_mobile)\n",
    "pageviews_desktop = api_call(endpoint_pageviews, params_pageviews_desktop)\n",
    "pageviews_mobileapp = api_call(endpoint_pageviews, params_pageviews_mobileapp)\n",
    "pageviews_mobileweb = api_call(endpoint_pageviews, params_pageviews_mobileweb)"
   ]
  },
  {
   "cell_type": "markdown",
   "metadata": {},
   "source": [
    "The results of the raw queries were stored in individual json files."
   ]
  },
  {
   "cell_type": "code",
   "execution_count": 79,
   "metadata": {},
   "outputs": [],
   "source": [
    "with open('legacy_desktop-site_200801-201607.json', 'w') as outfile:\n",
    "    json.dump(legacy_desktop,outfile)\n",
    "    \n",
    "with open('legacy_mobile-site_200801-201607.json', 'w') as outfile:\n",
    "    json.dump(legacy_mobile,outfile)\n",
    "    \n",
    "with open('pageviews_desktop_201507-202008.json', 'w') as outfile:\n",
    "    json.dump(pageviews_desktop,outfile)\n",
    "    \n",
    "with open('pageviews_mobile-app_201507-202008.json', 'w') as outfile:\n",
    "    json.dump(pageviews_mobileapp,outfile)\n",
    "    \n",
    "with open('pageviews_mobile-web_201507-202008.json', 'w') as outfile:\n",
    "    json.dump(pageviews_mobileweb,outfile)"
   ]
  },
  {
   "cell_type": "markdown",
   "metadata": {},
   "source": [
    "## Step 2: Processing the data"
   ]
  },
  {
   "cell_type": "markdown",
   "metadata": {},
   "source": [
    "The results of the queries were stored in Pandas dataframes for easier data manipulation. Within the queries, the values of interest were stored within the 'items' object so these needed to be extracted."
   ]
  },
  {
   "cell_type": "code",
   "execution_count": 80,
   "metadata": {},
   "outputs": [],
   "source": [
    "legacy_desktop = pd.DataFrame(legacy_desktop['items'])\n",
    "legacy_mobile = pd.DataFrame(legacy_mobile['items'])\n",
    "pageviews_desktop = pd.DataFrame(pageviews_desktop['items'])\n",
    "pageviews_mobileapp = pd.DataFrame(pageviews_mobileapp['items'])\n",
    "pageviews_mobileweb = pd.DataFrame(pageviews_mobileweb['items'])"
   ]
  },
  {
   "cell_type": "markdown",
   "metadata": {},
   "source": [
    "The contents of the dataframes were examined to make sure that the data was transferred properly, the column headers lined up, and the observation counts were correct."
   ]
  },
  {
   "cell_type": "code",
   "execution_count": 81,
   "metadata": {},
   "outputs": [
    {
     "data": {
      "text/html": [
       "<div>\n",
       "<style scoped>\n",
       "    .dataframe tbody tr th:only-of-type {\n",
       "        vertical-align: middle;\n",
       "    }\n",
       "\n",
       "    .dataframe tbody tr th {\n",
       "        vertical-align: top;\n",
       "    }\n",
       "\n",
       "    .dataframe thead th {\n",
       "        text-align: right;\n",
       "    }\n",
       "</style>\n",
       "<table border=\"1\" class=\"dataframe\">\n",
       "  <thead>\n",
       "    <tr style=\"text-align: right;\">\n",
       "      <th></th>\n",
       "      <th>project</th>\n",
       "      <th>access-site</th>\n",
       "      <th>granularity</th>\n",
       "      <th>timestamp</th>\n",
       "      <th>count</th>\n",
       "    </tr>\n",
       "  </thead>\n",
       "  <tbody>\n",
       "    <tr>\n",
       "      <th>0</th>\n",
       "      <td>en.wikipedia</td>\n",
       "      <td>desktop-site</td>\n",
       "      <td>monthly</td>\n",
       "      <td>2008010100</td>\n",
       "      <td>4930902570</td>\n",
       "    </tr>\n",
       "    <tr>\n",
       "      <th>1</th>\n",
       "      <td>en.wikipedia</td>\n",
       "      <td>desktop-site</td>\n",
       "      <td>monthly</td>\n",
       "      <td>2008020100</td>\n",
       "      <td>4818393763</td>\n",
       "    </tr>\n",
       "    <tr>\n",
       "      <th>2</th>\n",
       "      <td>en.wikipedia</td>\n",
       "      <td>desktop-site</td>\n",
       "      <td>monthly</td>\n",
       "      <td>2008030100</td>\n",
       "      <td>4955405809</td>\n",
       "    </tr>\n",
       "    <tr>\n",
       "      <th>3</th>\n",
       "      <td>en.wikipedia</td>\n",
       "      <td>desktop-site</td>\n",
       "      <td>monthly</td>\n",
       "      <td>2008040100</td>\n",
       "      <td>5159162183</td>\n",
       "    </tr>\n",
       "    <tr>\n",
       "      <th>4</th>\n",
       "      <td>en.wikipedia</td>\n",
       "      <td>desktop-site</td>\n",
       "      <td>monthly</td>\n",
       "      <td>2008050100</td>\n",
       "      <td>5584691092</td>\n",
       "    </tr>\n",
       "    <tr>\n",
       "      <th>...</th>\n",
       "      <td>...</td>\n",
       "      <td>...</td>\n",
       "      <td>...</td>\n",
       "      <td>...</td>\n",
       "      <td>...</td>\n",
       "    </tr>\n",
       "    <tr>\n",
       "      <th>98</th>\n",
       "      <td>en.wikipedia</td>\n",
       "      <td>desktop-site</td>\n",
       "      <td>monthly</td>\n",
       "      <td>2016030100</td>\n",
       "      <td>5407676056</td>\n",
       "    </tr>\n",
       "    <tr>\n",
       "      <th>99</th>\n",
       "      <td>en.wikipedia</td>\n",
       "      <td>desktop-site</td>\n",
       "      <td>monthly</td>\n",
       "      <td>2016040100</td>\n",
       "      <td>5572235399</td>\n",
       "    </tr>\n",
       "    <tr>\n",
       "      <th>100</th>\n",
       "      <td>en.wikipedia</td>\n",
       "      <td>desktop-site</td>\n",
       "      <td>monthly</td>\n",
       "      <td>2016050100</td>\n",
       "      <td>5330532334</td>\n",
       "    </tr>\n",
       "    <tr>\n",
       "      <th>101</th>\n",
       "      <td>en.wikipedia</td>\n",
       "      <td>desktop-site</td>\n",
       "      <td>monthly</td>\n",
       "      <td>2016060100</td>\n",
       "      <td>4975092447</td>\n",
       "    </tr>\n",
       "    <tr>\n",
       "      <th>102</th>\n",
       "      <td>en.wikipedia</td>\n",
       "      <td>desktop-site</td>\n",
       "      <td>monthly</td>\n",
       "      <td>2016070100</td>\n",
       "      <td>5363966439</td>\n",
       "    </tr>\n",
       "  </tbody>\n",
       "</table>\n",
       "<p>103 rows × 5 columns</p>\n",
       "</div>"
      ],
      "text/plain": [
       "          project   access-site granularity   timestamp       count\n",
       "0    en.wikipedia  desktop-site     monthly  2008010100  4930902570\n",
       "1    en.wikipedia  desktop-site     monthly  2008020100  4818393763\n",
       "2    en.wikipedia  desktop-site     monthly  2008030100  4955405809\n",
       "3    en.wikipedia  desktop-site     monthly  2008040100  5159162183\n",
       "4    en.wikipedia  desktop-site     monthly  2008050100  5584691092\n",
       "..            ...           ...         ...         ...         ...\n",
       "98   en.wikipedia  desktop-site     monthly  2016030100  5407676056\n",
       "99   en.wikipedia  desktop-site     monthly  2016040100  5572235399\n",
       "100  en.wikipedia  desktop-site     monthly  2016050100  5330532334\n",
       "101  en.wikipedia  desktop-site     monthly  2016060100  4975092447\n",
       "102  en.wikipedia  desktop-site     monthly  2016070100  5363966439\n",
       "\n",
       "[103 rows x 5 columns]"
      ]
     },
     "metadata": {},
     "output_type": "display_data"
    },
    {
     "data": {
      "text/html": [
       "<div>\n",
       "<style scoped>\n",
       "    .dataframe tbody tr th:only-of-type {\n",
       "        vertical-align: middle;\n",
       "    }\n",
       "\n",
       "    .dataframe tbody tr th {\n",
       "        vertical-align: top;\n",
       "    }\n",
       "\n",
       "    .dataframe thead th {\n",
       "        text-align: right;\n",
       "    }\n",
       "</style>\n",
       "<table border=\"1\" class=\"dataframe\">\n",
       "  <thead>\n",
       "    <tr style=\"text-align: right;\">\n",
       "      <th></th>\n",
       "      <th>project</th>\n",
       "      <th>access</th>\n",
       "      <th>agent</th>\n",
       "      <th>granularity</th>\n",
       "      <th>timestamp</th>\n",
       "      <th>views</th>\n",
       "    </tr>\n",
       "  </thead>\n",
       "  <tbody>\n",
       "    <tr>\n",
       "      <th>0</th>\n",
       "      <td>en.wikipedia</td>\n",
       "      <td>desktop</td>\n",
       "      <td>user</td>\n",
       "      <td>monthly</td>\n",
       "      <td>2015070100</td>\n",
       "      <td>4376666686</td>\n",
       "    </tr>\n",
       "    <tr>\n",
       "      <th>1</th>\n",
       "      <td>en.wikipedia</td>\n",
       "      <td>desktop</td>\n",
       "      <td>user</td>\n",
       "      <td>monthly</td>\n",
       "      <td>2015080100</td>\n",
       "      <td>4332482183</td>\n",
       "    </tr>\n",
       "    <tr>\n",
       "      <th>2</th>\n",
       "      <td>en.wikipedia</td>\n",
       "      <td>desktop</td>\n",
       "      <td>user</td>\n",
       "      <td>monthly</td>\n",
       "      <td>2015090100</td>\n",
       "      <td>4485491704</td>\n",
       "    </tr>\n",
       "    <tr>\n",
       "      <th>3</th>\n",
       "      <td>en.wikipedia</td>\n",
       "      <td>desktop</td>\n",
       "      <td>user</td>\n",
       "      <td>monthly</td>\n",
       "      <td>2015100100</td>\n",
       "      <td>4477532755</td>\n",
       "    </tr>\n",
       "    <tr>\n",
       "      <th>4</th>\n",
       "      <td>en.wikipedia</td>\n",
       "      <td>desktop</td>\n",
       "      <td>user</td>\n",
       "      <td>monthly</td>\n",
       "      <td>2015110100</td>\n",
       "      <td>4287720220</td>\n",
       "    </tr>\n",
       "    <tr>\n",
       "      <th>...</th>\n",
       "      <td>...</td>\n",
       "      <td>...</td>\n",
       "      <td>...</td>\n",
       "      <td>...</td>\n",
       "      <td>...</td>\n",
       "      <td>...</td>\n",
       "    </tr>\n",
       "    <tr>\n",
       "      <th>57</th>\n",
       "      <td>en.wikipedia</td>\n",
       "      <td>desktop</td>\n",
       "      <td>user</td>\n",
       "      <td>monthly</td>\n",
       "      <td>2020040100</td>\n",
       "      <td>3798372613</td>\n",
       "    </tr>\n",
       "    <tr>\n",
       "      <th>58</th>\n",
       "      <td>en.wikipedia</td>\n",
       "      <td>desktop</td>\n",
       "      <td>user</td>\n",
       "      <td>monthly</td>\n",
       "      <td>2020050100</td>\n",
       "      <td>3078093615</td>\n",
       "    </tr>\n",
       "    <tr>\n",
       "      <th>59</th>\n",
       "      <td>en.wikipedia</td>\n",
       "      <td>desktop</td>\n",
       "      <td>user</td>\n",
       "      <td>monthly</td>\n",
       "      <td>2020060100</td>\n",
       "      <td>2721328557</td>\n",
       "    </tr>\n",
       "    <tr>\n",
       "      <th>60</th>\n",
       "      <td>en.wikipedia</td>\n",
       "      <td>desktop</td>\n",
       "      <td>user</td>\n",
       "      <td>monthly</td>\n",
       "      <td>2020070100</td>\n",
       "      <td>2638936132</td>\n",
       "    </tr>\n",
       "    <tr>\n",
       "      <th>61</th>\n",
       "      <td>en.wikipedia</td>\n",
       "      <td>desktop</td>\n",
       "      <td>user</td>\n",
       "      <td>monthly</td>\n",
       "      <td>2020080100</td>\n",
       "      <td>2613058239</td>\n",
       "    </tr>\n",
       "  </tbody>\n",
       "</table>\n",
       "<p>62 rows × 6 columns</p>\n",
       "</div>"
      ],
      "text/plain": [
       "         project   access agent granularity   timestamp       views\n",
       "0   en.wikipedia  desktop  user     monthly  2015070100  4376666686\n",
       "1   en.wikipedia  desktop  user     monthly  2015080100  4332482183\n",
       "2   en.wikipedia  desktop  user     monthly  2015090100  4485491704\n",
       "3   en.wikipedia  desktop  user     monthly  2015100100  4477532755\n",
       "4   en.wikipedia  desktop  user     monthly  2015110100  4287720220\n",
       "..           ...      ...   ...         ...         ...         ...\n",
       "57  en.wikipedia  desktop  user     monthly  2020040100  3798372613\n",
       "58  en.wikipedia  desktop  user     monthly  2020050100  3078093615\n",
       "59  en.wikipedia  desktop  user     monthly  2020060100  2721328557\n",
       "60  en.wikipedia  desktop  user     monthly  2020070100  2638936132\n",
       "61  en.wikipedia  desktop  user     monthly  2020080100  2613058239\n",
       "\n",
       "[62 rows x 6 columns]"
      ]
     },
     "metadata": {},
     "output_type": "display_data"
    }
   ],
   "source": [
    "display(legacy_desktop)\n",
    "display(pageviews_desktop)"
   ]
  },
  {
   "cell_type": "markdown",
   "metadata": {},
   "source": [
    "For the Legacy API table, the name of the 'count' columns for each query were renamed to 'pagecount_desktop_views' and 'pagecount_mobile_views' respectively in order to preserve the meaning of the values. The 'project', 'access-site', 'granularity', and 'count' columns were removed because they were no longer needed. The desktop and mobile data were then merged on the 'timestamp' variable. 'timestamp' is used as the key identifier because it is the same value in all tables irrespective of source. A left merge is needed because mobile tracking of website views did not begin until around 2014. Therefore, all months with desktop views are preserved."
   ]
  },
  {
   "cell_type": "code",
   "execution_count": 82,
   "metadata": {},
   "outputs": [],
   "source": [
    "legacy_desktop['pagecount_desktop_views'] = legacy_desktop['count']\n",
    "legacy_desktop = legacy_desktop.drop(['project','access-site','granularity','count'], axis=1)\n",
    "legacy_mobile['pagecount_mobile_views'] = legacy_mobile['count']\n",
    "legacy_mobile = legacy_mobile.drop(['project','access-site','granularity','count'], axis=1)\n",
    "legacy = pd.merge(legacy_desktop,legacy_mobile,how='left',on='timestamp')"
   ]
  },
  {
   "cell_type": "markdown",
   "metadata": {},
   "source": [
    "NA values were replaced with '0' values. The number of total views was calculated by summing together the desktop and mobile views."
   ]
  },
  {
   "cell_type": "code",
   "execution_count": 83,
   "metadata": {},
   "outputs": [],
   "source": [
    "legacy.fillna(0, inplace=True)\n",
    "legacy['pagecount_all_views'] = legacy['pagecount_desktop_views'] + legacy['pagecount_mobile_views']"
   ]
  },
  {
   "cell_type": "markdown",
   "metadata": {},
   "source": [
    "For the Pageviews API table, the name of the 'count' columns for each query were renamed to 'pageviews_desktop_views', 'pageviews_mobileapp_views', and 'pageviews_mobileweb_views' respectively in order to preserve the meaning of the values. The 'project', 'access, 'agent', 'granularity', and 'views' columns were removed because they were no longer needed. The desktop, mobile app, and mobile web data were then merged on the 'timestamp' variable. 'timestamp' is used as the key identifier because it is the same value in all tables irrespective of source."
   ]
  },
  {
   "cell_type": "code",
   "execution_count": 84,
   "metadata": {},
   "outputs": [],
   "source": [
    "pageviews_desktop['pageview_desktop_views'] = pageviews_desktop['views']\n",
    "pageviews_desktop = pageviews_desktop.drop(['project','access','agent','granularity','views'], axis=1)\n",
    "pageviews_mobileapp['pageview_mobileapp_views'] = pageviews_mobileapp['views']\n",
    "pageviews_mobileapp = pageviews_mobileapp.drop(['project','access','agent','granularity','views'], axis=1)\n",
    "pageviews_mobileweb['pageview_mobileweb_views'] = pageviews_mobileweb['views']\n",
    "pageviews_mobileweb = pageviews_mobileweb.drop(['project','access','agent','granularity','views'], axis=1)\n",
    "pageviews = pd.merge(pageviews_desktop,pageviews_mobileapp,on='timestamp')\n",
    "pageviews = pd.merge(pageviews,pageviews_mobileweb,on='timestamp')"
   ]
  },
  {
   "cell_type": "markdown",
   "metadata": {},
   "source": [
    "The number of mobile views was calculated by summing the mobile app and mobile web views. The mobile app and mobile web views were then removed from the table. The number of total views was calculated by summing together the desktop and mobile views."
   ]
  },
  {
   "cell_type": "code",
   "execution_count": 85,
   "metadata": {},
   "outputs": [],
   "source": [
    "pageviews['pageview_mobile_views'] = pageviews['pageview_mobileapp_views'] + pageviews['pageview_mobileweb_views']\n",
    "pageviews = pageviews.drop(['pageview_mobileapp_views','pageview_mobileweb_views'], axis=1)\n",
    "pageviews['pageview_all_views'] = pageviews['pageview_desktop_views'] + pageviews['pageview_mobile_views']"
   ]
  },
  {
   "cell_type": "markdown",
   "metadata": {},
   "source": [
    "The Legacy API and Pageviews API tables were merged on 'timestamp' using an outer join to preserve all data. While there is an overlap between the two API queries, for the most part they examined different timepoints so all values were of interest. NA's were replaces with 0's. The hours and minutes were removed from 'timestamp' and the value was split into 'year' and 'month'. 'timestamp' was removed from the table."
   ]
  },
  {
   "cell_type": "code",
   "execution_count": 86,
   "metadata": {},
   "outputs": [],
   "source": [
    "table = pd.merge(legacy,pageviews,how='outer',on='timestamp')\n",
    "table.fillna(0, inplace=True)\n",
    "table['timestamp'] = table['timestamp'].str[:-4]\n",
    "table['year'] = table['timestamp'].str.slice(start=0,stop=4)\n",
    "table['month'] = table['timestamp'].str.slice(start=4,stop=6)\n",
    "table = table.drop(['timestamp'], axis=1)"
   ]
  },
  {
   "cell_type": "markdown",
   "metadata": {},
   "source": [
    "The final data table was converted to a csv file."
   ]
  },
  {
   "cell_type": "code",
   "execution_count": 87,
   "metadata": {},
   "outputs": [],
   "source": [
    "table.to_csv('en-wikipedia_traffic_200801-202008.csv',index=False)"
   ]
  },
  {
   "cell_type": "markdown",
   "metadata": {},
   "source": [
    "## Step 3: Analyze the data"
   ]
  },
  {
   "cell_type": "markdown",
   "metadata": {},
   "source": [
    "To prepare for the visualization, the views in all columns were scaled down by a factor of 1,000,000."
   ]
  },
  {
   "cell_type": "code",
   "execution_count": 88,
   "metadata": {},
   "outputs": [],
   "source": [
    "table['pagecount_desktop_views'] = table['pagecount_desktop_views'] / 1000000\n",
    "table['pagecount_mobile_views'] = table['pagecount_mobile_views'] / 1000000\n",
    "table['pagecount_all_views'] = table['pagecount_all_views'] / 1000000\n",
    "table['pageview_desktop_views'] = table['pageview_desktop_views'] / 1000000\n",
    "table['pageview_mobile_views'] = table['pageview_mobile_views'] / 1000000\n",
    "table['pageview_all_views'] = table['pageview_all_views'] / 1000000"
   ]
  },
  {
   "cell_type": "markdown",
   "metadata": {},
   "source": [
    "In order to prevent the 0 values from being plotted, the 0's in the 'views' columns were reconverted into NaN values which matplotlib doesn't plot."
   ]
  },
  {
   "cell_type": "code",
   "execution_count": 89,
   "metadata": {},
   "outputs": [],
   "source": [
    "cols = ['pagecount_desktop_views','pagecount_mobile_views','pagecount_all_views','pageview_desktop_views','pageview_mobile_views','pageview_all_views']\n",
    "table[cols] = table[cols].replace(0, np.nan)"
   ]
  },
  {
   "cell_type": "markdown",
   "metadata": {},
   "source": [
    "The 'month' and 'year' columns were merged to create a 'date' column that could be used for time series plotting."
   ]
  },
  {
   "cell_type": "code",
   "execution_count": 90,
   "metadata": {},
   "outputs": [],
   "source": [
    "table['date'] = table['month'].map(str)+ '-' + table['year'].map(str)\n",
    "table['date'] = pd.to_datetime(table['date'], format = '%m-%Y')"
   ]
  },
  {
   "cell_type": "markdown",
   "metadata": {},
   "source": [
    "The plot of page views was generated by specifying the figure font and size. The X-axis label was created to notify users of the switch to Pageview that eliminated crawler traffic from the dataset. All 'views' variables were plotted. Green represented desktop views, blue represented mobile views, and black represented total views. The \"pre-pageviews\" data was highlighted by using a dashed line type and \"post-pageviews\" was plotted as a solid line. The y-axis range was set from 0-12000. The title was set as 'Page Views on English Wikipedia (x 1,000,000)'. The grid view was set to on and the legend was placed in the upper left of the plot. The figure was then saved as a .png file."
   ]
  },
  {
   "cell_type": "code",
   "execution_count": 91,
   "metadata": {},
   "outputs": [
    {
     "data": {
      "image/png": "[encoded data removed]",
      "text/plain": [
       "<Figure size 720x360 with 1 Axes>"
      ]
     },
     "metadata": {
      "needs_background": "light"
     },
     "output_type": "display_data"
    }
   ],
   "source": [
    "plt.rc('font',size=12)\n",
    "fig, ax = plt.subplots(figsize=(10,5))\n",
    "\n",
    "plt.xlabel(\"May 2015: a new pageview definition took effect, which eliminated all crawler traffic. Solid lines mark new definition.\",color = 'red')\n",
    "\n",
    "ax.plot(table.date,table.pagecount_desktop_views,color='green', linestyle='--',label = 'main site')\n",
    "ax.plot(table.date,table.pagecount_mobile_views,color='blue',linestyle='--',label='mobile site')\n",
    "ax.plot(table.date,table.pagecount_all_views,color='black',linestyle='--',label='total')\n",
    "ax.plot(table.date,table.pageview_desktop_views,color='green')\n",
    "ax.plot(table.date,table.pageview_mobile_views,color='blue')\n",
    "ax.plot(table.date,table.pageview_all_views,color='black')\n",
    "\n",
    "plt.ylim(0,12000)\n",
    "\n",
    "ax.set_title('Page Views on English Wikipedia (x 1,000,000)')\n",
    "ax.grid(True)\n",
    "ax.legend(loc='upper left')\n",
    "\n",
    "plt.savefig('data-512-a1.png');"
   ]
  }
 ],
 "metadata": {
  "kernelspec": {
   "display_name": "Python 3",
   "language": "python",
   "name": "python3"
  },
  "language_info": {
   "codemirror_mode": {
    "name": "ipython",
    "version": 3
   },
   "file_extension": ".py",
   "mimetype": "text/x-python",
   "name": "python",
   "nbconvert_exporter": "python",
   "pygments_lexer": "ipython3",
   "version": "3.7.4"
  }
 },
 "nbformat": 4,
 "nbformat_minor": 4
}
