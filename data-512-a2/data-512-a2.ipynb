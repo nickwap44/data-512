{
 "cells": [
  {
   "cell_type": "markdown",
   "metadata": {},
   "source": [
    "# DATA 512 - Assignment 2: Bias in Data"
   ]
  },
  {
   "cell_type": "markdown",
   "metadata": {},
   "source": [
    "## Nicholas Wapstra"
   ]
  },
  {
   "cell_type": "markdown",
   "metadata": {},
   "source": [
    "In this notebook, potential sources of bias were identified in the Wikipedia Talk corpus of human-annotated data in an exploratory data analysis, and some of the implications of this bias on the behavior of machine learning models trained on then data.\n",
    "\n",
    "The Wikipedia Talk corpus consists of three datasets. Each dataset contains thousands of online discussion posts made by Wikipedia editors who were discussing how to write and edit Wikipedia articles. Crowdworkers labelled these posts for three kinds of hostile speech: “toxicity”, “aggression”, and “personal attacks”. Many posts in each dataset were labelled by multiple crowdworkers for each type of hostile speech, to improve accuracy.\n",
    "\n",
    "I will be exploring two research questions: 1) How consistent are labelling behaviors among workers with different demographic profiles?; and 2) Are some kinds of hostile speech harder for people to agree on than others?"
   ]
  },
  {
   "cell_type": "markdown",
   "metadata": {},
   "source": [
    "## Data Setup"
   ]
  },
  {
   "cell_type": "markdown",
   "metadata": {},
   "source": [
    "The required libraries were imported."
   ]
  },
  {
   "cell_type": "code",
   "execution_count": 1,
   "metadata": {},
   "outputs": [],
   "source": [
    "import pandas as pd\n",
    "import urllib\n",
    "import matplotlib.pyplot as plt"
   ]
  },
  {
   "cell_type": "markdown",
   "metadata": {},
   "source": [
    "A function to download datasets when given a URL and a filename was defined."
   ]
  },
  {
   "cell_type": "code",
   "execution_count": null,
   "metadata": {},
   "outputs": [],
   "source": [
    "def download_file(url, fname):\n",
    "    urllib.request.urlretrieve(url, fname)"
   ]
  },
  {
   "cell_type": "markdown",
   "metadata": {},
   "source": [
    "The URLs were defined for each of the 9 datasets of interest. For 'toxicity', 'personal attacks', and 'aggression', there were 3 datasets included. These were the demographics of the annotators, the comments of interest, and the scores and labels provided by the annotators."
   ]
  },
  {
   "cell_type": "code",
   "execution_count": null,
   "metadata": {},
   "outputs": [],
   "source": [
    "# Toxicity Data\n",
    "TOXICITY_COMMENTS_URL = 'https://ndownloader.figshare.com/files/7394542' \n",
    "TOXICITY_URL = 'https://ndownloader.figshare.com/files/7394539'\n",
    "TOXICITY_DEMO_URL = 'https://ndownloader.figshare.com/files/7640581' \n",
    "\n",
    "# Personal Attack Data\n",
    "ATTACK_COMMENTS_URL = 'https://ndownloader.figshare.com/files/7554634' \n",
    "ATTACK_URL = 'https://ndownloader.figshare.com/files/7554637' \n",
    "ATTACK_DEMO_URL = 'https://ndownloader.figshare.com/files/7640752' \n",
    "\n",
    "# Aggression Data\n",
    "AGGRESSION_COMMENTS_URL = 'https://ndownloader.figshare.com/files/7038038' \n",
    "AGGRESSION_URL = 'https://ndownloader.figshare.com/files/7394506'\n",
    "AGGRESSION_DEMO_URL = 'https://ndownloader.figshare.com/files/7640644' "
   ]
  },
  {
   "cell_type": "markdown",
   "metadata": {},
   "source": [
    "The datasets were downloaded using the 'download_file' function and saved in .tsv format."
   ]
  },
  {
   "cell_type": "code",
   "execution_count": 2,
   "metadata": {},
   "outputs": [],
   "source": [
    "download_file(TOXICITY_COMMENTS_URL, 'toxicity_comments.tsv')\n",
    "download_file(TOXICITY_URL, 'toxicity.tsv')\n",
    "download_file(TOXICITY_DEMO_URL, 'toxicity_demo.tsv')\n",
    "download_file(ATTACK_COMMENTS_URL, 'attack_comments.tsv')\n",
    "download_file(ATTACK_URL, 'attack.tsv')\n",
    "download_file(ATTACK_DEMO_URL, 'attack_demo.tsv')\n",
    "download_file(AGGRESSION_COMMENTS_URL, 'aggression_comments.tsv')\n",
    "download_file(AGGRESSION_URL, 'aggression.tsv')\n",
    "download_file(AGGRESSION_DEMO_URL, 'aggression_demo.tsv')"
   ]
  },
  {
   "cell_type": "markdown",
   "metadata": {},
   "source": [
    "The datasets were read into the Jupyter Notebook for analysis."
   ]
  },
  {
   "cell_type": "code",
   "execution_count": 2,
   "metadata": {},
   "outputs": [],
   "source": [
    "toxicity_comments = pd.read_csv('toxicity_comments.tsv', sep = '\\t', index_col = 0)\n",
    "toxicity = pd.read_csv('toxicity.tsv',  sep = '\\t')\n",
    "toxicity_demo = pd.read_csv('toxicity_demo.tsv',  sep = '\\t')\n",
    "attack_comments = pd.read_csv('attack_comments.tsv', sep = '\\t', index_col = 0)\n",
    "attack = pd.read_csv('attack.tsv',  sep = '\\t')\n",
    "attack_demo = pd.read_csv('attack_demo.tsv',  sep = '\\t')\n",
    "aggression_comments = pd.read_csv('aggression_comments.tsv', sep = '\\t', index_col = 0)\n",
    "aggression = pd.read_csv('aggression.tsv',  sep = '\\t')\n",
    "aggression_demo = pd.read_csv('aggression_demo.tsv',  sep = '\\t')"
   ]
  },
  {
   "cell_type": "markdown",
   "metadata": {},
   "source": [
    "Each of the dataset types were observed to get a sense of the dataframe structure."
   ]
  },
  {
   "cell_type": "code",
   "execution_count": 3,
   "metadata": {},
   "outputs": [
    {
     "data": {
      "text/html": [
       "<div>\n",
       "<style scoped>\n",
       "    .dataframe tbody tr th:only-of-type {\n",
       "        vertical-align: middle;\n",
       "    }\n",
       "\n",
       "    .dataframe tbody tr th {\n",
       "        vertical-align: top;\n",
       "    }\n",
       "\n",
       "    .dataframe thead th {\n",
       "        text-align: right;\n",
       "    }\n",
       "</style>\n",
       "<table border=\"1\" class=\"dataframe\">\n",
       "  <thead>\n",
       "    <tr style=\"text-align: right;\">\n",
       "      <th></th>\n",
       "      <th>worker_id</th>\n",
       "      <th>gender</th>\n",
       "      <th>english_first_language</th>\n",
       "      <th>age_group</th>\n",
       "      <th>education</th>\n",
       "    </tr>\n",
       "  </thead>\n",
       "  <tbody>\n",
       "    <tr>\n",
       "      <th>0</th>\n",
       "      <td>833</td>\n",
       "      <td>female</td>\n",
       "      <td>0</td>\n",
       "      <td>45-60</td>\n",
       "      <td>bachelors</td>\n",
       "    </tr>\n",
       "    <tr>\n",
       "      <th>1</th>\n",
       "      <td>1072</td>\n",
       "      <td>male</td>\n",
       "      <td>0</td>\n",
       "      <td>30-45</td>\n",
       "      <td>bachelors</td>\n",
       "    </tr>\n",
       "    <tr>\n",
       "      <th>2</th>\n",
       "      <td>872</td>\n",
       "      <td>male</td>\n",
       "      <td>0</td>\n",
       "      <td>18-30</td>\n",
       "      <td>hs</td>\n",
       "    </tr>\n",
       "    <tr>\n",
       "      <th>3</th>\n",
       "      <td>2116</td>\n",
       "      <td>male</td>\n",
       "      <td>0</td>\n",
       "      <td>30-45</td>\n",
       "      <td>professional</td>\n",
       "    </tr>\n",
       "    <tr>\n",
       "      <th>4</th>\n",
       "      <td>453</td>\n",
       "      <td>male</td>\n",
       "      <td>0</td>\n",
       "      <td>30-45</td>\n",
       "      <td>hs</td>\n",
       "    </tr>\n",
       "    <tr>\n",
       "      <th>5</th>\n",
       "      <td>164</td>\n",
       "      <td>female</td>\n",
       "      <td>0</td>\n",
       "      <td>30-45</td>\n",
       "      <td>bachelors</td>\n",
       "    </tr>\n",
       "    <tr>\n",
       "      <th>6</th>\n",
       "      <td>301</td>\n",
       "      <td>male</td>\n",
       "      <td>0</td>\n",
       "      <td>18-30</td>\n",
       "      <td>professional</td>\n",
       "    </tr>\n",
       "    <tr>\n",
       "      <th>7</th>\n",
       "      <td>77</td>\n",
       "      <td>female</td>\n",
       "      <td>1</td>\n",
       "      <td>30-45</td>\n",
       "      <td>some</td>\n",
       "    </tr>\n",
       "    <tr>\n",
       "      <th>8</th>\n",
       "      <td>865</td>\n",
       "      <td>female</td>\n",
       "      <td>1</td>\n",
       "      <td>30-45</td>\n",
       "      <td>doctorate</td>\n",
       "    </tr>\n",
       "    <tr>\n",
       "      <th>9</th>\n",
       "      <td>715</td>\n",
       "      <td>male</td>\n",
       "      <td>0</td>\n",
       "      <td>18-30</td>\n",
       "      <td>bachelors</td>\n",
       "    </tr>\n",
       "  </tbody>\n",
       "</table>\n",
       "</div>"
      ],
      "text/plain": [
       "   worker_id  gender  english_first_language age_group     education\n",
       "0        833  female                       0     45-60     bachelors\n",
       "1       1072    male                       0     30-45     bachelors\n",
       "2        872    male                       0     18-30            hs\n",
       "3       2116    male                       0     30-45  professional\n",
       "4        453    male                       0     30-45            hs\n",
       "5        164  female                       0     30-45     bachelors\n",
       "6        301    male                       0     18-30  professional\n",
       "7         77  female                       1     30-45          some\n",
       "8        865  female                       1     30-45     doctorate\n",
       "9        715    male                       0     18-30     bachelors"
      ]
     },
     "execution_count": 3,
     "metadata": {},
     "output_type": "execute_result"
    }
   ],
   "source": [
    "aggression.head(10)\n",
    "aggression_comments.head(10)\n",
    "aggression_demo.head(10)"
   ]
  },
  {
   "cell_type": "markdown",
   "metadata": {},
   "source": [
    "The length of the number of unique columns was observed: 115,864."
   ]
  },
  {
   "cell_type": "code",
   "execution_count": 4,
   "metadata": {},
   "outputs": [
    {
     "data": {
      "text/plain": [
       "115864"
      ]
     },
     "execution_count": 4,
     "metadata": {},
     "output_type": "execute_result"
    }
   ],
   "source": [
    "len(aggression['rev_id'].unique())"
   ]
  },
  {
   "cell_type": "markdown",
   "metadata": {},
   "source": [
    "## Research Question 1: How consistent are labelling behaviors among workers with different demographic profiles?"
   ]
  },
  {
   "cell_type": "markdown",
   "metadata": {},
   "source": [
    "To answer this research question, I focused on the 'aggression' dataset. I decided that a good way to quantify labelling behaviors would be to see 1) what percentage of comments reviewed by different demographic groups were marked as aggressive, and 2) observe average aggression score ratings among the different demographic groups. These measures allow for direct comparison between different demographic groups. For this analysis, the demographic groups were compared by gender (male/female), english first language (yes/no), age group(under 18/18-30/30-45/45-60/over 60), and education status (no education/some education/hs/bachelor's/master's/doctorate/professional)."
   ]
  },
  {
   "cell_type": "markdown",
   "metadata": {},
   "source": [
    "The 'aggression' table was merged with the 'aggression demographics' table. Individuals that did not have demographic information available were dropped from the analysis."
   ]
  },
  {
   "cell_type": "code",
   "execution_count": 5,
   "metadata": {},
   "outputs": [
    {
     "data": {
      "text/html": [
       "<div>\n",
       "<style scoped>\n",
       "    .dataframe tbody tr th:only-of-type {\n",
       "        vertical-align: middle;\n",
       "    }\n",
       "\n",
       "    .dataframe tbody tr th {\n",
       "        vertical-align: top;\n",
       "    }\n",
       "\n",
       "    .dataframe thead th {\n",
       "        text-align: right;\n",
       "    }\n",
       "</style>\n",
       "<table border=\"1\" class=\"dataframe\">\n",
       "  <thead>\n",
       "    <tr style=\"text-align: right;\">\n",
       "      <th></th>\n",
       "      <th>rev_id</th>\n",
       "      <th>worker_id</th>\n",
       "      <th>aggression</th>\n",
       "      <th>aggression_score</th>\n",
       "      <th>gender</th>\n",
       "      <th>english_first_language</th>\n",
       "      <th>age_group</th>\n",
       "      <th>education</th>\n",
       "    </tr>\n",
       "  </thead>\n",
       "  <tbody>\n",
       "    <tr>\n",
       "      <th>1365203</th>\n",
       "      <td>699891012</td>\n",
       "      <td>813</td>\n",
       "      <td>0.0</td>\n",
       "      <td>0.0</td>\n",
       "      <td>male</td>\n",
       "      <td>0.0</td>\n",
       "      <td>18-30</td>\n",
       "      <td>bachelors</td>\n",
       "    </tr>\n",
       "    <tr>\n",
       "      <th>1365204</th>\n",
       "      <td>699891012</td>\n",
       "      <td>730</td>\n",
       "      <td>0.0</td>\n",
       "      <td>0.0</td>\n",
       "      <td>female</td>\n",
       "      <td>0.0</td>\n",
       "      <td>18-30</td>\n",
       "      <td>bachelors</td>\n",
       "    </tr>\n",
       "    <tr>\n",
       "      <th>1365205</th>\n",
       "      <td>699891012</td>\n",
       "      <td>587</td>\n",
       "      <td>1.0</td>\n",
       "      <td>-1.0</td>\n",
       "      <td>female</td>\n",
       "      <td>0.0</td>\n",
       "      <td>18-30</td>\n",
       "      <td>professional</td>\n",
       "    </tr>\n",
       "    <tr>\n",
       "      <th>1365207</th>\n",
       "      <td>699897151</td>\n",
       "      <td>151</td>\n",
       "      <td>0.0</td>\n",
       "      <td>0.0</td>\n",
       "      <td>male</td>\n",
       "      <td>0.0</td>\n",
       "      <td>30-45</td>\n",
       "      <td>hs</td>\n",
       "    </tr>\n",
       "    <tr>\n",
       "      <th>1365208</th>\n",
       "      <td>699897151</td>\n",
       "      <td>1887</td>\n",
       "      <td>0.0</td>\n",
       "      <td>0.0</td>\n",
       "      <td>male</td>\n",
       "      <td>0.0</td>\n",
       "      <td>30-45</td>\n",
       "      <td>masters</td>\n",
       "    </tr>\n",
       "    <tr>\n",
       "      <th>1365209</th>\n",
       "      <td>699897151</td>\n",
       "      <td>1780</td>\n",
       "      <td>0.0</td>\n",
       "      <td>0.0</td>\n",
       "      <td>female</td>\n",
       "      <td>0.0</td>\n",
       "      <td>18-30</td>\n",
       "      <td>bachelors</td>\n",
       "    </tr>\n",
       "    <tr>\n",
       "      <th>1365210</th>\n",
       "      <td>699897151</td>\n",
       "      <td>1608</td>\n",
       "      <td>0.0</td>\n",
       "      <td>0.0</td>\n",
       "      <td>male</td>\n",
       "      <td>1.0</td>\n",
       "      <td>18-30</td>\n",
       "      <td>hs</td>\n",
       "    </tr>\n",
       "    <tr>\n",
       "      <th>1365214</th>\n",
       "      <td>699897151</td>\n",
       "      <td>57</td>\n",
       "      <td>0.0</td>\n",
       "      <td>0.0</td>\n",
       "      <td>male</td>\n",
       "      <td>0.0</td>\n",
       "      <td>18-30</td>\n",
       "      <td>masters</td>\n",
       "    </tr>\n",
       "    <tr>\n",
       "      <th>1365215</th>\n",
       "      <td>699897151</td>\n",
       "      <td>1815</td>\n",
       "      <td>0.0</td>\n",
       "      <td>0.0</td>\n",
       "      <td>male</td>\n",
       "      <td>0.0</td>\n",
       "      <td>30-45</td>\n",
       "      <td>bachelors</td>\n",
       "    </tr>\n",
       "    <tr>\n",
       "      <th>1365216</th>\n",
       "      <td>699897151</td>\n",
       "      <td>472</td>\n",
       "      <td>0.0</td>\n",
       "      <td>0.0</td>\n",
       "      <td>female</td>\n",
       "      <td>0.0</td>\n",
       "      <td>18-30</td>\n",
       "      <td>bachelors</td>\n",
       "    </tr>\n",
       "  </tbody>\n",
       "</table>\n",
       "</div>"
      ],
      "text/plain": [
       "            rev_id  worker_id  aggression  aggression_score  gender  \\\n",
       "1365203  699891012        813         0.0               0.0    male   \n",
       "1365204  699891012        730         0.0               0.0  female   \n",
       "1365205  699891012        587         1.0              -1.0  female   \n",
       "1365207  699897151        151         0.0               0.0    male   \n",
       "1365208  699897151       1887         0.0               0.0    male   \n",
       "1365209  699897151       1780         0.0               0.0  female   \n",
       "1365210  699897151       1608         0.0               0.0    male   \n",
       "1365214  699897151         57         0.0               0.0    male   \n",
       "1365215  699897151       1815         0.0               0.0    male   \n",
       "1365216  699897151        472         0.0               0.0  female   \n",
       "\n",
       "         english_first_language age_group     education  \n",
       "1365203                     0.0     18-30     bachelors  \n",
       "1365204                     0.0     18-30     bachelors  \n",
       "1365205                     0.0     18-30  professional  \n",
       "1365207                     0.0     30-45            hs  \n",
       "1365208                     0.0     30-45       masters  \n",
       "1365209                     0.0     18-30     bachelors  \n",
       "1365210                     1.0     18-30            hs  \n",
       "1365214                     0.0     18-30       masters  \n",
       "1365215                     0.0     30-45     bachelors  \n",
       "1365216                     0.0     18-30     bachelors  "
      ]
     },
     "execution_count": 5,
     "metadata": {},
     "output_type": "execute_result"
    }
   ],
   "source": [
    "aggression_table = pd.merge(aggression, aggression_demo, how='left', on='worker_id')\n",
    "aggression_table = aggression_table.dropna()\n",
    "aggression_table.tail(10)"
   ]
  },
  {
   "cell_type": "markdown",
   "metadata": {},
   "source": [
    "### Percentage of comments marked as aggressive by each demographic group"
   ]
  },
  {
   "cell_type": "markdown",
   "metadata": {},
   "source": [
    "The percent of comments marked as aggressive by the entire set of workers was calculated."
   ]
  },
  {
   "cell_type": "code",
   "execution_count": 6,
   "metadata": {},
   "outputs": [
    {
     "name": "stdout",
     "output_type": "stream",
     "text": [
      "18.373528613277664 % of the annotations left by all workers were marked as aggressive.\n"
     ]
    }
   ],
   "source": [
    "percent_total_aggression = aggression_table.loc[:,'aggression'].sum() / aggression_table.loc[:,'aggression'].count() * 100\n",
    "print(percent_total_aggression,\"% of the annotations left by all workers were marked as aggressive.\")"
   ]
  },
  {
   "cell_type": "markdown",
   "metadata": {},
   "source": [
    "The percent of comments marked as aggressive by gender was calculated."
   ]
  },
  {
   "cell_type": "code",
   "execution_count": 7,
   "metadata": {},
   "outputs": [
    {
     "name": "stdout",
     "output_type": "stream",
     "text": [
      "19.68311447228232 % of the annotations left by female workers were marked as aggressive.\n",
      "17.623910123063528 % of the annotations left by male workers were marked as aggressive.\n"
     ]
    }
   ],
   "source": [
    "# Percent of Aggressive Comments by Gender\n",
    "percent_female_aggression = aggression_table.loc[aggression_table['gender'] == 'female', 'aggression'].sum() / aggression_table.loc[aggression_table['gender'] == 'female', 'aggression'].count() * 100\n",
    "percent_male_aggression = aggression_table.loc[aggression_table['gender'] == 'male', 'aggression'].sum() / aggression_table.loc[aggression_table['gender'] == 'male', 'aggression'].count() * 100\n",
    "print(percent_female_aggression,\"% of the annotations left by female workers were marked as aggressive.\")\n",
    "print(percent_male_aggression,\"% of the annotations left by male workers were marked as aggressive.\")"
   ]
  },
  {
   "cell_type": "markdown",
   "metadata": {},
   "source": [
    "The percent of comments marked as aggressive by english first language status was calculated."
   ]
  },
  {
   "cell_type": "code",
   "execution_count": 8,
   "metadata": {},
   "outputs": [
    {
     "name": "stdout",
     "output_type": "stream",
     "text": [
      "17.948413186332772 % of the annotations left by workers that did not have English as a first language were marked as aggressive.\n",
      "21.163380761541013 % of the annotations left by workers with English as their first language were marked as aggressive.\n"
     ]
    }
   ],
   "source": [
    "# Percent of aggressive comments by English First Language\n",
    "percent_ofl_aggression = aggression_table.loc[aggression_table['english_first_language'] == 0, 'aggression'].sum() / aggression_table.loc[aggression_table['english_first_language'] == 0, 'aggression'].count() * 100\n",
    "percent_efl_aggression = aggression_table.loc[aggression_table['english_first_language'] == 1, 'aggression'].sum() / aggression_table.loc[aggression_table['english_first_language'] == 1, 'aggression'].count() * 100\n",
    "print(percent_ofl_aggression,\"% of the annotations left by workers that did not have English as a first language were marked as aggressive.\")\n",
    "print(percent_efl_aggression,\"% of the annotations left by workers with English as their first language were marked as aggressive.\")"
   ]
  },
  {
   "cell_type": "markdown",
   "metadata": {},
   "source": [
    "The percent of comments marked aggressive by age group was calculated."
   ]
  },
  {
   "cell_type": "code",
   "execution_count": 9,
   "metadata": {},
   "outputs": [
    {
     "name": "stdout",
     "output_type": "stream",
     "text": [
      "13.07298736556333 % of the annotations left by workers under the age of 18 were marked as aggressive.\n",
      "16.759289556023642 % of the annotations left by workers between the ages of 18 and 30 were marked as aggressive.\n",
      "19.036925589511835 % of the annotations left by workers between the ages of 30 and 45 were marked as aggressive.\n",
      "23.59370351687297 % of the annotations left by workers between the ages of 45 and 60 were marked as aggressive.\n",
      "23.657696722356842 % of the annotations left by workers over the age of 60 were marked as aggressive.\n"
     ]
    }
   ],
   "source": [
    "# Percent of aggressive comments by Age Group\n",
    "percent_under18_aggression = aggression_table.loc[aggression_table['age_group'] == 'Under 18', 'aggression'].sum() / aggression_table.loc[aggression_table['age_group'] == 'Under 18', 'aggression'].count() * 100\n",
    "percent_18to30_aggression = aggression_table.loc[aggression_table['age_group'] == '18-30', 'aggression'].sum() / aggression_table.loc[aggression_table['age_group'] == '18-30', 'aggression'].count() * 100\n",
    "percent_30to45_aggression = aggression_table.loc[aggression_table['age_group'] == '30-45', 'aggression'].sum() / aggression_table.loc[aggression_table['age_group'] == '30-45', 'aggression'].count() * 100\n",
    "percent_45to60_aggression = aggression_table.loc[aggression_table['age_group'] == '45-60', 'aggression'].sum() / aggression_table.loc[aggression_table['age_group'] == '45-60', 'aggression'].count() * 100\n",
    "percent_over60_aggression = aggression_table.loc[aggression_table['age_group'] == 'Over 60', 'aggression'].sum() / aggression_table.loc[aggression_table['age_group'] == 'Over 60', 'aggression'].count() * 100\n",
    "print(percent_under18_aggression,\"% of the annotations left by workers under the age of 18 were marked as aggressive.\")\n",
    "print(percent_18to30_aggression,\"% of the annotations left by workers between the ages of 18 and 30 were marked as aggressive.\")\n",
    "print(percent_30to45_aggression,\"% of the annotations left by workers between the ages of 30 and 45 were marked as aggressive.\")\n",
    "print(percent_45to60_aggression,\"% of the annotations left by workers between the ages of 45 and 60 were marked as aggressive.\")\n",
    "print(percent_over60_aggression,\"% of the annotations left by workers over the age of 60 were marked as aggressive.\")"
   ]
  },
  {
   "cell_type": "markdown",
   "metadata": {},
   "source": [
    "The percent of comments marked aggressive by education status was calculated."
   ]
  },
  {
   "cell_type": "code",
   "execution_count": 10,
   "metadata": {},
   "outputs": [
    {
     "name": "stdout",
     "output_type": "stream",
     "text": [
      "8.421052631578947 % of the annotations left by workers under the age of 18 were marked as aggressive.\n",
      "17.360132361051537 % of the annotations left by workers between the ages of 18 and 30 were marked as aggressive.\n",
      "18.42691345886678 % of the annotations left by workers between the ages of 30 and 45 were marked as aggressive.\n",
      "18.232504486029224 % of the annotations left by workers between the ages of 45 and 60 were marked as aggressive.\n",
      "18.38067669022135 % of the annotations left by workers over the age of 60 were marked as aggressive.\n",
      "19.860764481807436 % of the annotations left by workers between the ages of 45 and 60 were marked as aggressive.\n",
      "18.81609046570849 % of the annotations left by workers over the age of 60 were marked as aggressive.\n"
     ]
    }
   ],
   "source": [
    "# Percent of aggressive comments by Education Status\n",
    "percent_noeducation_aggression = aggression_table.loc[aggression_table['education'] == 'none', 'aggression'].sum() / aggression_table.loc[aggression_table['education'] == 'none', 'aggression'].count() * 100\n",
    "percent_someeducation_aggression = aggression_table.loc[aggression_table['education'] == 'some', 'aggression'].sum() / aggression_table.loc[aggression_table['education'] == 'some', 'aggression'].count() * 100\n",
    "percent_hs_aggression = aggression_table.loc[aggression_table['education'] == 'hs', 'aggression'].sum() / aggression_table.loc[aggression_table['education'] == 'hs', 'aggression'].count() * 100\n",
    "percent_bachelors_aggression = aggression_table.loc[aggression_table['education'] == 'bachelors', 'aggression'].sum() / aggression_table.loc[aggression_table['education'] == 'bachelors', 'aggression'].count() * 100\n",
    "percent_masters_aggression = aggression_table.loc[aggression_table['education'] == 'masters', 'aggression'].sum() / aggression_table.loc[aggression_table['education'] == 'masters', 'aggression'].count() * 100\n",
    "percent_doctorate_aggression = aggression_table.loc[aggression_table['education'] == 'doctorate', 'aggression'].sum() / aggression_table.loc[aggression_table['education'] == 'doctorate', 'aggression'].count() * 100\n",
    "percent_professional_aggression = aggression_table.loc[aggression_table['education'] == 'professional', 'aggression'].sum() / aggression_table.loc[aggression_table['education'] == 'professional', 'aggression'].count() * 100\n",
    "print(percent_noeducation_aggression,\"% of the annotations left by workers under the age of 18 were marked as aggressive.\")\n",
    "print(percent_someeducation_aggression,\"% of the annotations left by workers between the ages of 18 and 30 were marked as aggressive.\")\n",
    "print(percent_hs_aggression, \"% of the annotations left by workers between the ages of 30 and 45 were marked as aggressive.\")\n",
    "print(percent_bachelors_aggression,\"% of the annotations left by workers between the ages of 45 and 60 were marked as aggressive.\")\n",
    "print(percent_masters_aggression,\"% of the annotations left by workers over the age of 60 were marked as aggressive.\")\n",
    "print(percent_doctorate_aggression,\"% of the annotations left by workers between the ages of 45 and 60 were marked as aggressive.\")\n",
    "print(percent_professional_aggression,\"% of the annotations left by workers over the age of 60 were marked as aggressive.\")"
   ]
  },
  {
   "cell_type": "markdown",
   "metadata": {},
   "source": [
    "The calculated values were arranged into keys and values in order to prepare the data for visualization."
   ]
  },
  {
   "cell_type": "code",
   "execution_count": 11,
   "metadata": {},
   "outputs": [],
   "source": [
    "data_total = {'Total':percent_total_aggression}\n",
    "total = list(data_total.keys())\n",
    "total_percent = list(data_total.values())\n",
    "\n",
    "data_gender = {'Male':percent_male_aggression, 'Female':percent_female_aggression}\n",
    "gender = list(data_gender.keys())\n",
    "gender_percent = list(data_gender.values())\n",
    "\n",
    "data_efl = {'English FL':percent_efl_aggression, 'Other FL':percent_ofl_aggression}\n",
    "efl = list(data_efl.keys())\n",
    "efl_percent = list(data_efl.values())\n",
    "\n",
    "data_age = {'Under 18':percent_under18_aggression,'18-30':percent_18to30_aggression, '30-45':percent_30to45_aggression, '45-60':percent_45to60_aggression, 'Over 60':percent_over60_aggression}\n",
    "age = list(data_age.keys())\n",
    "age_percent = list(data_age.values())\n",
    "\n",
    "data_education = {'No Ed':percent_noeducation_aggression, 'Some Ed':percent_someeducation_aggression, 'HS Education':percent_hs_aggression, 'Bachelors':percent_bachelors_aggression, 'Masters':percent_masters_aggression,\n",
    "                  'Doctorate':percent_doctorate_aggression, 'Professional':percent_professional_aggression}\n",
    "education = list(data_education.keys())\n",
    "education_percent = list(data_education.values())"
   ]
  },
  {
   "cell_type": "markdown",
   "metadata": {},
   "source": [
    "A bar plot was generated to directly compare all demographic groups. Individual groups of demographics were organized by color, but all were plotted on the same axis for easier interpretation."
   ]
  },
  {
   "cell_type": "code",
   "execution_count": 12,
   "metadata": {},
   "outputs": [
    {
     "data": {
      "image/png": "[encoded data removed]",
      "text/plain": [
       "<Figure size 1728x864 with 1 Axes>"
      ]
     },
     "metadata": {
      "needs_background": "light"
     },
     "output_type": "display_data"
    },
    {
     "data": {
      "text/plain": [
       "<Figure size 432x288 with 0 Axes>"
      ]
     },
     "metadata": {},
     "output_type": "display_data"
    }
   ],
   "source": [
    "fig = plt.figure(figsize = (24, 12)) \n",
    "  \n",
    "# creating the bar plot\n",
    "plt.bar(total, total_percent, label = \"Total\", color = 'black', width = 0.4)\n",
    "plt.bar(gender, gender_percent, label = \"Gender\", color = 'red', width = 0.4)\n",
    "plt.bar(efl, efl_percent, label = \"English FL\", color = 'blue', width = 0.4)\n",
    "plt.bar(age, age_percent, label = \"Age Group\", color = 'green', width = 0.4)\n",
    "plt.bar(education, education_percent, label = \"Education\", color = 'yellow', width = 0.4)\n",
    "\n",
    "plt.legend()\n",
    "\n",
    "plt.xlabel(\"Worker Demographics\") \n",
    "plt.ylabel(\"% of Comments Rated Aggressive\") \n",
    "plt.title(\"% of Comments Rated Aggressive Split by Worker Demographics\") \n",
    "plt.show()\n",
    "\n",
    "plt.savefig('data-512-a2-1.png');"
   ]
  },
  {
   "cell_type": "markdown",
   "metadata": {},
   "source": [
    "### Average Aggression Score Ratings Observed by Demographic Group"
   ]
  },
  {
   "cell_type": "markdown",
   "metadata": {},
   "source": [
    "The distribution of aggression scores across all workers was observed to see if there was a skew in either direction."
   ]
  },
  {
   "cell_type": "code",
   "execution_count": 13,
   "metadata": {},
   "outputs": [
    {
     "data": {
      "image/png": "[encoded data removed]",
      "text/plain": [
       "<Figure size 432x288 with 1 Axes>"
      ]
     },
     "metadata": {
      "needs_background": "light"
     },
     "output_type": "display_data"
    }
   ],
   "source": [
    "plt.hist(aggression_table.aggression_score, bins=7)\n",
    "plt.savefig('data-512-a2-2.png');"
   ]
  },
  {
   "cell_type": "markdown",
   "metadata": {},
   "source": [
    "The average aggression score ratings were calculated for all workers."
   ]
  },
  {
   "cell_type": "code",
   "execution_count": 14,
   "metadata": {},
   "outputs": [
    {
     "name": "stdout",
     "output_type": "stream",
     "text": [
      "-0.18885083348448797 was the average aggression score left by all workers across all comments.\n"
     ]
    }
   ],
   "source": [
    "# Total Average Aggression Score\n",
    "percent_total_aggression_score = aggression_table.loc[:,'aggression_score'].sum() / aggression_table.loc[:,'aggression_score'].count()\n",
    "print(percent_total_aggression_score,\"was the average aggression score left by all workers across all comments.\")"
   ]
  },
  {
   "cell_type": "markdown",
   "metadata": {},
   "source": [
    "The average aggression score ratings were calculated by gender."
   ]
  },
  {
   "cell_type": "code",
   "execution_count": 15,
   "metadata": {},
   "outputs": [
    {
     "name": "stdout",
     "output_type": "stream",
     "text": [
      "-0.2326278359882083 was the average aggression score left by female workers across all comments.\n",
      "-0.163869486422822 was the average aggression score left by male workers across all comments.\n"
     ]
    }
   ],
   "source": [
    "# Average Aggression Score by Gender\n",
    "percent_female_aggression_score = aggression_table.loc[aggression_table['gender'] == 'female', 'aggression_score'].sum() / aggression_table.loc[aggression_table['gender'] == 'female', 'aggression_score'].count()\n",
    "percent_male_aggression_score = aggression_table.loc[aggression_table['gender'] == 'male', 'aggression_score'].sum() / aggression_table.loc[aggression_table['gender'] == 'male', 'aggression_score'].count()\n",
    "print(percent_female_aggression_score,\"was the average aggression score left by female workers across all comments.\")\n",
    "print(percent_male_aggression_score,\"was the average aggression score left by male workers across all comments.\")"
   ]
  },
  {
   "cell_type": "markdown",
   "metadata": {},
   "source": [
    "The average aggression score ratings were calculated by english first language status."
   ]
  },
  {
   "cell_type": "code",
   "execution_count": 16,
   "metadata": {},
   "outputs": [
    {
     "name": "stdout",
     "output_type": "stream",
     "text": [
      "-0.18804595816768446 was the average aggression score left by workers with English not marked as their first language across all comments.\n",
      "-0.1941328886378511 was the average aggression score left by workers with English as their first language across all comments\n"
     ]
    }
   ],
   "source": [
    "# Average Aggression Score by English First Language\n",
    "percent_ofl_aggression_score = aggression_table.loc[aggression_table['english_first_language'] == 0, 'aggression_score'].sum() / aggression_table.loc[aggression_table['english_first_language'] == 0, 'aggression_score'].count()\n",
    "percent_efl_aggression_score = aggression_table.loc[aggression_table['english_first_language'] == 1, 'aggression_score'].sum() / aggression_table.loc[aggression_table['english_first_language'] == 1, 'aggression_score'].count()\n",
    "print(percent_ofl_aggression_score,\"was the average aggression score left by workers with English not marked as their first language across all comments.\")\n",
    "print(percent_efl_aggression_score,\"was the average aggression score left by workers with English as their first language across all comments\")"
   ]
  },
  {
   "cell_type": "markdown",
   "metadata": {},
   "source": [
    "The average aggression score ratings were calculated by age group."
   ]
  },
  {
   "cell_type": "code",
   "execution_count": 17,
   "metadata": {},
   "outputs": [
    {
     "name": "stdout",
     "output_type": "stream",
     "text": [
      "-0.04176673279732693 was the average aggression score left by workers under the age of 18 across all comments.\n",
      "-0.18727376837972146 was the average aggression score left by workers between the ages of 18 and 30 all comments.\n",
      "-0.17842800572732562 was the average aggression score left by workers between the ages of 30 and 45 across all comments.\n",
      "-0.2599304127378319 was the average aggression score left by workers between the ages of 45 and 60 across all comments.\n",
      "-0.22165540109679888 was the average aggression score left by workers over the age of 60 across all comments.\n"
     ]
    }
   ],
   "source": [
    "# Average Aggression Score by Age Group\n",
    "percent_under18_aggression_score = aggression_table.loc[aggression_table['age_group'] == 'Under 18', 'aggression_score'].sum() / aggression_table.loc[aggression_table['age_group'] == 'Under 18', 'aggression_score'].count()\n",
    "percent_18to30_aggression_score = aggression_table.loc[aggression_table['age_group'] == '18-30', 'aggression_score'].sum() / aggression_table.loc[aggression_table['age_group'] == '18-30', 'aggression_score'].count()\n",
    "percent_30to45_aggression_score = aggression_table.loc[aggression_table['age_group'] == '30-45', 'aggression_score'].sum() / aggression_table.loc[aggression_table['age_group'] == '30-45', 'aggression_score'].count()\n",
    "percent_45to60_aggression_score = aggression_table.loc[aggression_table['age_group'] == '45-60', 'aggression_score'].sum() / aggression_table.loc[aggression_table['age_group'] == '45-60', 'aggression_score'].count()\n",
    "percent_over60_aggression_score = aggression_table.loc[aggression_table['age_group'] == 'Over 60', 'aggression_score'].sum() / aggression_table.loc[aggression_table['age_group'] == 'Over 60', 'aggression_score'].count()\n",
    "print(percent_under18_aggression_score,\"was the average aggression score left by workers under the age of 18 across all comments.\")\n",
    "print(percent_18to30_aggression_score,\"was the average aggression score left by workers between the ages of 18 and 30 all comments.\")\n",
    "print(percent_30to45_aggression_score,\"was the average aggression score left by workers between the ages of 30 and 45 across all comments.\")\n",
    "print(percent_45to60_aggression_score,\"was the average aggression score left by workers between the ages of 45 and 60 across all comments.\")\n",
    "print(percent_over60_aggression_score,\"was the average aggression score left by workers over the age of 60 across all comments.\")"
   ]
  },
  {
   "cell_type": "markdown",
   "metadata": {},
   "source": [
    "The average aggresion score ratings were calculated by education status."
   ]
  },
  {
   "cell_type": "code",
   "execution_count": 18,
   "metadata": {},
   "outputs": [
    {
     "name": "stdout",
     "output_type": "stream",
     "text": [
      "0.1368421052631579 was the average aggression score left by workers with no education across all comments.\n",
      "-0.14051106072676023 was the average aggression score left by workers with some education across all comments.\n",
      "-0.1852138414516853 was the average aggression score left by workers with high school education across all comments.\n",
      "-0.1871489827783086 was the average aggression score left by workers with a Bachelor's degree across all comments.\n",
      "-0.20618928874656542 was the average aggression score left by workers with a Master's degree across all comments.\n",
      "-0.11690529357677656 was the average aggression score left by workers with a doctorate across all comments.\n",
      "-0.1911066511286633 was the average aggression score left by workers with a professional degree across all comments.\n"
     ]
    }
   ],
   "source": [
    "# Average Aggression Score by Education Status\n",
    "percent_noeducation_aggression_score = aggression_table.loc[aggression_table['education'] == 'none', 'aggression_score'].sum() / aggression_table.loc[aggression_table['education'] == 'none', 'aggression_score'].count()\n",
    "percent_someeducation_aggression_score = aggression_table.loc[aggression_table['education'] == 'some', 'aggression_score'].sum() / aggression_table.loc[aggression_table['education'] == 'some', 'aggression_score'].count()\n",
    "percent_hs_aggression_score = aggression_table.loc[aggression_table['education'] == 'hs', 'aggression_score'].sum() / aggression_table.loc[aggression_table['education'] == 'hs', 'aggression_score'].count()\n",
    "percent_bachelors_aggression_score = aggression_table.loc[aggression_table['education'] == 'bachelors', 'aggression_score'].sum() / aggression_table.loc[aggression_table['education'] == 'bachelors', 'aggression_score'].count()\n",
    "percent_masters_aggression_score = aggression_table.loc[aggression_table['education'] == 'masters', 'aggression_score'].sum() / aggression_table.loc[aggression_table['education'] == 'masters', 'aggression_score'].count()\n",
    "percent_doctorate_aggression_score = aggression_table.loc[aggression_table['education'] == 'doctorate', 'aggression_score'].sum() / aggression_table.loc[aggression_table['education'] == 'doctorate', 'aggression_score'].count()\n",
    "percent_professional_aggression_score = aggression_table.loc[aggression_table['education'] == 'professional', 'aggression_score'].sum() / aggression_table.loc[aggression_table['education'] == 'professional', 'aggression_score'].count()\n",
    "print(percent_noeducation_aggression_score,\"was the average aggression score left by workers with no education across all comments.\")\n",
    "print(percent_someeducation_aggression_score,\"was the average aggression score left by workers with some education across all comments.\")\n",
    "print(percent_hs_aggression_score, \"was the average aggression score left by workers with high school education across all comments.\")\n",
    "print(percent_bachelors_aggression_score,\"was the average aggression score left by workers with a Bachelor's degree across all comments.\")\n",
    "print(percent_masters_aggression_score,\"was the average aggression score left by workers with a Master's degree across all comments.\")\n",
    "print(percent_doctorate_aggression_score,\"was the average aggression score left by workers with a doctorate across all comments.\")\n",
    "print(percent_professional_aggression_score,\"was the average aggression score left by workers with a professional degree across all comments.\")"
   ]
  },
  {
   "cell_type": "markdown",
   "metadata": {},
   "source": [
    "The calculated values were organized into keys and values for easier visualization."
   ]
  },
  {
   "cell_type": "code",
   "execution_count": 19,
   "metadata": {},
   "outputs": [],
   "source": [
    "# creating the dataset \n",
    "data_total = {'Total':percent_total_aggression_score}\n",
    "total = list(data_total.keys())\n",
    "total_percent = list(data_total.values())\n",
    "\n",
    "data_gender = {'Male':percent_male_aggression_score, 'Female':percent_female_aggression_score}\n",
    "gender = list(data_gender.keys())\n",
    "gender_percent = list(data_gender.values())\n",
    "\n",
    "data_efl = {'English FL':percent_efl_aggression_score, 'Other FL':percent_ofl_aggression_score}\n",
    "efl = list(data_efl.keys())\n",
    "efl_percent = list(data_efl.values())\n",
    "\n",
    "data_age = {'Under 18':percent_under18_aggression_score,'18-30':percent_18to30_aggression_score, '30-45':percent_30to45_aggression_score, '45-60':percent_45to60_aggression_score, 'Over 60':percent_over60_aggression_score}\n",
    "age = list(data_age.keys())\n",
    "age_percent = list(data_age.values())\n",
    "\n",
    "data_education = {'No Ed':percent_noeducation_aggression_score, 'Some Ed':percent_someeducation_aggression_score, 'HS Education':percent_hs_aggression_score, 'Bachelors':percent_bachelors_aggression_score, 'Masters':percent_masters_aggression_score,\n",
    "                  'Doctorate':percent_doctorate_aggression_score, 'Professional':percent_professional_aggression_score}\n",
    "education = list(data_education.keys())\n",
    "education_percent = list(data_education.values())"
   ]
  },
  {
   "cell_type": "markdown",
   "metadata": {},
   "source": [
    "A bar graph was generated to observe the average aggression score across all demographic groups. The demographic groups were organized by color for easier understanding."
   ]
  },
  {
   "cell_type": "code",
   "execution_count": 20,
   "metadata": {},
   "outputs": [
    {
     "data": {
      "image/png": "[encoded data removed]",
      "text/plain": [
       "<Figure size 1728x864 with 1 Axes>"
      ]
     },
     "metadata": {
      "needs_background": "light"
     },
     "output_type": "display_data"
    },
    {
     "data": {
      "text/plain": [
       "<Figure size 432x288 with 0 Axes>"
      ]
     },
     "metadata": {},
     "output_type": "display_data"
    }
   ],
   "source": [
    "fig = plt.figure(figsize = (24, 12)) \n",
    "  \n",
    "# creating the bar plot\n",
    "plt.bar(total, total_percent, label = \"Total\", color = 'black', width = 0.4)\n",
    "plt.bar(gender, gender_percent, label = \"Gender\", color = 'red', width = 0.4)\n",
    "plt.bar(efl, efl_percent, label = \"English FL\", color = 'blue', width = 0.4)\n",
    "plt.bar(age, age_percent, label = \"Age Group\", color = 'green', width = 0.4)\n",
    "plt.bar(education, education_percent, label = \"Education\", color = 'yellow', width = 0.4)\n",
    "\n",
    "plt.legend()\n",
    "\n",
    "plt.xlabel(\"Worker Demographics\") \n",
    "plt.ylabel(\"Average Aggression Score\") \n",
    "plt.title(\"Average Aggression Score Given Across All Reviewed Comments by Demographic Group\") \n",
    "plt.show()\n",
    "\n",
    "plt.savefig('data-512-a2-3.png');"
   ]
  },
  {
   "cell_type": "markdown",
   "metadata": {},
   "source": [
    "### Summary of Findings\n",
    "\n",
    "Based on this exploratory analysis, it was clear that there were some differences in labelling among demographics. Between the percentage of comments marked aggressive and average aggression scores, females tended to interpret comments as more aggressive than their male counterparts. Having English as a first language made workers more likely to interpret aggression in the comments, however average aggression ratings were similar. Age groups displayed the largest disparity. The 'under 18' group was much less likely to mark comments as aggressive, and had a much less negative aggression score average. The percentage of aggressive comments increased between age groups until it leveled off between '45-60' and 'over 60'. The '45-60' demographic had a more negative average aggression score than other demographics. Education status was also had a large disparity between groups. Specifically, 'No Education' workers were the least likely to mark a comment aggressive amongst all groupings and actually had a positive (more friendly) average aggression score. Apart from 'No Education', the other education statuses were relatively similar.\n",
    "\n",
    "There was clear bias across some of the demographic groups. Specifically, individuals under the age of 18 and not educated rated comments significantly differently than other demographic groups. Also, generally the older the reviewer, the more likely they are to interpret a comment as aggressive. This makes it clear that labelling behavior is not consistent and is at least somewhat dependent on the demographic groups of individuals that are brought in to provide annotations. The consequences of this bias are that machine learning models based off of this data may be skewed towards not being as likely to mark a comment as aggressive if multiple reviewers come from a younger background or vice-versa with an older background. I would be interested to know if the sample of crowdworkers was selected to mimic the actual Wikipedia user base."
   ]
  },
  {
   "cell_type": "markdown",
   "metadata": {},
   "source": [
    "## Research Question 2: Are some kinds of hostile speech harder for people to agree on than others?"
   ]
  },
  {
   "cell_type": "markdown",
   "metadata": {},
   "source": [
    "To answer this question, I created a field called 'Disputed' for all types of hostile speech. To calculate 'Disputed', the average of responses to whether or not a comment was hostile (for each type of speech) was calculated and comments that were between 0.4 and 0.6 represented those with a high level of disagreement. The count of 'Disputed' comments for each type of hostile speech were compared to assess which hostile speech categories were cause for larger disagreement among workers."
   ]
  },
  {
   "cell_type": "markdown",
   "metadata": {},
   "source": [
    "The 'Disputed' value was calculated for each type of hostile speech (aggression, personal attack, and toxicity). A query was completed to count the number of disputed comments."
   ]
  },
  {
   "cell_type": "code",
   "execution_count": 21,
   "metadata": {},
   "outputs": [],
   "source": [
    "aggression_temp = aggression_comments\n",
    "aggression_labels = aggression.groupby('rev_id')['aggression'].mean().between(0.4,0.6)\n",
    "aggression_temp['Disputed'] = aggression_labels\n",
    "aggression_disp = aggression_temp.query('Disputed')['comment'].count()\n",
    "\n",
    "attack_temp = attack_comments\n",
    "attack_labels = attack.groupby('rev_id')['attack'].mean().between(0.4,0.6)\n",
    "attack_temp['Disputed'] = attack_labels\n",
    "attack_disp = attack_temp.query('Disputed')['comment'].count()\n",
    "\n",
    "toxicity_temp = toxicity_comments\n",
    "toxicity_labels = toxicity.groupby('rev_id')['toxicity'].mean().between(0.4,0.6)\n",
    "toxicity_temp['Disputed'] = toxicity_labels\n",
    "toxicity_disp = toxicity_temp.query('Disputed')['comment'].count()"
   ]
  },
  {
   "cell_type": "markdown",
   "metadata": {},
   "source": [
    "The percentage of total comments that the disputed comments represent was calculated."
   ]
  },
  {
   "cell_type": "code",
   "execution_count": 23,
   "metadata": {},
   "outputs": [
    {
     "name": "stdout",
     "output_type": "stream",
     "text": [
      "8.110370779534627 was the percent of comments disputed for aggression.\n",
      "6.99527031692329 was the percent of comments disputed for personal attacks.\n",
      "8.784436926051233 was the percent of comments disputed for toxicity.\n"
     ]
    }
   ],
   "source": [
    "percent_disp_aggression = aggression_disp / len(aggression['rev_id'].unique()) * 100\n",
    "percent_disp_attack = attack_disp / len(attack['rev_id'].unique()) * 100\n",
    "percent_disp_toxicity = toxicity_disp / len(attack['rev_id'].unique()) * 100\n",
    "print(percent_disp_aggression,\"was the percent of comments disputed for aggression.\")\n",
    "print(percent_disp_attack,\"was the percent of comments disputed for personal attacks.\")\n",
    "print(percent_disp_toxicity,\"was the percent of comments disputed for toxicity.\")"
   ]
  },
  {
   "cell_type": "markdown",
   "metadata": {},
   "source": [
    "The counts were organized into keys and values, and then plotted into a bar plot that examined the frequency of disputed comments for each type of hostile speech."
   ]
  },
  {
   "cell_type": "code",
   "execution_count": 24,
   "metadata": {},
   "outputs": [
    {
     "data": {
      "image/png": "[encoded data removed]",
      "text/plain": [
       "<Figure size 720x360 with 1 Axes>"
      ]
     },
     "metadata": {
      "needs_background": "light"
     },
     "output_type": "display_data"
    },
    {
     "data": {
      "text/plain": [
       "<Figure size 432x288 with 0 Axes>"
      ]
     },
     "metadata": {},
     "output_type": "display_data"
    }
   ],
   "source": [
    "# creating the dataset \n",
    "data = {'Aggression':aggression_disp, 'Attack':attack_disp, 'Toxicity':toxicity_disp}\n",
    "\n",
    "labels = list(data.keys())\n",
    "count = list(data.values())\n",
    "\n",
    "fig = plt.figure(figsize = (10, 5)) \n",
    "  \n",
    "# creating the bar plot\n",
    "plt.bar(labels, count, color = 'black', width = 0.4)\n",
    "\n",
    "plt.xlabel(\"Type of Hostile Speech\") \n",
    "plt.ylabel(\"Count of Comments with Disagreement\") \n",
    "plt.title(\"Frequency of Disputed Comments for Each Type of Hostile Speech\") \n",
    "plt.show()\n",
    "\n",
    "plt.savefig('data-512-a2-4.png');"
   ]
  },
  {
   "cell_type": "markdown",
   "metadata": {},
   "source": [
    "### Summary of Findings\n",
    "\n",
    "Based on this analysis, personal attacks were the least controversial in terms of diagnosing hostile speech. Toxicity had the highest level of disagreement. Highly disputed comments make up about 7-9% of the total reviews.\n",
    "\n",
    "There is certainly bias present in the dataset when examining the level of disagreement among reviewers. Toxicity has the highest level of disagreement, and I believe that this is based on an ambigious definition of the term. From the Detox data definitions, toxic is described as \"perceived as likely to make people want to leave the discussion\". People have wide-ranging political, religious, and cultural beliefs. While outright insults and taunts wouldn't be disputed, there is certain subject matter that would be deemed offensive or \"toxic\" based on the reviewers' beliefs. The fact that close to 10% of comments were highly disagreed upon invites bias into any model that is trained on this dataset. There may be topics or words used that were deemed offensive to the reviewers that may not be considered offensive to others ~10% of the time. By introducing variables for flagging content that are up to interpretation, there will always be inherent bias in the model."
   ]
  },
  {
   "cell_type": "markdown",
   "metadata": {},
   "source": [
    "## Further Implications\n",
    "\n",
    "I reviewed the demo applications listed in the “Perspective Hacks” gallery from Perspective API. Based on what I know about the Wikipedia Talk corpus from the analysis that was performed, I answered the following questions:\n",
    "\n",
    "\n",
    "### Which, if any, of these demo applications would you expect the Perspective API—or any model trained on the Wikipedia Talk corpus—to perform well in? Why?\n",
    "\n",
    "I believe that any model trained on this corpus would perform well in \"WikiDetox\" (based on being trained on Wikipedia data), \"Hot Topics\", and \"Authorship Feedback\". \"Hot Topics\" is designed to notify the community of a potential hot topic. Wikipedia has articles on virtually all topics and would be able to associate those with a high level of \"hostile\" comments in its own corpus. Authorship feedback could also be successful because it provides suggestions of potentially hostile speech to the author. With the feedback option, the author can evaluate for themselves whether or not the feedback is appropriate (which it should be most of the time due to similar environments).\n",
    "\n",
    "### What are some kinds of hostile speech that would be difficult to accurately detect using the approach used to train the Perspective API models?\n",
    "\n",
    "Hostile speech would be difficult to accurately detect if the words used were specific to a certain platform (i.e. lingo that is only used within a certain application/comment space) or if it was in a language that is not recognized by the models. This could be corrected for by training the models on data that is specific to the platform it is used on, or incorporating more translations.\n",
    "\n",
    "### What are some potential unintended, negative consequences of using the Perspective API for any of these purposes? In your opinion, are these consequences likely or serious enough that you would recommend that the Perspective API not be used in these applications? Why or why not?\n",
    "\n",
    "I think that some of the negative consequences of the Perspective API use cases are clear from the above analysis. There is an almost 10% disagreement rate on some types of hostile language. Therefore, cases like \"Behave!\", that replace toxic comments with emojis, I would not recommend for use. The model is not going to perform perfectly, so using it to completely filter out comments could prevent potentially useful discussion from reaching the comment board. I think that the \"Slider\" and \"Filter\" methods that allow users to set the \"toxicity\" level might be more appropriate because users then have the ability to filter out cases that are hostile with a higher degree of certainty and keep the borderline cases."
   ]
  }
 ],
 "metadata": {
  "kernelspec": {
   "display_name": "Python 3",
   "language": "python",
   "name": "python3"
  },
  "language_info": {
   "codemirror_mode": {
    "name": "ipython",
    "version": 3
   },
   "file_extension": ".py",
   "mimetype": "text/x-python",
   "name": "python",
   "nbconvert_exporter": "python",
   "pygments_lexer": "ipython3",
   "version": "3.7.4"
  }
 },
 "nbformat": 4,
 "nbformat_minor": 4
}
